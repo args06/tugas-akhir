{
 "cells": [
  {
   "cell_type": "code",
   "execution_count": 2,
   "metadata": {},
   "outputs": [],
   "source": [
    "#Import Library\n",
    "import numpy as np\n",
    "import pandas as pd\n",
    "import matplotlib.pyplot as plt\n",
    "import datetime as dt\n",
    "import plotly.express as px\n",
    "\n",
    "from sklearn.preprocessing import StandardScaler\n",
    "from sklearn.preprocessing import MinMaxScaler\n",
    "from sklearn.neighbors import LocalOutlierFactor\n",
    "from sklearn.cluster import KMeans\n",
    "from sklearn.metrics import silhouette_score\n",
    "from sklearn.metrics import silhouette_samples\n",
    "from sklearn.decomposition import PCA\n",
    "from yellowbrick.cluster import KElbowVisualizer\n",
    "from yellowbrick.cluster import SilhouetteVisualizer, InterclusterDistance"
   ]
  },
  {
   "cell_type": "code",
   "execution_count": 26,
   "metadata": {},
   "outputs": [
    {
     "data": {
      "text/html": [
       "<div>\n",
       "<style scoped>\n",
       "    .dataframe tbody tr th:only-of-type {\n",
       "        vertical-align: middle;\n",
       "    }\n",
       "\n",
       "    .dataframe tbody tr th {\n",
       "        vertical-align: top;\n",
       "    }\n",
       "\n",
       "    .dataframe thead th {\n",
       "        text-align: right;\n",
       "    }\n",
       "</style>\n",
       "<table border=\"1\" class=\"dataframe\">\n",
       "  <thead>\n",
       "    <tr style=\"text-align: right;\">\n",
       "      <th></th>\n",
       "      <th>Timestamp</th>\n",
       "      <th>EmailAddress</th>\n",
       "      <th>NamaLengkap</th>\n",
       "      <th>NIM</th>\n",
       "      <th>Angkatan</th>\n",
       "      <th>GolonganUKT</th>\n",
       "      <th>NoHP</th>\n",
       "      <th>IPGanjil</th>\n",
       "      <th>OrganisasiGanjil</th>\n",
       "      <th>KerjaGanjil</th>\n",
       "      <th>SKSGanjil</th>\n",
       "      <th>IPGenap</th>\n",
       "      <th>OrganisasiGenap</th>\n",
       "      <th>KerjaGenap</th>\n",
       "      <th>SKSGenap</th>\n",
       "    </tr>\n",
       "  </thead>\n",
       "  <tbody>\n",
       "    <tr>\n",
       "      <th>0</th>\n",
       "      <td>23/09/2022 16:57</td>\n",
       "      <td>all4yandaru@gmail.com</td>\n",
       "      <td>Liek Allyandaru</td>\n",
       "      <td>123180054</td>\n",
       "      <td>2018</td>\n",
       "      <td>4</td>\n",
       "      <td>82136564484</td>\n",
       "      <td>3.83</td>\n",
       "      <td>Ya</td>\n",
       "      <td>Tidak</td>\n",
       "      <td>21</td>\n",
       "      <td>3.96</td>\n",
       "      <td>Tidak</td>\n",
       "      <td>Tidak</td>\n",
       "      <td>24</td>\n",
       "    </tr>\n",
       "    <tr>\n",
       "      <th>1</th>\n",
       "      <td>23/09/2022 18:16</td>\n",
       "      <td>isnan.rizqikurniawan@gmail.com</td>\n",
       "      <td>Isnan Rizqi Kurniawan</td>\n",
       "      <td>123170041</td>\n",
       "      <td>2017</td>\n",
       "      <td>4</td>\n",
       "      <td>81215255331</td>\n",
       "      <td>3.83</td>\n",
       "      <td>Ya</td>\n",
       "      <td>Tidak</td>\n",
       "      <td>23</td>\n",
       "      <td>3.80</td>\n",
       "      <td>Ya</td>\n",
       "      <td>Tidak</td>\n",
       "      <td>21</td>\n",
       "    </tr>\n",
       "    <tr>\n",
       "      <th>2</th>\n",
       "      <td>23/09/2022 18:20</td>\n",
       "      <td>michelpiercetahya@gmail.com</td>\n",
       "      <td>Michel Pierce Tahya</td>\n",
       "      <td>123210103</td>\n",
       "      <td>2021</td>\n",
       "      <td>5</td>\n",
       "      <td>85156441564</td>\n",
       "      <td>3.90</td>\n",
       "      <td>Tidak</td>\n",
       "      <td>Tidak</td>\n",
       "      <td>24</td>\n",
       "      <td>3.70</td>\n",
       "      <td>Ya</td>\n",
       "      <td>Tidak</td>\n",
       "      <td>22</td>\n",
       "    </tr>\n",
       "    <tr>\n",
       "      <th>3</th>\n",
       "      <td>23/09/2022 18:20</td>\n",
       "      <td>indahyaniomel@gmail.com</td>\n",
       "      <td>Indahyani</td>\n",
       "      <td>123180013</td>\n",
       "      <td>2018</td>\n",
       "      <td>1</td>\n",
       "      <td>-</td>\n",
       "      <td>3.60</td>\n",
       "      <td>Tidak</td>\n",
       "      <td>Tidak</td>\n",
       "      <td>22</td>\n",
       "      <td>2.83</td>\n",
       "      <td>Tidak</td>\n",
       "      <td>Tidak</td>\n",
       "      <td>22</td>\n",
       "    </tr>\n",
       "    <tr>\n",
       "      <th>4</th>\n",
       "      <td>23/09/2022 18:20</td>\n",
       "      <td>dilaajengm@gmail.com</td>\n",
       "      <td>Dila Ajeng Meiliawati</td>\n",
       "      <td>123180009</td>\n",
       "      <td>2018</td>\n",
       "      <td>4</td>\n",
       "      <td>81275270774</td>\n",
       "      <td>3.62</td>\n",
       "      <td>Tidak</td>\n",
       "      <td>Tidak</td>\n",
       "      <td>21</td>\n",
       "      <td>3.70</td>\n",
       "      <td>Tidak</td>\n",
       "      <td>Tidak</td>\n",
       "      <td>23</td>\n",
       "    </tr>\n",
       "    <tr>\n",
       "      <th>...</th>\n",
       "      <td>...</td>\n",
       "      <td>...</td>\n",
       "      <td>...</td>\n",
       "      <td>...</td>\n",
       "      <td>...</td>\n",
       "      <td>...</td>\n",
       "      <td>...</td>\n",
       "      <td>...</td>\n",
       "      <td>...</td>\n",
       "      <td>...</td>\n",
       "      <td>...</td>\n",
       "      <td>...</td>\n",
       "      <td>...</td>\n",
       "      <td>...</td>\n",
       "      <td>...</td>\n",
       "    </tr>\n",
       "    <tr>\n",
       "      <th>205</th>\n",
       "      <td>12/10/2022 10:52</td>\n",
       "      <td>anggita.setiyani@gmail.com</td>\n",
       "      <td>Anggita Setiyani Putri</td>\n",
       "      <td>124190037</td>\n",
       "      <td>2019</td>\n",
       "      <td>2</td>\n",
       "      <td>-</td>\n",
       "      <td>3.82</td>\n",
       "      <td>Ya</td>\n",
       "      <td>Tidak</td>\n",
       "      <td>24</td>\n",
       "      <td>3.48</td>\n",
       "      <td>Tidak</td>\n",
       "      <td>Ya</td>\n",
       "      <td>22</td>\n",
       "    </tr>\n",
       "    <tr>\n",
       "      <th>206</th>\n",
       "      <td>12/10/2022 11:11</td>\n",
       "      <td>123210098@student.upnyk.ac.id</td>\n",
       "      <td>Aditya Prayoga</td>\n",
       "      <td>123210098</td>\n",
       "      <td>2021</td>\n",
       "      <td>3</td>\n",
       "      <td>Gak usah mas</td>\n",
       "      <td>3.86</td>\n",
       "      <td>Ya</td>\n",
       "      <td>Tidak</td>\n",
       "      <td>24</td>\n",
       "      <td>3.60</td>\n",
       "      <td>Tidak</td>\n",
       "      <td>Tidak</td>\n",
       "      <td>23</td>\n",
       "    </tr>\n",
       "    <tr>\n",
       "      <th>207</th>\n",
       "      <td>12/10/2022 13:13</td>\n",
       "      <td>aliyahalmairah1506@gmail.com</td>\n",
       "      <td>A. Aliyah Almairah Syarif Putri</td>\n",
       "      <td>123190003</td>\n",
       "      <td>2019</td>\n",
       "      <td>4</td>\n",
       "      <td>89606347306</td>\n",
       "      <td>3.65</td>\n",
       "      <td>Ya</td>\n",
       "      <td>Tidak</td>\n",
       "      <td>22</td>\n",
       "      <td>3.11</td>\n",
       "      <td>Ya</td>\n",
       "      <td>Tidak</td>\n",
       "      <td>24</td>\n",
       "    </tr>\n",
       "    <tr>\n",
       "      <th>208</th>\n",
       "      <td>12/10/2022 15:32</td>\n",
       "      <td>nikolasnanda@gmail.com</td>\n",
       "      <td>Nicholas Nanda Sulaksana</td>\n",
       "      <td>123180049</td>\n",
       "      <td>2018</td>\n",
       "      <td>4</td>\n",
       "      <td>6.28E+12</td>\n",
       "      <td>3.83</td>\n",
       "      <td>Ya</td>\n",
       "      <td>Tidak</td>\n",
       "      <td>21</td>\n",
       "      <td>4.00</td>\n",
       "      <td>Ya</td>\n",
       "      <td>Tidak</td>\n",
       "      <td>21</td>\n",
       "    </tr>\n",
       "    <tr>\n",
       "      <th>209</th>\n",
       "      <td>12/10/2022 19:24</td>\n",
       "      <td>nuriyatussholihah18@gmail.com</td>\n",
       "      <td>Nuriyatus Sholihah</td>\n",
       "      <td>123210129</td>\n",
       "      <td>2021</td>\n",
       "      <td>0</td>\n",
       "      <td>87728460042</td>\n",
       "      <td>3.57</td>\n",
       "      <td>Ya</td>\n",
       "      <td>Tidak</td>\n",
       "      <td>21</td>\n",
       "      <td>3.55</td>\n",
       "      <td>Ya</td>\n",
       "      <td>Tidak</td>\n",
       "      <td>23</td>\n",
       "    </tr>\n",
       "  </tbody>\n",
       "</table>\n",
       "<p>210 rows × 15 columns</p>\n",
       "</div>"
      ],
      "text/plain": [
       "            Timestamp                    EmailAddress  \\\n",
       "0    23/09/2022 16:57           all4yandaru@gmail.com   \n",
       "1    23/09/2022 18:16  isnan.rizqikurniawan@gmail.com   \n",
       "2    23/09/2022 18:20     michelpiercetahya@gmail.com   \n",
       "3    23/09/2022 18:20         indahyaniomel@gmail.com   \n",
       "4    23/09/2022 18:20            dilaajengm@gmail.com   \n",
       "..                ...                             ...   \n",
       "205  12/10/2022 10:52      anggita.setiyani@gmail.com   \n",
       "206  12/10/2022 11:11   123210098@student.upnyk.ac.id   \n",
       "207  12/10/2022 13:13    aliyahalmairah1506@gmail.com   \n",
       "208  12/10/2022 15:32          nikolasnanda@gmail.com   \n",
       "209  12/10/2022 19:24   nuriyatussholihah18@gmail.com   \n",
       "\n",
       "                         NamaLengkap        NIM  Angkatan  GolonganUKT  \\\n",
       "0                    Liek Allyandaru  123180054      2018            4   \n",
       "1              Isnan Rizqi Kurniawan  123170041      2017            4   \n",
       "2                Michel Pierce Tahya  123210103      2021            5   \n",
       "3                         Indahyani   123180013      2018            1   \n",
       "4              Dila Ajeng Meiliawati  123180009      2018            4   \n",
       "..                               ...        ...       ...          ...   \n",
       "205           Anggita Setiyani Putri  124190037      2019            2   \n",
       "206                   Aditya Prayoga  123210098      2021            3   \n",
       "207  A. Aliyah Almairah Syarif Putri  123190003      2019            4   \n",
       "208         Nicholas Nanda Sulaksana  123180049      2018            4   \n",
       "209               Nuriyatus Sholihah  123210129      2021            0   \n",
       "\n",
       "             NoHP  IPGanjil OrganisasiGanjil KerjaGanjil  SKSGanjil  IPGenap  \\\n",
       "0     82136564484      3.83               Ya       Tidak         21     3.96   \n",
       "1     81215255331      3.83               Ya       Tidak         23     3.80   \n",
       "2     85156441564      3.90            Tidak       Tidak         24     3.70   \n",
       "3               -      3.60            Tidak       Tidak         22     2.83   \n",
       "4     81275270774      3.62            Tidak       Tidak         21     3.70   \n",
       "..            ...       ...              ...         ...        ...      ...   \n",
       "205             -      3.82               Ya       Tidak         24     3.48   \n",
       "206  Gak usah mas      3.86               Ya       Tidak         24     3.60   \n",
       "207   89606347306      3.65               Ya       Tidak         22     3.11   \n",
       "208      6.28E+12      3.83               Ya       Tidak         21     4.00   \n",
       "209   87728460042      3.57               Ya       Tidak         21     3.55   \n",
       "\n",
       "    OrganisasiGenap KerjaGenap  SKSGenap  \n",
       "0             Tidak      Tidak        24  \n",
       "1                Ya      Tidak        21  \n",
       "2                Ya      Tidak        22  \n",
       "3             Tidak      Tidak        22  \n",
       "4             Tidak      Tidak        23  \n",
       "..              ...        ...       ...  \n",
       "205           Tidak         Ya        22  \n",
       "206           Tidak      Tidak        23  \n",
       "207              Ya      Tidak        24  \n",
       "208              Ya      Tidak        21  \n",
       "209              Ya      Tidak        23  \n",
       "\n",
       "[210 rows x 15 columns]"
      ]
     },
     "execution_count": 26,
     "metadata": {},
     "output_type": "execute_result"
    }
   ],
   "source": [
    "# Import Data\n",
    "# Data awal disimpan kedalam frame data\n",
    "data = pd.read_csv('dataset/datasetFull.csv')\n",
    "data"
   ]
  },
  {
   "cell_type": "code",
   "execution_count": 27,
   "metadata": {},
   "outputs": [
    {
     "data": {
      "text/html": [
       "<div>\n",
       "<style scoped>\n",
       "    .dataframe tbody tr th:only-of-type {\n",
       "        vertical-align: middle;\n",
       "    }\n",
       "\n",
       "    .dataframe tbody tr th {\n",
       "        vertical-align: top;\n",
       "    }\n",
       "\n",
       "    .dataframe thead th {\n",
       "        text-align: right;\n",
       "    }\n",
       "</style>\n",
       "<table border=\"1\" class=\"dataframe\">\n",
       "  <thead>\n",
       "    <tr style=\"text-align: right;\">\n",
       "      <th></th>\n",
       "      <th>Angkatan</th>\n",
       "      <th>Count</th>\n",
       "    </tr>\n",
       "  </thead>\n",
       "  <tbody>\n",
       "    <tr>\n",
       "      <th>0</th>\n",
       "      <td>2018</td>\n",
       "      <td>65</td>\n",
       "    </tr>\n",
       "    <tr>\n",
       "      <th>1</th>\n",
       "      <td>2019</td>\n",
       "      <td>47</td>\n",
       "    </tr>\n",
       "    <tr>\n",
       "      <th>2</th>\n",
       "      <td>2020</td>\n",
       "      <td>43</td>\n",
       "    </tr>\n",
       "    <tr>\n",
       "      <th>3</th>\n",
       "      <td>2021</td>\n",
       "      <td>42</td>\n",
       "    </tr>\n",
       "    <tr>\n",
       "      <th>4</th>\n",
       "      <td>2017</td>\n",
       "      <td>13</td>\n",
       "    </tr>\n",
       "  </tbody>\n",
       "</table>\n",
       "</div>"
      ],
      "text/plain": [
       "   Angkatan  Count\n",
       "0      2018     65\n",
       "1      2019     47\n",
       "2      2020     43\n",
       "3      2021     42\n",
       "4      2017     13"
      ]
     },
     "execution_count": 27,
     "metadata": {},
     "output_type": "execute_result"
    }
   ],
   "source": [
    "# Data banyaknya angkatan\n",
    "angkatan = pd.DataFrame(data['Angkatan'].value_counts()).reset_index()\n",
    "angkatan = angkatan.rename(columns={'Angkatan': 'Count'})\n",
    "angkatan = angkatan.rename(columns={'index': 'Angkatan'})\n",
    "angkatan = angkatan.head(5)\n",
    "angkatan"
   ]
  },
  {
   "cell_type": "code",
   "execution_count": 28,
   "metadata": {},
   "outputs": [],
   "source": [
    "# Penghapusan kolom data yang tidak digunakan\n",
    "columns = ['Timestamp','EmailAddress','NamaLengkap','NIM','NoHP']\n",
    "dataFilter = data.copy()\n",
    "dataFilter.drop(columns, inplace= True, axis=1)\n",
    "# dataFilter.drop(dataFilter[dataFilter.IPGanjil < 3.33].index, inplace=True)\n",
    "# dataFilter.drop(dataFilter[dataFilter.IPGenap < 2.8].index, inplace=True)\n",
    "dataFilter = dataFilter.reset_index()"
   ]
  },
  {
   "cell_type": "code",
   "execution_count": 29,
   "metadata": {},
   "outputs": [
    {
     "data": {
      "text/html": [
       "<div>\n",
       "<style scoped>\n",
       "    .dataframe tbody tr th:only-of-type {\n",
       "        vertical-align: middle;\n",
       "    }\n",
       "\n",
       "    .dataframe tbody tr th {\n",
       "        vertical-align: top;\n",
       "    }\n",
       "\n",
       "    .dataframe thead th {\n",
       "        text-align: right;\n",
       "    }\n",
       "</style>\n",
       "<table border=\"1\" class=\"dataframe\">\n",
       "  <thead>\n",
       "    <tr style=\"text-align: right;\">\n",
       "      <th></th>\n",
       "      <th>index</th>\n",
       "      <th>Angkatan</th>\n",
       "      <th>GolonganUKT</th>\n",
       "      <th>IPGanjil</th>\n",
       "      <th>OrganisasiGanjil</th>\n",
       "      <th>KerjaGanjil</th>\n",
       "      <th>SKSGanjil</th>\n",
       "      <th>IPGenap</th>\n",
       "      <th>OrganisasiGenap</th>\n",
       "      <th>KerjaGenap</th>\n",
       "      <th>SKSGenap</th>\n",
       "    </tr>\n",
       "  </thead>\n",
       "  <tbody>\n",
       "    <tr>\n",
       "      <th>0</th>\n",
       "      <td>0</td>\n",
       "      <td>3</td>\n",
       "      <td>4</td>\n",
       "      <td>3.83</td>\n",
       "      <td>1</td>\n",
       "      <td>0</td>\n",
       "      <td>21</td>\n",
       "      <td>3.96</td>\n",
       "      <td>0</td>\n",
       "      <td>0</td>\n",
       "      <td>24</td>\n",
       "    </tr>\n",
       "    <tr>\n",
       "      <th>1</th>\n",
       "      <td>1</td>\n",
       "      <td>4</td>\n",
       "      <td>4</td>\n",
       "      <td>3.83</td>\n",
       "      <td>1</td>\n",
       "      <td>0</td>\n",
       "      <td>23</td>\n",
       "      <td>3.80</td>\n",
       "      <td>1</td>\n",
       "      <td>0</td>\n",
       "      <td>21</td>\n",
       "    </tr>\n",
       "    <tr>\n",
       "      <th>2</th>\n",
       "      <td>2</td>\n",
       "      <td>0</td>\n",
       "      <td>5</td>\n",
       "      <td>3.90</td>\n",
       "      <td>0</td>\n",
       "      <td>0</td>\n",
       "      <td>24</td>\n",
       "      <td>3.70</td>\n",
       "      <td>1</td>\n",
       "      <td>0</td>\n",
       "      <td>22</td>\n",
       "    </tr>\n",
       "    <tr>\n",
       "      <th>3</th>\n",
       "      <td>3</td>\n",
       "      <td>3</td>\n",
       "      <td>1</td>\n",
       "      <td>3.60</td>\n",
       "      <td>0</td>\n",
       "      <td>0</td>\n",
       "      <td>22</td>\n",
       "      <td>2.83</td>\n",
       "      <td>0</td>\n",
       "      <td>0</td>\n",
       "      <td>22</td>\n",
       "    </tr>\n",
       "    <tr>\n",
       "      <th>4</th>\n",
       "      <td>4</td>\n",
       "      <td>3</td>\n",
       "      <td>4</td>\n",
       "      <td>3.62</td>\n",
       "      <td>0</td>\n",
       "      <td>0</td>\n",
       "      <td>21</td>\n",
       "      <td>3.70</td>\n",
       "      <td>0</td>\n",
       "      <td>0</td>\n",
       "      <td>23</td>\n",
       "    </tr>\n",
       "    <tr>\n",
       "      <th>...</th>\n",
       "      <td>...</td>\n",
       "      <td>...</td>\n",
       "      <td>...</td>\n",
       "      <td>...</td>\n",
       "      <td>...</td>\n",
       "      <td>...</td>\n",
       "      <td>...</td>\n",
       "      <td>...</td>\n",
       "      <td>...</td>\n",
       "      <td>...</td>\n",
       "      <td>...</td>\n",
       "    </tr>\n",
       "    <tr>\n",
       "      <th>205</th>\n",
       "      <td>205</td>\n",
       "      <td>2</td>\n",
       "      <td>2</td>\n",
       "      <td>3.82</td>\n",
       "      <td>1</td>\n",
       "      <td>0</td>\n",
       "      <td>24</td>\n",
       "      <td>3.48</td>\n",
       "      <td>0</td>\n",
       "      <td>1</td>\n",
       "      <td>22</td>\n",
       "    </tr>\n",
       "    <tr>\n",
       "      <th>206</th>\n",
       "      <td>206</td>\n",
       "      <td>0</td>\n",
       "      <td>3</td>\n",
       "      <td>3.86</td>\n",
       "      <td>1</td>\n",
       "      <td>0</td>\n",
       "      <td>24</td>\n",
       "      <td>3.60</td>\n",
       "      <td>0</td>\n",
       "      <td>0</td>\n",
       "      <td>23</td>\n",
       "    </tr>\n",
       "    <tr>\n",
       "      <th>207</th>\n",
       "      <td>207</td>\n",
       "      <td>2</td>\n",
       "      <td>4</td>\n",
       "      <td>3.65</td>\n",
       "      <td>1</td>\n",
       "      <td>0</td>\n",
       "      <td>22</td>\n",
       "      <td>3.11</td>\n",
       "      <td>1</td>\n",
       "      <td>0</td>\n",
       "      <td>24</td>\n",
       "    </tr>\n",
       "    <tr>\n",
       "      <th>208</th>\n",
       "      <td>208</td>\n",
       "      <td>3</td>\n",
       "      <td>4</td>\n",
       "      <td>3.83</td>\n",
       "      <td>1</td>\n",
       "      <td>0</td>\n",
       "      <td>21</td>\n",
       "      <td>4.00</td>\n",
       "      <td>1</td>\n",
       "      <td>0</td>\n",
       "      <td>21</td>\n",
       "    </tr>\n",
       "    <tr>\n",
       "      <th>209</th>\n",
       "      <td>209</td>\n",
       "      <td>0</td>\n",
       "      <td>0</td>\n",
       "      <td>3.57</td>\n",
       "      <td>1</td>\n",
       "      <td>0</td>\n",
       "      <td>21</td>\n",
       "      <td>3.55</td>\n",
       "      <td>1</td>\n",
       "      <td>0</td>\n",
       "      <td>23</td>\n",
       "    </tr>\n",
       "  </tbody>\n",
       "</table>\n",
       "<p>210 rows × 11 columns</p>\n",
       "</div>"
      ],
      "text/plain": [
       "     index  Angkatan  GolonganUKT  IPGanjil  OrganisasiGanjil  KerjaGanjil  \\\n",
       "0        0         3            4      3.83                 1            0   \n",
       "1        1         4            4      3.83                 1            0   \n",
       "2        2         0            5      3.90                 0            0   \n",
       "3        3         3            1      3.60                 0            0   \n",
       "4        4         3            4      3.62                 0            0   \n",
       "..     ...       ...          ...       ...               ...          ...   \n",
       "205    205         2            2      3.82                 1            0   \n",
       "206    206         0            3      3.86                 1            0   \n",
       "207    207         2            4      3.65                 1            0   \n",
       "208    208         3            4      3.83                 1            0   \n",
       "209    209         0            0      3.57                 1            0   \n",
       "\n",
       "     SKSGanjil  IPGenap  OrganisasiGenap  KerjaGenap  SKSGenap  \n",
       "0           21     3.96                0           0        24  \n",
       "1           23     3.80                1           0        21  \n",
       "2           24     3.70                1           0        22  \n",
       "3           22     2.83                0           0        22  \n",
       "4           21     3.70                0           0        23  \n",
       "..         ...      ...              ...         ...       ...  \n",
       "205         24     3.48                0           1        22  \n",
       "206         24     3.60                0           0        23  \n",
       "207         22     3.11                1           0        24  \n",
       "208         21     4.00                1           0        21  \n",
       "209         21     3.55                1           0        23  \n",
       "\n",
       "[210 rows x 11 columns]"
      ]
     },
     "execution_count": 29,
     "metadata": {},
     "output_type": "execute_result"
    }
   ],
   "source": [
    "yesNoIndex = {'Ya':1,'Tidak':0}\n",
    "angkatan = {2021:0,2020:1,2019:2,2018:3,2017:4}\n",
    "dataFilter = dataFilter.replace(yesNoIndex)\n",
    "dataFilter = dataFilter.replace(angkatan)\n",
    "dataFilter"
   ]
  },
  {
   "cell_type": "code",
   "execution_count": 30,
   "metadata": {},
   "outputs": [
    {
     "data": {
      "text/html": [
       "<div>\n",
       "<style scoped>\n",
       "    .dataframe tbody tr th:only-of-type {\n",
       "        vertical-align: middle;\n",
       "    }\n",
       "\n",
       "    .dataframe tbody tr th {\n",
       "        vertical-align: top;\n",
       "    }\n",
       "\n",
       "    .dataframe thead th {\n",
       "        text-align: right;\n",
       "    }\n",
       "</style>\n",
       "<table border=\"1\" class=\"dataframe\">\n",
       "  <thead>\n",
       "    <tr style=\"text-align: right;\">\n",
       "      <th></th>\n",
       "      <th>Angkatan</th>\n",
       "      <th>GolonganUKT</th>\n",
       "      <th>IPGenap</th>\n",
       "      <th>SKSGenap</th>\n",
       "      <th>OrganisasiGenap</th>\n",
       "      <th>KerjaGenap</th>\n",
       "    </tr>\n",
       "  </thead>\n",
       "  <tbody>\n",
       "    <tr>\n",
       "      <th>0</th>\n",
       "      <td>3</td>\n",
       "      <td>4</td>\n",
       "      <td>3.96</td>\n",
       "      <td>24</td>\n",
       "      <td>0</td>\n",
       "      <td>0</td>\n",
       "    </tr>\n",
       "    <tr>\n",
       "      <th>1</th>\n",
       "      <td>4</td>\n",
       "      <td>4</td>\n",
       "      <td>3.80</td>\n",
       "      <td>21</td>\n",
       "      <td>1</td>\n",
       "      <td>0</td>\n",
       "    </tr>\n",
       "    <tr>\n",
       "      <th>2</th>\n",
       "      <td>0</td>\n",
       "      <td>5</td>\n",
       "      <td>3.70</td>\n",
       "      <td>22</td>\n",
       "      <td>1</td>\n",
       "      <td>0</td>\n",
       "    </tr>\n",
       "    <tr>\n",
       "      <th>3</th>\n",
       "      <td>3</td>\n",
       "      <td>1</td>\n",
       "      <td>2.83</td>\n",
       "      <td>22</td>\n",
       "      <td>0</td>\n",
       "      <td>0</td>\n",
       "    </tr>\n",
       "    <tr>\n",
       "      <th>4</th>\n",
       "      <td>3</td>\n",
       "      <td>4</td>\n",
       "      <td>3.70</td>\n",
       "      <td>23</td>\n",
       "      <td>0</td>\n",
       "      <td>0</td>\n",
       "    </tr>\n",
       "    <tr>\n",
       "      <th>...</th>\n",
       "      <td>...</td>\n",
       "      <td>...</td>\n",
       "      <td>...</td>\n",
       "      <td>...</td>\n",
       "      <td>...</td>\n",
       "      <td>...</td>\n",
       "    </tr>\n",
       "    <tr>\n",
       "      <th>205</th>\n",
       "      <td>2</td>\n",
       "      <td>2</td>\n",
       "      <td>3.48</td>\n",
       "      <td>22</td>\n",
       "      <td>0</td>\n",
       "      <td>1</td>\n",
       "    </tr>\n",
       "    <tr>\n",
       "      <th>206</th>\n",
       "      <td>0</td>\n",
       "      <td>3</td>\n",
       "      <td>3.60</td>\n",
       "      <td>23</td>\n",
       "      <td>0</td>\n",
       "      <td>0</td>\n",
       "    </tr>\n",
       "    <tr>\n",
       "      <th>207</th>\n",
       "      <td>2</td>\n",
       "      <td>4</td>\n",
       "      <td>3.11</td>\n",
       "      <td>24</td>\n",
       "      <td>1</td>\n",
       "      <td>0</td>\n",
       "    </tr>\n",
       "    <tr>\n",
       "      <th>208</th>\n",
       "      <td>3</td>\n",
       "      <td>4</td>\n",
       "      <td>4.00</td>\n",
       "      <td>21</td>\n",
       "      <td>1</td>\n",
       "      <td>0</td>\n",
       "    </tr>\n",
       "    <tr>\n",
       "      <th>209</th>\n",
       "      <td>0</td>\n",
       "      <td>0</td>\n",
       "      <td>3.55</td>\n",
       "      <td>23</td>\n",
       "      <td>1</td>\n",
       "      <td>0</td>\n",
       "    </tr>\n",
       "  </tbody>\n",
       "</table>\n",
       "<p>210 rows × 6 columns</p>\n",
       "</div>"
      ],
      "text/plain": [
       "     Angkatan  GolonganUKT  IPGenap  SKSGenap  OrganisasiGenap  KerjaGenap\n",
       "0           3            4     3.96        24                0           0\n",
       "1           4            4     3.80        21                1           0\n",
       "2           0            5     3.70        22                1           0\n",
       "3           3            1     2.83        22                0           0\n",
       "4           3            4     3.70        23                0           0\n",
       "..        ...          ...      ...       ...              ...         ...\n",
       "205         2            2     3.48        22                0           1\n",
       "206         0            3     3.60        23                0           0\n",
       "207         2            4     3.11        24                1           0\n",
       "208         3            4     4.00        21                1           0\n",
       "209         0            0     3.55        23                1           0\n",
       "\n",
       "[210 rows x 6 columns]"
      ]
     },
     "execution_count": 30,
     "metadata": {},
     "output_type": "execute_result"
    }
   ],
   "source": [
    "dataGanjil = dataFilter[['Angkatan','GolonganUKT','IPGanjil','SKSGanjil','OrganisasiGanjil','KerjaGanjil']]\n",
    "dataGenap = dataFilter[['Angkatan','GolonganUKT','IPGenap','SKSGenap','OrganisasiGenap','KerjaGenap']]\n",
    "dataGenap"
   ]
  },
  {
   "cell_type": "code",
   "execution_count": 31,
   "metadata": {},
   "outputs": [
    {
     "data": {
      "text/html": [
       "<div>\n",
       "<style scoped>\n",
       "    .dataframe tbody tr th:only-of-type {\n",
       "        vertical-align: middle;\n",
       "    }\n",
       "\n",
       "    .dataframe tbody tr th {\n",
       "        vertical-align: top;\n",
       "    }\n",
       "\n",
       "    .dataframe thead th {\n",
       "        text-align: right;\n",
       "    }\n",
       "</style>\n",
       "<table border=\"1\" class=\"dataframe\">\n",
       "  <thead>\n",
       "    <tr style=\"text-align: right;\">\n",
       "      <th></th>\n",
       "      <th>GolonganUKT</th>\n",
       "      <th>IP</th>\n",
       "      <th>Organisasi</th>\n",
       "      <th>Kerja</th>\n",
       "    </tr>\n",
       "  </thead>\n",
       "  <tbody>\n",
       "    <tr>\n",
       "      <th>0</th>\n",
       "      <td>4</td>\n",
       "      <td>3.96</td>\n",
       "      <td>0</td>\n",
       "      <td>0</td>\n",
       "    </tr>\n",
       "    <tr>\n",
       "      <th>1</th>\n",
       "      <td>4</td>\n",
       "      <td>3.80</td>\n",
       "      <td>1</td>\n",
       "      <td>0</td>\n",
       "    </tr>\n",
       "    <tr>\n",
       "      <th>2</th>\n",
       "      <td>5</td>\n",
       "      <td>3.70</td>\n",
       "      <td>1</td>\n",
       "      <td>0</td>\n",
       "    </tr>\n",
       "    <tr>\n",
       "      <th>3</th>\n",
       "      <td>1</td>\n",
       "      <td>2.83</td>\n",
       "      <td>0</td>\n",
       "      <td>0</td>\n",
       "    </tr>\n",
       "    <tr>\n",
       "      <th>4</th>\n",
       "      <td>4</td>\n",
       "      <td>3.70</td>\n",
       "      <td>0</td>\n",
       "      <td>0</td>\n",
       "    </tr>\n",
       "    <tr>\n",
       "      <th>...</th>\n",
       "      <td>...</td>\n",
       "      <td>...</td>\n",
       "      <td>...</td>\n",
       "      <td>...</td>\n",
       "    </tr>\n",
       "    <tr>\n",
       "      <th>205</th>\n",
       "      <td>2</td>\n",
       "      <td>3.48</td>\n",
       "      <td>0</td>\n",
       "      <td>1</td>\n",
       "    </tr>\n",
       "    <tr>\n",
       "      <th>206</th>\n",
       "      <td>3</td>\n",
       "      <td>3.60</td>\n",
       "      <td>0</td>\n",
       "      <td>0</td>\n",
       "    </tr>\n",
       "    <tr>\n",
       "      <th>207</th>\n",
       "      <td>4</td>\n",
       "      <td>3.11</td>\n",
       "      <td>1</td>\n",
       "      <td>0</td>\n",
       "    </tr>\n",
       "    <tr>\n",
       "      <th>208</th>\n",
       "      <td>4</td>\n",
       "      <td>4.00</td>\n",
       "      <td>1</td>\n",
       "      <td>0</td>\n",
       "    </tr>\n",
       "    <tr>\n",
       "      <th>209</th>\n",
       "      <td>0</td>\n",
       "      <td>3.55</td>\n",
       "      <td>1</td>\n",
       "      <td>0</td>\n",
       "    </tr>\n",
       "  </tbody>\n",
       "</table>\n",
       "<p>210 rows × 4 columns</p>\n",
       "</div>"
      ],
      "text/plain": [
       "     GolonganUKT    IP  Organisasi  Kerja\n",
       "0              4  3.96           0      0\n",
       "1              4  3.80           1      0\n",
       "2              5  3.70           1      0\n",
       "3              1  2.83           0      0\n",
       "4              4  3.70           0      0\n",
       "..           ...   ...         ...    ...\n",
       "205            2  3.48           0      1\n",
       "206            3  3.60           0      0\n",
       "207            4  3.11           1      0\n",
       "208            4  4.00           1      0\n",
       "209            0  3.55           1      0\n",
       "\n",
       "[210 rows x 4 columns]"
      ]
     },
     "execution_count": 31,
     "metadata": {},
     "output_type": "execute_result"
    }
   ],
   "source": [
    "dataFinal = pd.DataFrame({\n",
    "    # 'Angkatan'     : dataGenap['Angkatan'],\n",
    "    'GolonganUKT' : dataGenap['GolonganUKT'],\n",
    "    'IP' : dataGenap['IPGenap'],\n",
    "    # 'SKS'     : dataGenap['SKSGenap'],\n",
    "    # 'Kesibukan' : kesibukan,\n",
    "    'Organisasi' : dataGenap['OrganisasiGenap'],\n",
    "    'Kerja' : dataGenap['KerjaGenap'],\n",
    "    })\n",
    "dataFinal"
   ]
  },
  {
   "cell_type": "code",
   "execution_count": 32,
   "metadata": {},
   "outputs": [],
   "source": [
    "clf = LocalOutlierFactor(n_neighbors=5, contamination=\"auto\")\n",
    "X = dataFinal[['IP','Kerja']].values\n",
    "# dataW= np.array(dataFinal[['GolonganUKT']])\n",
    "dataX= np.array(dataFinal[['IP']])\n",
    "# dataY= np.array(dataFinal[['Organisasi']])\n",
    "dataZ= np.array(dataFinal[['Kerja']])\n",
    "\n",
    "y_pred = clf.fit_predict(X)\n",
    "X_scores = clf.negative_outlier_factor_\n",
    "round_off_values = np.around(X_scores, decimals =2)\n",
    "new =round_off_values*(-1)"
   ]
  },
  {
   "cell_type": "code",
   "execution_count": 33,
   "metadata": {},
   "outputs": [
    {
     "data": {
      "text/html": [
       "<div>\n",
       "<style scoped>\n",
       "    .dataframe tbody tr th:only-of-type {\n",
       "        vertical-align: middle;\n",
       "    }\n",
       "\n",
       "    .dataframe tbody tr th {\n",
       "        vertical-align: top;\n",
       "    }\n",
       "\n",
       "    .dataframe thead th {\n",
       "        text-align: right;\n",
       "    }\n",
       "</style>\n",
       "<table border=\"1\" class=\"dataframe\">\n",
       "  <thead>\n",
       "    <tr style=\"text-align: right;\">\n",
       "      <th></th>\n",
       "      <th>0</th>\n",
       "    </tr>\n",
       "  </thead>\n",
       "  <tbody>\n",
       "    <tr>\n",
       "      <th>0</th>\n",
       "      <td>1.00</td>\n",
       "    </tr>\n",
       "    <tr>\n",
       "      <th>1</th>\n",
       "      <td>1.00</td>\n",
       "    </tr>\n",
       "    <tr>\n",
       "      <th>2</th>\n",
       "      <td>1.00</td>\n",
       "    </tr>\n",
       "    <tr>\n",
       "      <th>3</th>\n",
       "      <td>0.95</td>\n",
       "    </tr>\n",
       "    <tr>\n",
       "      <th>4</th>\n",
       "      <td>1.00</td>\n",
       "    </tr>\n",
       "    <tr>\n",
       "      <th>...</th>\n",
       "      <td>...</td>\n",
       "    </tr>\n",
       "    <tr>\n",
       "      <th>205</th>\n",
       "      <td>1.08</td>\n",
       "    </tr>\n",
       "    <tr>\n",
       "      <th>206</th>\n",
       "      <td>1.00</td>\n",
       "    </tr>\n",
       "    <tr>\n",
       "      <th>207</th>\n",
       "      <td>1.09</td>\n",
       "    </tr>\n",
       "    <tr>\n",
       "      <th>208</th>\n",
       "      <td>1.00</td>\n",
       "    </tr>\n",
       "    <tr>\n",
       "      <th>209</th>\n",
       "      <td>1.00</td>\n",
       "    </tr>\n",
       "  </tbody>\n",
       "</table>\n",
       "<p>210 rows × 1 columns</p>\n",
       "</div>"
      ],
      "text/plain": [
       "        0\n",
       "0    1.00\n",
       "1    1.00\n",
       "2    1.00\n",
       "3    0.95\n",
       "4    1.00\n",
       "..    ...\n",
       "205  1.08\n",
       "206  1.00\n",
       "207  1.09\n",
       "208  1.00\n",
       "209  1.00\n",
       "\n",
       "[210 rows x 1 columns]"
      ]
     },
     "execution_count": 33,
     "metadata": {},
     "output_type": "execute_result"
    }
   ],
   "source": [
    "datas = pd.DataFrame(new)\n",
    "datas"
   ]
  },
  {
   "cell_type": "code",
   "execution_count": 34,
   "metadata": {},
   "outputs": [
    {
     "name": "stdout",
     "output_type": "stream",
     "text": [
      "[7, 9, 12, 18, 20, 24, 25, 33, 58, 76, 89, 113, 125, 132, 142, 160, 169, 182, 190, 201]\n"
     ]
    }
   ],
   "source": [
    "datas[0]\n",
    "outlier = []\n",
    "i = 0\n",
    "for score in datas[0]:\n",
    "    if score >= 1.5:\n",
    "        outlier.append(i)\n",
    "    i += 1\n",
    "\n",
    "print(outlier)"
   ]
  },
  {
   "cell_type": "code",
   "execution_count": 35,
   "metadata": {},
   "outputs": [],
   "source": [
    "dataFinal.drop(outlier, inplace=True)"
   ]
  },
  {
   "cell_type": "code",
   "execution_count": 36,
   "metadata": {},
   "outputs": [
    {
     "data": {
      "text/html": [
       "<div>\n",
       "<style scoped>\n",
       "    .dataframe tbody tr th:only-of-type {\n",
       "        vertical-align: middle;\n",
       "    }\n",
       "\n",
       "    .dataframe tbody tr th {\n",
       "        vertical-align: top;\n",
       "    }\n",
       "\n",
       "    .dataframe thead th {\n",
       "        text-align: right;\n",
       "    }\n",
       "</style>\n",
       "<table border=\"1\" class=\"dataframe\">\n",
       "  <thead>\n",
       "    <tr style=\"text-align: right;\">\n",
       "      <th></th>\n",
       "      <th>GolonganUKT</th>\n",
       "      <th>IP</th>\n",
       "      <th>Organisasi</th>\n",
       "      <th>Kerja</th>\n",
       "    </tr>\n",
       "  </thead>\n",
       "  <tbody>\n",
       "    <tr>\n",
       "      <th>0</th>\n",
       "      <td>4</td>\n",
       "      <td>3.96</td>\n",
       "      <td>0</td>\n",
       "      <td>0</td>\n",
       "    </tr>\n",
       "    <tr>\n",
       "      <th>1</th>\n",
       "      <td>4</td>\n",
       "      <td>3.80</td>\n",
       "      <td>1</td>\n",
       "      <td>0</td>\n",
       "    </tr>\n",
       "    <tr>\n",
       "      <th>2</th>\n",
       "      <td>5</td>\n",
       "      <td>3.70</td>\n",
       "      <td>1</td>\n",
       "      <td>0</td>\n",
       "    </tr>\n",
       "    <tr>\n",
       "      <th>3</th>\n",
       "      <td>1</td>\n",
       "      <td>2.83</td>\n",
       "      <td>0</td>\n",
       "      <td>0</td>\n",
       "    </tr>\n",
       "    <tr>\n",
       "      <th>4</th>\n",
       "      <td>4</td>\n",
       "      <td>3.70</td>\n",
       "      <td>0</td>\n",
       "      <td>0</td>\n",
       "    </tr>\n",
       "    <tr>\n",
       "      <th>...</th>\n",
       "      <td>...</td>\n",
       "      <td>...</td>\n",
       "      <td>...</td>\n",
       "      <td>...</td>\n",
       "    </tr>\n",
       "    <tr>\n",
       "      <th>205</th>\n",
       "      <td>2</td>\n",
       "      <td>3.48</td>\n",
       "      <td>0</td>\n",
       "      <td>1</td>\n",
       "    </tr>\n",
       "    <tr>\n",
       "      <th>206</th>\n",
       "      <td>3</td>\n",
       "      <td>3.60</td>\n",
       "      <td>0</td>\n",
       "      <td>0</td>\n",
       "    </tr>\n",
       "    <tr>\n",
       "      <th>207</th>\n",
       "      <td>4</td>\n",
       "      <td>3.11</td>\n",
       "      <td>1</td>\n",
       "      <td>0</td>\n",
       "    </tr>\n",
       "    <tr>\n",
       "      <th>208</th>\n",
       "      <td>4</td>\n",
       "      <td>4.00</td>\n",
       "      <td>1</td>\n",
       "      <td>0</td>\n",
       "    </tr>\n",
       "    <tr>\n",
       "      <th>209</th>\n",
       "      <td>0</td>\n",
       "      <td>3.55</td>\n",
       "      <td>1</td>\n",
       "      <td>0</td>\n",
       "    </tr>\n",
       "  </tbody>\n",
       "</table>\n",
       "<p>190 rows × 4 columns</p>\n",
       "</div>"
      ],
      "text/plain": [
       "     GolonganUKT    IP  Organisasi  Kerja\n",
       "0              4  3.96           0      0\n",
       "1              4  3.80           1      0\n",
       "2              5  3.70           1      0\n",
       "3              1  2.83           0      0\n",
       "4              4  3.70           0      0\n",
       "..           ...   ...         ...    ...\n",
       "205            2  3.48           0      1\n",
       "206            3  3.60           0      0\n",
       "207            4  3.11           1      0\n",
       "208            4  4.00           1      0\n",
       "209            0  3.55           1      0\n",
       "\n",
       "[190 rows x 4 columns]"
      ]
     },
     "execution_count": 36,
     "metadata": {},
     "output_type": "execute_result"
    }
   ],
   "source": [
    "dataFinal"
   ]
  },
  {
   "cell_type": "code",
   "execution_count": 37,
   "metadata": {},
   "outputs": [],
   "source": [
    "in_mask = [True if l == 1 else False for l in y_pred]\n",
    "out_mask = [True if l == -1 else False for l in y_pred]"
   ]
  },
  {
   "cell_type": "code",
   "execution_count": 38,
   "metadata": {},
   "outputs": [
    {
     "name": "stdout",
     "output_type": "stream",
     "text": [
      "[7.76315786e-10 7.76315786e-10 7.76315786e-10 3.21770333e-10\n",
      " 7.76315786e-10 7.76315786e-10 7.76315786e-10 1.00000000e+00\n",
      " 1.14668615e-09 9.35964901e-09 8.13352821e-10 7.76315786e-10\n",
      " 6.46655143e-09 1.40131578e-09 1.40131578e-09 2.94298243e-09\n",
      " 7.76315786e-10 7.76315786e-10 6.66666666e-01 3.44298242e-09\n",
      " 9.40131568e-09 7.76315786e-10 7.76315786e-10 3.56996655e-09\n",
      " 6.67037797e-09 5.22607653e-09 5.17056528e-10 4.98538011e-10\n",
      " 6.00877190e-10 1.14668615e-09 2.31798243e-09 0.00000000e+00\n",
      " 1.39650119e-10 1.57852284e-08 7.76315786e-10 7.76315786e-10\n",
      " 8.55680864e-10 1.18002060e-09 7.76315786e-10 1.23464911e-09\n",
      " 4.15476186e-09 1.23464911e-09 7.76315786e-10 3.44298242e-09\n",
      " 8.05727550e-10 7.76315786e-10 7.76315786e-10 9.77554174e-10\n",
      " 7.76315786e-10 7.76315786e-10 7.76315786e-10 7.76315786e-10\n",
      " 1.40131578e-09 4.98538011e-10 2.89271789e-09 3.21770333e-10\n",
      " 2.91557448e-09 6.33518582e-10 6.66666666e-01 6.00877190e-10\n",
      " 7.76315786e-10 1.51705652e-09 1.07934609e-09 7.76315786e-10\n",
      " 1.25250626e-09 7.76315786e-10 7.76315786e-10 4.98538011e-10\n",
      " 2.10964911e-09 7.76315786e-10 7.76315786e-10 1.45614034e-09\n",
      " 4.70081421e-09 7.76315786e-10 1.56595668e-09 7.76315786e-10\n",
      " 8.66666665e-01 6.00877190e-10 0.00000000e+00 5.54093565e-10\n",
      " 7.76315786e-10 7.76315786e-10 3.94486846e-09 1.51705652e-09\n",
      " 7.76315786e-10 7.76315786e-10 3.59649121e-10 4.90601501e-10\n",
      " 2.10964911e-09 5.85598612e-09 7.76315786e-10 6.54274331e-10\n",
      " 7.76315786e-10 1.40131578e-09 2.10964911e-09 4.32177028e-09\n",
      " 8.13352821e-10 3.44298242e-09 5.54093565e-10 1.79347264e-09\n",
      " 5.17056528e-10 6.00877190e-10 1.69298244e-09 7.76315786e-10\n",
      " 2.10964911e-09 4.98538011e-10 4.98538011e-10 3.56996655e-09\n",
      " 4.24052778e-09 7.76315786e-10 7.76315786e-10 2.39668614e-09\n",
      " 7.76315786e-10 1.66666667e-01 7.76315786e-10 9.22149118e-10\n",
      " 7.76315786e-10 7.76315786e-10 7.76315786e-10 7.76315786e-10\n",
      " 1.69298244e-09 8.88495272e-10 3.59649121e-10 1.65385057e-09\n",
      " 1.07934609e-09 6.60457453e-09 7.76315786e-10 7.76315786e-10\n",
      " 7.76315786e-10 2.35964910e-09 7.76315786e-10 7.76315786e-10\n",
      " 1.57852284e-08 1.67341429e-10 4.36898827e-10 8.85743395e-10\n",
      " 7.76315786e-10 7.76315786e-10 4.15476186e-09 2.31798243e-09\n",
      " 1.96605643e-10 9.98538007e-10 5.22607653e-09 7.76315786e-10\n",
      " 2.10964911e-09 2.17982455e-09 8.87730686e-10 8.87730686e-10\n",
      " 1.62770897e-09 7.76315786e-10 4.35253544e-09 7.76315786e-10\n",
      " 2.31798243e-09 1.79347264e-09 5.98128382e-10 9.22149118e-10\n",
      " 3.44298242e-09 7.76315786e-10 7.76315786e-10 7.76315786e-10\n",
      " 6.17255921e-09 5.54093565e-10 1.51705652e-09 7.76315786e-10\n",
      " 7.76315786e-10 4.98538011e-10 4.98538011e-10 4.98538011e-10\n",
      " 7.76315786e-10 1.31527113e-08 7.76315786e-10 7.76315786e-10\n",
      " 1.40131578e-09 6.65204675e-10 7.76315786e-10 7.76315786e-10\n",
      " 7.76315786e-10 8.13352821e-10 2.17982455e-09 7.76315786e-10\n",
      " 7.76315786e-10 3.21770333e-10 1.00000000e+00 7.76315786e-10\n",
      " 7.76315786e-10 7.76315786e-10 7.76315786e-10 2.22076021e-09\n",
      " 1.55409355e-09 7.76315786e-10 2.04082387e-08 8.87730686e-10\n",
      " 7.76315786e-10 3.51712613e-10 5.54093565e-10 1.35526315e-09\n",
      " 7.76315786e-10 9.77554174e-10 7.76315786e-10 7.76315786e-10\n",
      " 7.76315786e-10 2.04082387e-08 7.76315786e-10 7.76315786e-10\n",
      " 2.86722485e-09 1.44947596e-09 7.76315786e-10 1.51705652e-09\n",
      " 7.76315786e-10 7.76315786e-10]\n",
      "120000001.2\n",
      "2.03\n",
      "1.68\n",
      "80000001.0\n",
      "2.03\n",
      "1.71\n",
      "1.53\n",
      "2.8\n",
      "80000001.0\n",
      "104000001.0\n",
      "1.61\n",
      "20000001.0\n",
      "1.7\n",
      "2.8\n",
      "1.53\n",
      "1.65\n",
      "2.49\n",
      "120000001.2\n",
      "3.36\n",
      "3.36\n"
     ]
    },
    {
     "data": {
      "image/png": "[encoded data removed]",
      "text/plain": [
       "<Figure size 1200x1200 with 1 Axes>"
      ]
     },
     "metadata": {},
     "output_type": "display_data"
    }
   ],
   "source": [
    "plt.figure(figsize=(12,12))\n",
    "# plot the level sets of the decision function\n",
    "\n",
    "plt.title(\"Local Outlier Factor (LOF)\")\n",
    "# inliers\n",
    "a = plt.scatter(X[in_mask, 0], X[in_mask, 1], c = 'blue',\n",
    "                edgecolor = 'k', s = 30, label='Data Inliers')\n",
    "# outliers\n",
    "b = plt.scatter(X[out_mask, 0], X[out_mask, 1], c = 'red',\n",
    "                edgecolor = 'k', s = 30, label='Data Outliers')\n",
    "# radius\n",
    "radius = (X_scores.max() - X_scores) / (X_scores.max() - X_scores.min())\n",
    "print(radius)\n",
    "c = plt.scatter(dataX, dataZ, s=radius * 13000, edgecolors='red',facecolors='none', label='Outlier Radius')\n",
    "#label\n",
    "for x_pos, y_pos, label in zip(dataX,dataZ,new):\n",
    "    if label>=1.5:\n",
    "        print(label)\n",
    "        plt.annotate(label,             \n",
    "                xy=(x_pos, y_pos),\n",
    "                xytext=(10,5),     \n",
    "                textcoords='offset points', \n",
    "                ha='right',         \n",
    "                va='center',fontsize=5.5,color='r')\n",
    "plt.axis('tight')\n",
    "plt.xlabel('IP');\n",
    "plt.ylabel('Pekerjaan');\n",
    "legend = plt.legend(loc='upper left')\n",
    "legend.legendHandles[0]._sizes = [10]\n",
    "legend.legendHandles[1]._sizes = [20]\n",
    "legend.legendHandles[2]._sizes = [30]\n",
    "plt.ylim((-1, 2))\n",
    "plt.show()"
   ]
  },
  {
   "cell_type": "code",
   "execution_count": 39,
   "metadata": {},
   "outputs": [
    {
     "ename": "NameError",
     "evalue": "name 'dataW' is not defined",
     "output_type": "error",
     "traceback": [
      "\u001b[1;31m---------------------------------------------------------------------------\u001b[0m",
      "\u001b[1;31mNameError\u001b[0m                                 Traceback (most recent call last)",
      "Cell \u001b[1;32mIn [39], line 13\u001b[0m\n\u001b[0;32m     11\u001b[0m \u001b[39m# radius\u001b[39;00m\n\u001b[0;32m     12\u001b[0m radius \u001b[39m=\u001b[39m (X_scores\u001b[39m.\u001b[39mmax() \u001b[39m-\u001b[39m X_scores) \u001b[39m/\u001b[39m (X_scores\u001b[39m.\u001b[39mmax() \u001b[39m-\u001b[39m X_scores\u001b[39m.\u001b[39mmin())\n\u001b[1;32m---> 13\u001b[0m c \u001b[39m=\u001b[39m plt\u001b[39m.\u001b[39mscatter(dataX, dataW, s\u001b[39m=\u001b[39mradius \u001b[39m*\u001b[39m \u001b[39m1300\u001b[39m, edgecolors\u001b[39m=\u001b[39m\u001b[39m'\u001b[39m\u001b[39mred\u001b[39m\u001b[39m'\u001b[39m,facecolors\u001b[39m=\u001b[39m\u001b[39m'\u001b[39m\u001b[39mnone\u001b[39m\u001b[39m'\u001b[39m, label\u001b[39m=\u001b[39m\u001b[39m'\u001b[39m\u001b[39mOutlier Radius\u001b[39m\u001b[39m'\u001b[39m)\n\u001b[0;32m     14\u001b[0m \u001b[39m#label\u001b[39;00m\n\u001b[0;32m     15\u001b[0m \u001b[39mfor\u001b[39;00m x_pos, y_pos, label \u001b[39min\u001b[39;00m \u001b[39mzip\u001b[39m(dataX,dataW,new):\n",
      "\u001b[1;31mNameError\u001b[0m: name 'dataW' is not defined"
     ]
    },
    {
     "data": {
      "image/png": "[encoded data removed]",
      "text/plain": [
       "<Figure size 1200x1200 with 1 Axes>"
      ]
     },
     "metadata": {},
     "output_type": "display_data"
    }
   ],
   "source": [
    "plt.figure(figsize=(12,12))\n",
    "# plot the level sets of the decision function\n",
    "\n",
    "plt.title(\"Local Outlier Factor (LOF)\")\n",
    "# inliers\n",
    "a = plt.scatter(X[in_mask, 1], X[in_mask, 0], c = 'blue',\n",
    "                edgecolor = 'k', s = 30, label='Data Inliers')\n",
    "# outliers\n",
    "b = plt.scatter(X[out_mask, 1], X[out_mask, 0], c = 'red',\n",
    "                edgecolor = 'k', s = 30, label='Data Outliers')\n",
    "# radius\n",
    "radius = (X_scores.max() - X_scores) / (X_scores.max() - X_scores.min())\n",
    "c = plt.scatter(dataX, dataW, s=radius * 1300, edgecolors='red',facecolors='none', label='Outlier Radius')\n",
    "#label\n",
    "for x_pos, y_pos, label in zip(dataX,dataW,new):\n",
    "    if label>=1.5:\n",
    "        plt.annotate(label,             \n",
    "                xy=(x_pos, y_pos),\n",
    "                xytext=(10,5),     \n",
    "                textcoords='offset points', \n",
    "                ha='right',         \n",
    "                va='center',fontsize=5.5,color='r')\n",
    "plt.axis('tight')\n",
    "plt.xlabel('IP');\n",
    "plt.ylabel('GolonganUKT');\n",
    "legend = plt.legend(loc='upper left')\n",
    "legend.legendHandles[0]._sizes = [10]\n",
    "legend.legendHandles[1]._sizes = [20]\n",
    "legend.legendHandles[2]._sizes = [30]\n",
    "plt.ylim((-1, 9))\n",
    "plt.show()"
   ]
  },
  {
   "cell_type": "code",
   "execution_count": null,
   "metadata": {},
   "outputs": [
    {
     "data": {
      "image/png": "[encoded data removed]",
      "text/plain": [
       "<Figure size 1200x1200 with 1 Axes>"
      ]
     },
     "metadata": {},
     "output_type": "display_data"
    }
   ],
   "source": [
    "plt.figure(figsize=(12,12))\n",
    "# plot the level sets of the decision function\n",
    "\n",
    "plt.title(\"Local Outlier Factor (LOF)\")\n",
    "# inliers\n",
    "a = plt.scatter(X[in_mask, 1], X[in_mask, 2], c = 'blue',\n",
    "                edgecolor = 'k', s = 30, label='Data Inliers')\n",
    "# outliers\n",
    "b = plt.scatter(X[out_mask, 1], X[out_mask, 2], c = 'red',\n",
    "                edgecolor = 'k', s = 30, label='Data Outliers')\n",
    "# radius\n",
    "radius = (X_scores.max() - X_scores) / (X_scores.max() - X_scores.min())\n",
    "c = plt.scatter(dataX, dataY, s=radius * 1300, edgecolors='red',facecolors='none', label='Outlier Radius')\n",
    "#label\n",
    "for x_pos, y_pos, label in zip(dataX,dataY,new):\n",
    "    if label>=1.5:\n",
    "        plt.annotate(label,             \n",
    "                xy=(x_pos, y_pos),\n",
    "                xytext=(10,5),     \n",
    "                textcoords='offset points', \n",
    "                ha='right',         \n",
    "                va='center',fontsize=5.5,color='r')\n",
    "plt.axis('tight')\n",
    "plt.xlabel('IP');\n",
    "plt.ylabel('Organisasi');\n",
    "legend = plt.legend(loc='upper left')\n",
    "legend.legendHandles[0]._sizes = [10]\n",
    "legend.legendHandles[1]._sizes = [20]\n",
    "legend.legendHandles[2]._sizes = [30]\n",
    "plt.ylim((-1, 2))\n",
    "plt.show()"
   ]
  },
  {
   "cell_type": "code",
   "execution_count": null,
   "metadata": {},
   "outputs": [
    {
     "ename": "TypeError",
     "evalue": "unsupported operand type(s) for +: 'Figure' and 'Figure'",
     "output_type": "error",
     "traceback": [
      "\u001b[1;31m---------------------------------------------------------------------------\u001b[0m",
      "\u001b[1;31mTypeError\u001b[0m                                 Traceback (most recent call last)",
      "Cell \u001b[1;32mIn [14], line 2\u001b[0m\n\u001b[0;32m      1\u001b[0m scatter_fig \u001b[39m=\u001b[39m px\u001b[39m.\u001b[39mscatter_3d(X, x\u001b[39m=\u001b[39mX[in_mask, \u001b[39m0\u001b[39m], y\u001b[39m=\u001b[39mX[in_mask, \u001b[39m1\u001b[39m], z\u001b[39m=\u001b[39mX[in_mask, \u001b[39m2\u001b[39m])\n\u001b[1;32m----> 2\u001b[0m scatter_fig \u001b[39m=\u001b[39m scatter_fig \u001b[39m+\u001b[39;49m px\u001b[39m.\u001b[39;49mscatter_3d(X, x\u001b[39m=\u001b[39;49mX[out_mask, \u001b[39m0\u001b[39;49m], y\u001b[39m=\u001b[39;49mX[out_mask, \u001b[39m1\u001b[39;49m], z\u001b[39m=\u001b[39;49mX[out_mask, \u001b[39m2\u001b[39;49m])\n\u001b[0;32m      3\u001b[0m scatter_fig\u001b[39m.\u001b[39mupdate_layout(margin\u001b[39m=\u001b[39m\u001b[39mdict\u001b[39m(l\u001b[39m=\u001b[39m\u001b[39m0\u001b[39m, r\u001b[39m=\u001b[39m\u001b[39m0\u001b[39m, b\u001b[39m=\u001b[39m\u001b[39m0\u001b[39m, t\u001b[39m=\u001b[39m\u001b[39m0\u001b[39m))\n\u001b[0;32m      6\u001b[0m \u001b[39m# plt.figure(figsize=(12,12))\u001b[39;00m\n\u001b[0;32m      7\u001b[0m \u001b[39m# # plot the level sets of the decision function\u001b[39;00m\n\u001b[0;32m      8\u001b[0m \n\u001b[1;32m   (...)\u001b[0m\n\u001b[0;32m     29\u001b[0m \u001b[39m# plt.ylim((-1, 2))\u001b[39;00m\n\u001b[0;32m     30\u001b[0m \u001b[39m# plt.show()\u001b[39;00m\n",
      "\u001b[1;31mTypeError\u001b[0m: unsupported operand type(s) for +: 'Figure' and 'Figure'"
     ]
    }
   ],
   "source": [
    "scatter_fig = px.scatter_3d(X, x=X[in_mask, 0], y=X[in_mask, 1], z=X[in_mask, 2])\n",
    "scatter_fig = scatter_fig + px.scatter_3d(X, x=X[out_mask, 0], y=X[out_mask, 1], z=X[out_mask, 2])\n",
    "scatter_fig.update_layout(margin=dict(l=0, r=0, b=0, t=0))\n",
    "\n",
    "\n",
    "# plt.figure(figsize=(12,12))\n",
    "# # plot the level sets of the decision function\n",
    "\n",
    "# plt.title(\"Local Outlier Factor (LOF)\")\n",
    "# # inliers\n",
    "# a = plt.scatter(X[in_mask, 0], X[in_mask, 1], c = 'blue',\n",
    "#                 edgecolor = 'k', s = 30, label='Data Inliers')\n",
    "# # outliers\n",
    "# b = plt.scatter(X[out_mask, 0], X[out_mask, 1], c = 'red',\n",
    "#                 edgecolor = 'k', s = 30, label='Data Outliers')\n",
    "# # radius\n",
    "# radius = (X_scores.max() - X_scores) / (X_scores.max() - X_scores.min())\n",
    "# c = plt.scatter(dataX, dataY, s=radius * 1300, edgecolors='red',facecolors='none', label='Outlier Radius')\n",
    "# #label\n",
    "# for x_pos, y_pos, label in zip(dataX,dataY,new):\n",
    "\n",
    "# plt.axis('tight')\n",
    "# plt.xlabel('IP');\n",
    "# plt.ylabel('Pekerjaan');\n",
    "# legend = plt.legend(loc='upper left')\n",
    "# legend.legendHandles[0]._sizes = [10]\n",
    "# legend.legendHandles[1]._sizes = [20]\n",
    "# legend.legendHandles[2]._sizes = [30]\n",
    "# plt.ylim((-1, 2))\n",
    "# plt.show()"
   ]
  },
  {
   "cell_type": "code",
   "execution_count": null,
   "metadata": {},
   "outputs": [],
   "source": [
    "import pyod\n",
    "import sklearn\n",
    "import numpy as np\n",
    "X_train, y_train, X_test, y_test = \\\n",
    "        generate_data(n_train=200,\n",
    "                      n_test=100,\n",
    "                      n_features=5,\n",
    "                      contamination=0.1,\n",
    "                      random_state=3) \n",
    "X_train = X_train * np.random.uniform(0, 1, size=X_train.shape)\n",
    "X_test = X_test * np.random.uniform(0,1, size=X_test.shape)"
   ]
  },
  {
   "cell_type": "code",
   "execution_count": null,
   "metadata": {},
   "outputs": [
    {
     "name": "stderr",
     "output_type": "stream",
     "text": [
      "C:\\Users\\Pegipegi\\AppData\\Local\\Temp/ipykernel_31120/3828794272.py:9: DeprecationWarning:\n",
      "\n",
      "elementwise comparison failed; this will raise an error in the future.\n",
      "\n"
     ]
    },
    {
     "ename": "AttributeError",
     "evalue": "'bool' object has no attribute 'sum'",
     "output_type": "error",
     "traceback": [
      "\u001b[1;31m---------------------------------------------------------------------------\u001b[0m",
      "\u001b[1;31mAttributeError\u001b[0m                            Traceback (most recent call last)",
      "\u001b[1;32m~\\AppData\\Local\\Temp/ipykernel_31120/3828794272.py\u001b[0m in \u001b[0;36m<module>\u001b[1;34m\u001b[0m\n\u001b[0;32m      7\u001b[0m \u001b[1;31m# In sklearn, -1 is an outlier. In pyod, 1 is an outlier.\u001b[0m\u001b[1;33m\u001b[0m\u001b[1;33m\u001b[0m\u001b[0m\n\u001b[0;32m      8\u001b[0m \u001b[0my_pred\u001b[0m \u001b[1;33m=\u001b[0m \u001b[0my_pred\u001b[0m \u001b[1;33m==\u001b[0m \u001b[1;33m-\u001b[0m\u001b[1;36m1\u001b[0m\u001b[1;33m\u001b[0m\u001b[1;33m\u001b[0m\u001b[0m\n\u001b[1;32m----> 9\u001b[1;33m \u001b[0mn_errors\u001b[0m \u001b[1;33m=\u001b[0m \u001b[1;33m(\u001b[0m\u001b[0my_pred\u001b[0m \u001b[1;33m!=\u001b[0m \u001b[0my_train\u001b[0m\u001b[1;33m)\u001b[0m\u001b[1;33m.\u001b[0m\u001b[0msum\u001b[0m\u001b[1;33m(\u001b[0m\u001b[1;33m)\u001b[0m\u001b[1;33m\u001b[0m\u001b[1;33m\u001b[0m\u001b[0m\n\u001b[0m\u001b[0;32m     10\u001b[0m \u001b[0mprint\u001b[0m\u001b[1;33m(\u001b[0m\u001b[1;34m\"Error rate:\"\u001b[0m\u001b[1;33m,\u001b[0m \u001b[0mn_errors\u001b[0m\u001b[1;33m/\u001b[0m\u001b[0mlen\u001b[0m\u001b[1;33m(\u001b[0m\u001b[0my_pred\u001b[0m\u001b[1;33m)\u001b[0m\u001b[1;33m)\u001b[0m\u001b[1;33m\u001b[0m\u001b[1;33m\u001b[0m\u001b[0m\n",
      "\u001b[1;31mAttributeError\u001b[0m: 'bool' object has no attribute 'sum'"
     ]
    }
   ],
   "source": [
    "from sklearn.neighbors import LocalOutlierFactor\n",
    "# fit the model for outlier detection (default)\n",
    "clf = LocalOutlierFactor(novelty=False)\n",
    "y_pred = clf.fit_predict(X_train)\n",
    "\n",
    "# Convert y_pred to the same convention as pyod.\n",
    "# In sklearn, -1 is an outlier. In pyod, 1 is an outlier.\n",
    "y_pred = y_pred == -1\n",
    "n_errors = (y_pred != y_train).sum()\n",
    "print(\"Error rate:\", n_errors/len(y_pred))"
   ]
  },
  {
   "cell_type": "code",
   "execution_count": 89,
   "metadata": {},
   "outputs": [],
   "source": [
    "data = {'IP':  [3.94, 3.48, 2.83, 4, 3.77, 3.92, 3.48, 2.75, 3.68],\n",
    "        'Organisasi': [1,0,0,1,1,0,1,0,0],\n",
    "        'Kerja': [0,1,0,0,1,0,0,0,1],\n",
    "        }\n",
    "\n",
    "df = pd.DataFrame(data)\n",
    "df\n",
    "dataFinals = df.copy()"
   ]
  },
  {
   "cell_type": "code",
   "execution_count": 90,
   "metadata": {},
   "outputs": [
    {
     "data": {
      "text/html": [
       "<div>\n",
       "<style scoped>\n",
       "    .dataframe tbody tr th:only-of-type {\n",
       "        vertical-align: middle;\n",
       "    }\n",
       "\n",
       "    .dataframe tbody tr th {\n",
       "        vertical-align: top;\n",
       "    }\n",
       "\n",
       "    .dataframe thead th {\n",
       "        text-align: right;\n",
       "    }\n",
       "</style>\n",
       "<table border=\"1\" class=\"dataframe\">\n",
       "  <thead>\n",
       "    <tr style=\"text-align: right;\">\n",
       "      <th></th>\n",
       "      <th>IP</th>\n",
       "      <th>Organisasi</th>\n",
       "      <th>Kerja</th>\n",
       "    </tr>\n",
       "  </thead>\n",
       "  <tbody>\n",
       "    <tr>\n",
       "      <th>0</th>\n",
       "      <td>3.94</td>\n",
       "      <td>1</td>\n",
       "      <td>0</td>\n",
       "    </tr>\n",
       "    <tr>\n",
       "      <th>1</th>\n",
       "      <td>3.48</td>\n",
       "      <td>0</td>\n",
       "      <td>1</td>\n",
       "    </tr>\n",
       "    <tr>\n",
       "      <th>2</th>\n",
       "      <td>2.83</td>\n",
       "      <td>0</td>\n",
       "      <td>0</td>\n",
       "    </tr>\n",
       "    <tr>\n",
       "      <th>3</th>\n",
       "      <td>4.00</td>\n",
       "      <td>1</td>\n",
       "      <td>0</td>\n",
       "    </tr>\n",
       "    <tr>\n",
       "      <th>4</th>\n",
       "      <td>3.77</td>\n",
       "      <td>1</td>\n",
       "      <td>1</td>\n",
       "    </tr>\n",
       "    <tr>\n",
       "      <th>5</th>\n",
       "      <td>3.92</td>\n",
       "      <td>0</td>\n",
       "      <td>0</td>\n",
       "    </tr>\n",
       "    <tr>\n",
       "      <th>6</th>\n",
       "      <td>3.48</td>\n",
       "      <td>1</td>\n",
       "      <td>0</td>\n",
       "    </tr>\n",
       "    <tr>\n",
       "      <th>7</th>\n",
       "      <td>2.75</td>\n",
       "      <td>0</td>\n",
       "      <td>0</td>\n",
       "    </tr>\n",
       "    <tr>\n",
       "      <th>8</th>\n",
       "      <td>3.68</td>\n",
       "      <td>0</td>\n",
       "      <td>1</td>\n",
       "    </tr>\n",
       "  </tbody>\n",
       "</table>\n",
       "</div>"
      ],
      "text/plain": [
       "     IP  Organisasi  Kerja\n",
       "0  3.94           1      0\n",
       "1  3.48           0      1\n",
       "2  2.83           0      0\n",
       "3  4.00           1      0\n",
       "4  3.77           1      1\n",
       "5  3.92           0      0\n",
       "6  3.48           1      0\n",
       "7  2.75           0      0\n",
       "8  3.68           0      1"
      ]
     },
     "execution_count": 90,
     "metadata": {},
     "output_type": "execute_result"
    }
   ],
   "source": [
    "df"
   ]
  },
  {
   "cell_type": "code",
   "execution_count": 91,
   "metadata": {},
   "outputs": [],
   "source": [
    "kmeans = KMeans(n_clusters=3, max_iter=100, random_state= 42, n_init=1)\n",
    "kmeans.fit(df)\n",
    "labels = kmeans.predict(df)\n",
    "samplesCentroids = kmeans.cluster_centers_"
   ]
  },
  {
   "cell_type": "code",
   "execution_count": 92,
   "metadata": {},
   "outputs": [
    {
     "data": {
      "text/plain": [
       "2"
      ]
     },
     "execution_count": 92,
     "metadata": {},
     "output_type": "execute_result"
    }
   ],
   "source": [
    "kmeans.n_iter_"
   ]
  },
  {
   "cell_type": "code",
   "execution_count": 93,
   "metadata": {},
   "outputs": [
    {
     "data": {
      "text/plain": [
       "array([[3.80666667, 1.        , 0.        ],\n",
       "       [3.7125    , 0.25      , 0.75      ],\n",
       "       [2.79      , 0.        , 0.        ]])"
      ]
     },
     "execution_count": 93,
     "metadata": {},
     "output_type": "execute_result"
    }
   ],
   "source": [
    "samplesCentroids"
   ]
  },
  {
   "cell_type": "code",
   "execution_count": 94,
   "metadata": {},
   "outputs": [],
   "source": [
    "dataFinals.insert(3,\"Cluster\", kmeans.labels_.astype(str))"
   ]
  },
  {
   "cell_type": "code",
   "execution_count": 95,
   "metadata": {},
   "outputs": [
    {
     "data": {
      "text/html": [
       "<div>\n",
       "<style scoped>\n",
       "    .dataframe tbody tr th:only-of-type {\n",
       "        vertical-align: middle;\n",
       "    }\n",
       "\n",
       "    .dataframe tbody tr th {\n",
       "        vertical-align: top;\n",
       "    }\n",
       "\n",
       "    .dataframe thead th {\n",
       "        text-align: right;\n",
       "    }\n",
       "</style>\n",
       "<table border=\"1\" class=\"dataframe\">\n",
       "  <thead>\n",
       "    <tr style=\"text-align: right;\">\n",
       "      <th></th>\n",
       "      <th>IP</th>\n",
       "      <th>Organisasi</th>\n",
       "      <th>Kerja</th>\n",
       "      <th>Cluster</th>\n",
       "    </tr>\n",
       "  </thead>\n",
       "  <tbody>\n",
       "    <tr>\n",
       "      <th>0</th>\n",
       "      <td>3.94</td>\n",
       "      <td>1</td>\n",
       "      <td>0</td>\n",
       "      <td>0</td>\n",
       "    </tr>\n",
       "    <tr>\n",
       "      <th>1</th>\n",
       "      <td>3.48</td>\n",
       "      <td>0</td>\n",
       "      <td>1</td>\n",
       "      <td>1</td>\n",
       "    </tr>\n",
       "    <tr>\n",
       "      <th>2</th>\n",
       "      <td>2.83</td>\n",
       "      <td>0</td>\n",
       "      <td>0</td>\n",
       "      <td>2</td>\n",
       "    </tr>\n",
       "    <tr>\n",
       "      <th>3</th>\n",
       "      <td>4.00</td>\n",
       "      <td>1</td>\n",
       "      <td>0</td>\n",
       "      <td>0</td>\n",
       "    </tr>\n",
       "    <tr>\n",
       "      <th>4</th>\n",
       "      <td>3.77</td>\n",
       "      <td>1</td>\n",
       "      <td>1</td>\n",
       "      <td>1</td>\n",
       "    </tr>\n",
       "    <tr>\n",
       "      <th>5</th>\n",
       "      <td>3.92</td>\n",
       "      <td>0</td>\n",
       "      <td>0</td>\n",
       "      <td>1</td>\n",
       "    </tr>\n",
       "    <tr>\n",
       "      <th>6</th>\n",
       "      <td>3.48</td>\n",
       "      <td>1</td>\n",
       "      <td>0</td>\n",
       "      <td>0</td>\n",
       "    </tr>\n",
       "    <tr>\n",
       "      <th>7</th>\n",
       "      <td>2.75</td>\n",
       "      <td>0</td>\n",
       "      <td>0</td>\n",
       "      <td>2</td>\n",
       "    </tr>\n",
       "    <tr>\n",
       "      <th>8</th>\n",
       "      <td>3.68</td>\n",
       "      <td>0</td>\n",
       "      <td>1</td>\n",
       "      <td>1</td>\n",
       "    </tr>\n",
       "  </tbody>\n",
       "</table>\n",
       "</div>"
      ],
      "text/plain": [
       "     IP  Organisasi  Kerja Cluster\n",
       "0  3.94           1      0       0\n",
       "1  3.48           0      1       1\n",
       "2  2.83           0      0       2\n",
       "3  4.00           1      0       0\n",
       "4  3.77           1      1       1\n",
       "5  3.92           0      0       1\n",
       "6  3.48           1      0       0\n",
       "7  2.75           0      0       2\n",
       "8  3.68           0      1       1"
      ]
     },
     "execution_count": 95,
     "metadata": {},
     "output_type": "execute_result"
    }
   ],
   "source": [
    "dataFinals"
   ]
  },
  {
   "cell_type": "code",
   "execution_count": 88,
   "metadata": {},
   "outputs": [
    {
     "data": {
      "application/vnd.plotly.v1+json": {
       "config": {
        "plotlyServerURL": "https://plot.ly"
       },
       "data": [
        {
         "hovertemplate": "Number of Clusters=%{x}<br>Silhouette Score=%{y}<extra></extra>",
         "legendgroup": "",
         "line": {
          "color": "#636efa",
          "dash": "solid"
         },
         "marker": {
          "symbol": "circle"
         },
         "mode": "lines",
         "name": "",
         "orientation": "v",
         "showlegend": false,
         "type": "scatter",
         "x": [
          2,
          3,
          4,
          5,
          6,
          7,
          8
         ],
         "xaxis": "x",
         "y": [
          0.37202304169808853,
          0.52753496460648,
          0.523525983932497,
          0.6052571107016431,
          0.5801254802992433,
          0.40137889313528735,
          0.194908955778499
         ],
         "yaxis": "y"
        }
       ],
       "layout": {
        "legend": {
         "tracegroupgap": 0
        },
        "margin": {
         "t": 60
        },
        "template": {
         "data": {
          "bar": [
           {
            "error_x": {
             "color": "#2a3f5f"
            },
            "error_y": {
             "color": "#2a3f5f"
            },
            "marker": {
             "line": {
              "color": "#E5ECF6",
              "width": 0.5
             },
             "pattern": {
              "fillmode": "overlay",
              "size": 10,
              "solidity": 0.2
             }
            },
            "type": "bar"
           }
          ],
          "barpolar": [
           {
            "marker": {
             "line": {
              "color": "#E5ECF6",
              "width": 0.5
             },
             "pattern": {
              "fillmode": "overlay",
              "size": 10,
              "solidity": 0.2
             }
            },
            "type": "barpolar"
           }
          ],
          "carpet": [
           {
            "aaxis": {
             "endlinecolor": "#2a3f5f",
             "gridcolor": "white",
             "linecolor": "white",
             "minorgridcolor": "white",
             "startlinecolor": "#2a3f5f"
            },
            "baxis": {
             "endlinecolor": "#2a3f5f",
             "gridcolor": "white",
             "linecolor": "white",
             "minorgridcolor": "white",
             "startlinecolor": "#2a3f5f"
            },
            "type": "carpet"
           }
          ],
          "choropleth": [
           {
            "colorbar": {
             "outlinewidth": 0,
             "ticks": ""
            },
            "type": "choropleth"
           }
          ],
          "contour": [
           {
            "colorbar": {
             "outlinewidth": 0,
             "ticks": ""
            },
            "colorscale": [
             [
              0,
              "#0d0887"
             ],
             [
              0.1111111111111111,
              "#46039f"
             ],
             [
              0.2222222222222222,
              "#7201a8"
             ],
             [
              0.3333333333333333,
              "#9c179e"
             ],
             [
              0.4444444444444444,
              "#bd3786"
             ],
             [
              0.5555555555555556,
              "#d8576b"
             ],
             [
              0.6666666666666666,
              "#ed7953"
             ],
             [
              0.7777777777777778,
              "#fb9f3a"
             ],
             [
              0.8888888888888888,
              "#fdca26"
             ],
             [
              1,
              "#f0f921"
             ]
            ],
            "type": "contour"
           }
          ],
          "contourcarpet": [
           {
            "colorbar": {
             "outlinewidth": 0,
             "ticks": ""
            },
            "type": "contourcarpet"
           }
          ],
          "heatmap": [
           {
            "colorbar": {
             "outlinewidth": 0,
             "ticks": ""
            },
            "colorscale": [
             [
              0,
              "#0d0887"
             ],
             [
              0.1111111111111111,
              "#46039f"
             ],
             [
              0.2222222222222222,
              "#7201a8"
             ],
             [
              0.3333333333333333,
              "#9c179e"
             ],
             [
              0.4444444444444444,
              "#bd3786"
             ],
             [
              0.5555555555555556,
              "#d8576b"
             ],
             [
              0.6666666666666666,
              "#ed7953"
             ],
             [
              0.7777777777777778,
              "#fb9f3a"
             ],
             [
              0.8888888888888888,
              "#fdca26"
             ],
             [
              1,
              "#f0f921"
             ]
            ],
            "type": "heatmap"
           }
          ],
          "heatmapgl": [
           {
            "colorbar": {
             "outlinewidth": 0,
             "ticks": ""
            },
            "colorscale": [
             [
              0,
              "#0d0887"
             ],
             [
              0.1111111111111111,
              "#46039f"
             ],
             [
              0.2222222222222222,
              "#7201a8"
             ],
             [
              0.3333333333333333,
              "#9c179e"
             ],
             [
              0.4444444444444444,
              "#bd3786"
             ],
             [
              0.5555555555555556,
              "#d8576b"
             ],
             [
              0.6666666666666666,
              "#ed7953"
             ],
             [
              0.7777777777777778,
              "#fb9f3a"
             ],
             [
              0.8888888888888888,
              "#fdca26"
             ],
             [
              1,
              "#f0f921"
             ]
            ],
            "type": "heatmapgl"
           }
          ],
          "histogram": [
           {
            "marker": {
             "pattern": {
              "fillmode": "overlay",
              "size": 10,
              "solidity": 0.2
             }
            },
            "type": "histogram"
           }
          ],
          "histogram2d": [
           {
            "colorbar": {
             "outlinewidth": 0,
             "ticks": ""
            },
            "colorscale": [
             [
              0,
              "#0d0887"
             ],
             [
              0.1111111111111111,
              "#46039f"
             ],
             [
              0.2222222222222222,
              "#7201a8"
             ],
             [
              0.3333333333333333,
              "#9c179e"
             ],
             [
              0.4444444444444444,
              "#bd3786"
             ],
             [
              0.5555555555555556,
              "#d8576b"
             ],
             [
              0.6666666666666666,
              "#ed7953"
             ],
             [
              0.7777777777777778,
              "#fb9f3a"
             ],
             [
              0.8888888888888888,
              "#fdca26"
             ],
             [
              1,
              "#f0f921"
             ]
            ],
            "type": "histogram2d"
           }
          ],
          "histogram2dcontour": [
           {
            "colorbar": {
             "outlinewidth": 0,
             "ticks": ""
            },
            "colorscale": [
             [
              0,
              "#0d0887"
             ],
             [
              0.1111111111111111,
              "#46039f"
             ],
             [
              0.2222222222222222,
              "#7201a8"
             ],
             [
              0.3333333333333333,
              "#9c179e"
             ],
             [
              0.4444444444444444,
              "#bd3786"
             ],
             [
              0.5555555555555556,
              "#d8576b"
             ],
             [
              0.6666666666666666,
              "#ed7953"
             ],
             [
              0.7777777777777778,
              "#fb9f3a"
             ],
             [
              0.8888888888888888,
              "#fdca26"
             ],
             [
              1,
              "#f0f921"
             ]
            ],
            "type": "histogram2dcontour"
           }
          ],
          "mesh3d": [
           {
            "colorbar": {
             "outlinewidth": 0,
             "ticks": ""
            },
            "type": "mesh3d"
           }
          ],
          "parcoords": [
           {
            "line": {
             "colorbar": {
              "outlinewidth": 0,
              "ticks": ""
             }
            },
            "type": "parcoords"
           }
          ],
          "pie": [
           {
            "automargin": true,
            "type": "pie"
           }
          ],
          "scatter": [
           {
            "fillpattern": {
             "fillmode": "overlay",
             "size": 10,
             "solidity": 0.2
            },
            "type": "scatter"
           }
          ],
          "scatter3d": [
           {
            "line": {
             "colorbar": {
              "outlinewidth": 0,
              "ticks": ""
             }
            },
            "marker": {
             "colorbar": {
              "outlinewidth": 0,
              "ticks": ""
             }
            },
            "type": "scatter3d"
           }
          ],
          "scattercarpet": [
           {
            "marker": {
             "colorbar": {
              "outlinewidth": 0,
              "ticks": ""
             }
            },
            "type": "scattercarpet"
           }
          ],
          "scattergeo": [
           {
            "marker": {
             "colorbar": {
              "outlinewidth": 0,
              "ticks": ""
             }
            },
            "type": "scattergeo"
           }
          ],
          "scattergl": [
           {
            "marker": {
             "colorbar": {
              "outlinewidth": 0,
              "ticks": ""
             }
            },
            "type": "scattergl"
           }
          ],
          "scattermapbox": [
           {
            "marker": {
             "colorbar": {
              "outlinewidth": 0,
              "ticks": ""
             }
            },
            "type": "scattermapbox"
           }
          ],
          "scatterpolar": [
           {
            "marker": {
             "colorbar": {
              "outlinewidth": 0,
              "ticks": ""
             }
            },
            "type": "scatterpolar"
           }
          ],
          "scatterpolargl": [
           {
            "marker": {
             "colorbar": {
              "outlinewidth": 0,
              "ticks": ""
             }
            },
            "type": "scatterpolargl"
           }
          ],
          "scatterternary": [
           {
            "marker": {
             "colorbar": {
              "outlinewidth": 0,
              "ticks": ""
             }
            },
            "type": "scatterternary"
           }
          ],
          "surface": [
           {
            "colorbar": {
             "outlinewidth": 0,
             "ticks": ""
            },
            "colorscale": [
             [
              0,
              "#0d0887"
             ],
             [
              0.1111111111111111,
              "#46039f"
             ],
             [
              0.2222222222222222,
              "#7201a8"
             ],
             [
              0.3333333333333333,
              "#9c179e"
             ],
             [
              0.4444444444444444,
              "#bd3786"
             ],
             [
              0.5555555555555556,
              "#d8576b"
             ],
             [
              0.6666666666666666,
              "#ed7953"
             ],
             [
              0.7777777777777778,
              "#fb9f3a"
             ],
             [
              0.8888888888888888,
              "#fdca26"
             ],
             [
              1,
              "#f0f921"
             ]
            ],
            "type": "surface"
           }
          ],
          "table": [
           {
            "cells": {
             "fill": {
              "color": "#EBF0F8"
             },
             "line": {
              "color": "white"
             }
            },
            "header": {
             "fill": {
              "color": "#C8D4E3"
             },
             "line": {
              "color": "white"
             }
            },
            "type": "table"
           }
          ]
         },
         "layout": {
          "annotationdefaults": {
           "arrowcolor": "#2a3f5f",
           "arrowhead": 0,
           "arrowwidth": 1
          },
          "autotypenumbers": "strict",
          "coloraxis": {
           "colorbar": {
            "outlinewidth": 0,
            "ticks": ""
           }
          },
          "colorscale": {
           "diverging": [
            [
             0,
             "#8e0152"
            ],
            [
             0.1,
             "#c51b7d"
            ],
            [
             0.2,
             "#de77ae"
            ],
            [
             0.3,
             "#f1b6da"
            ],
            [
             0.4,
             "#fde0ef"
            ],
            [
             0.5,
             "#f7f7f7"
            ],
            [
             0.6,
             "#e6f5d0"
            ],
            [
             0.7,
             "#b8e186"
            ],
            [
             0.8,
             "#7fbc41"
            ],
            [
             0.9,
             "#4d9221"
            ],
            [
             1,
             "#276419"
            ]
           ],
           "sequential": [
            [
             0,
             "#0d0887"
            ],
            [
             0.1111111111111111,
             "#46039f"
            ],
            [
             0.2222222222222222,
             "#7201a8"
            ],
            [
             0.3333333333333333,
             "#9c179e"
            ],
            [
             0.4444444444444444,
             "#bd3786"
            ],
            [
             0.5555555555555556,
             "#d8576b"
            ],
            [
             0.6666666666666666,
             "#ed7953"
            ],
            [
             0.7777777777777778,
             "#fb9f3a"
            ],
            [
             0.8888888888888888,
             "#fdca26"
            ],
            [
             1,
             "#f0f921"
            ]
           ],
           "sequentialminus": [
            [
             0,
             "#0d0887"
            ],
            [
             0.1111111111111111,
             "#46039f"
            ],
            [
             0.2222222222222222,
             "#7201a8"
            ],
            [
             0.3333333333333333,
             "#9c179e"
            ],
            [
             0.4444444444444444,
             "#bd3786"
            ],
            [
             0.5555555555555556,
             "#d8576b"
            ],
            [
             0.6666666666666666,
             "#ed7953"
            ],
            [
             0.7777777777777778,
             "#fb9f3a"
            ],
            [
             0.8888888888888888,
             "#fdca26"
            ],
            [
             1,
             "#f0f921"
            ]
           ]
          },
          "colorway": [
           "#636efa",
           "#EF553B",
           "#00cc96",
           "#ab63fa",
           "#FFA15A",
           "#19d3f3",
           "#FF6692",
           "#B6E880",
           "#FF97FF",
           "#FECB52"
          ],
          "font": {
           "color": "#2a3f5f"
          },
          "geo": {
           "bgcolor": "white",
           "lakecolor": "white",
           "landcolor": "#E5ECF6",
           "showlakes": true,
           "showland": true,
           "subunitcolor": "white"
          },
          "hoverlabel": {
           "align": "left"
          },
          "hovermode": "closest",
          "mapbox": {
           "style": "light"
          },
          "paper_bgcolor": "white",
          "plot_bgcolor": "#E5ECF6",
          "polar": {
           "angularaxis": {
            "gridcolor": "white",
            "linecolor": "white",
            "ticks": ""
           },
           "bgcolor": "#E5ECF6",
           "radialaxis": {
            "gridcolor": "white",
            "linecolor": "white",
            "ticks": ""
           }
          },
          "scene": {
           "xaxis": {
            "backgroundcolor": "#E5ECF6",
            "gridcolor": "white",
            "gridwidth": 2,
            "linecolor": "white",
            "showbackground": true,
            "ticks": "",
            "zerolinecolor": "white"
           },
           "yaxis": {
            "backgroundcolor": "#E5ECF6",
            "gridcolor": "white",
            "gridwidth": 2,
            "linecolor": "white",
            "showbackground": true,
            "ticks": "",
            "zerolinecolor": "white"
           },
           "zaxis": {
            "backgroundcolor": "#E5ECF6",
            "gridcolor": "white",
            "gridwidth": 2,
            "linecolor": "white",
            "showbackground": true,
            "ticks": "",
            "zerolinecolor": "white"
           }
          },
          "shapedefaults": {
           "line": {
            "color": "#2a3f5f"
           }
          },
          "ternary": {
           "aaxis": {
            "gridcolor": "white",
            "linecolor": "white",
            "ticks": ""
           },
           "baxis": {
            "gridcolor": "white",
            "linecolor": "white",
            "ticks": ""
           },
           "bgcolor": "#E5ECF6",
           "caxis": {
            "gridcolor": "white",
            "linecolor": "white",
            "ticks": ""
           }
          },
          "title": {
           "x": 0.05
          },
          "xaxis": {
           "automargin": true,
           "gridcolor": "white",
           "linecolor": "white",
           "ticks": "",
           "title": {
            "standoff": 15
           },
           "zerolinecolor": "white",
           "zerolinewidth": 2
          },
          "yaxis": {
           "automargin": true,
           "gridcolor": "white",
           "linecolor": "white",
           "ticks": "",
           "title": {
            "standoff": 15
           },
           "zerolinecolor": "white",
           "zerolinewidth": 2
          }
         }
        },
        "xaxis": {
         "anchor": "y",
         "domain": [
          0,
          1
         ],
         "title": {
          "text": "Number of Clusters"
         }
        },
        "yaxis": {
         "anchor": "x",
         "domain": [
          0,
          1
         ],
         "title": {
          "text": "Silhouette Score"
         }
        }
       }
      }
     },
     "metadata": {},
     "output_type": "display_data"
    }
   ],
   "source": [
    "# Silhouette Score\n",
    "\n",
    "range_n_clusters = [2, 3, 4, 5, 6, 7, 8]\n",
    "\n",
    "s_cluster = 0\n",
    "max_score = 0\n",
    "\n",
    "results_sil = {}\n",
    "\n",
    "for num_clusters in range_n_clusters:\n",
    "    \n",
    "    # intialise kmeans\n",
    "    kmeans = KMeans(n_clusters=num_clusters, max_iter=50)\n",
    "    kmeans.fit(df)\n",
    "    \n",
    "    cluster_labels = kmeans.labels_\n",
    "\n",
    "    # silhouette score\n",
    "    silhouette_avg = silhouette_score(df, cluster_labels)\n",
    "\n",
    "    results_sil.update({num_clusters: silhouette_avg})\n",
    "\n",
    "    if silhouette_avg > max_score:\n",
    "      max_score = silhouette_avg\n",
    "      s_cluster = num_clusters\n",
    "\n",
    "#Visualize\n",
    "fig_silhouette = px.line( x= list(results_sil.keys()), y=list(results_sil.values()), labels={'x' :'Number of Clusters', 'y' :'Silhouette Score'})\n",
    "fig_silhouette\n",
    "\n",
    "# sil_cluster = \"Optimal Cluster = {}, with {} score.\".format(s_cluster, max_score)"
   ]
  }
 ],
 "metadata": {
  "kernelspec": {
   "display_name": "Python 3.10.0 64-bit",
   "language": "python",
   "name": "python3"
  },
  "language_info": {
   "codemirror_mode": {
    "name": "ipython",
    "version": 3
   },
   "file_extension": ".py",
   "mimetype": "text/x-python",
   "name": "python",
   "nbconvert_exporter": "python",
   "pygments_lexer": "ipython3",
   "version": "3.10.0"
  },
  "orig_nbformat": 4,
  "vscode": {
   "interpreter": {
    "hash": "0940d47f33155bc321fcc4b7b88090fbbb31ddda58fb12fc887cb1479c57fa20"
   }
  }
 },
 "nbformat": 4,
 "nbformat_minor": 2
}
