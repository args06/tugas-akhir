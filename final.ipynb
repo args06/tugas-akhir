{
 "cells": [
  {
   "cell_type": "code",
   "execution_count": 1,
   "metadata": {},
   "outputs": [],
   "source": [
    "# Computing\n",
    "import numpy as np\n",
    "import pandas as pd\n",
    "\n",
    "# Visualization\n",
    "import plotly.express as px\n",
    "\n",
    "# Outlier Detection\n",
    "from sklearn.neighbors import LocalOutlierFactor\n",
    "\n",
    "# Modelling\n",
    "from sklearn.cluster import KMeans\n",
    "\n",
    "# Evaluation\n",
    "from sklearn.metrics import silhouette_score\n",
    "from yellowbrick.cluster import SilhouetteVisualizer\n",
    "\n",
    "# Deployment\n",
    "import dash\n",
    "import dash_bootstrap_components as dbc\n",
    "from dash import Input, Output, dcc, html, dash_table\n",
    "import base64\n",
    "\n",
    "import statistics"
   ]
  },
  {
   "cell_type": "code",
   "execution_count": 2,
   "metadata": {},
   "outputs": [
    {
     "data": {
      "text/html": [
       "<div>\n",
       "<style scoped>\n",
       "    .dataframe tbody tr th:only-of-type {\n",
       "        vertical-align: middle;\n",
       "    }\n",
       "\n",
       "    .dataframe tbody tr th {\n",
       "        vertical-align: top;\n",
       "    }\n",
       "\n",
       "    .dataframe thead th {\n",
       "        text-align: right;\n",
       "    }\n",
       "</style>\n",
       "<table border=\"1\" class=\"dataframe\">\n",
       "  <thead>\n",
       "    <tr style=\"text-align: right;\">\n",
       "      <th></th>\n",
       "      <th>Timestamp</th>\n",
       "      <th>EmailAddress</th>\n",
       "      <th>NamaLengkap</th>\n",
       "      <th>NIM</th>\n",
       "      <th>Angkatan</th>\n",
       "      <th>GolonganUKT</th>\n",
       "      <th>NoHP</th>\n",
       "      <th>IPGanjil</th>\n",
       "      <th>OrganisasiGanjil</th>\n",
       "      <th>KerjaGanjil</th>\n",
       "      <th>IPGenap</th>\n",
       "      <th>OrganisasiGenap</th>\n",
       "      <th>KerjaGenap</th>\n",
       "    </tr>\n",
       "  </thead>\n",
       "  <tbody>\n",
       "    <tr>\n",
       "      <th>0</th>\n",
       "      <td>23/09/2022 18:21</td>\n",
       "      <td>leniandriani836@gmail.com</td>\n",
       "      <td>Leni Andriani</td>\n",
       "      <td>123180001</td>\n",
       "      <td>2018</td>\n",
       "      <td>4</td>\n",
       "      <td>87738364996</td>\n",
       "      <td>3.88</td>\n",
       "      <td>Tidak</td>\n",
       "      <td>Tidak</td>\n",
       "      <td>3.37</td>\n",
       "      <td>Tidak</td>\n",
       "      <td>Tidak</td>\n",
       "    </tr>\n",
       "    <tr>\n",
       "      <th>1</th>\n",
       "      <td>23/09/2022 18:16</td>\n",
       "      <td>isnan.rizqikurniawan@gmail.com</td>\n",
       "      <td>Isnan Rizqi Kurniawan</td>\n",
       "      <td>123170041</td>\n",
       "      <td>2017</td>\n",
       "      <td>4</td>\n",
       "      <td>81215255331</td>\n",
       "      <td>3.83</td>\n",
       "      <td>Ya</td>\n",
       "      <td>Tidak</td>\n",
       "      <td>3.80</td>\n",
       "      <td>Ya</td>\n",
       "      <td>Tidak</td>\n",
       "    </tr>\n",
       "    <tr>\n",
       "      <th>2</th>\n",
       "      <td>23/09/2022 18:20</td>\n",
       "      <td>michelpiercetahya@gmail.com</td>\n",
       "      <td>Michel Pierce Tahya</td>\n",
       "      <td>123210103</td>\n",
       "      <td>2021</td>\n",
       "      <td>5</td>\n",
       "      <td>85156441564</td>\n",
       "      <td>3.90</td>\n",
       "      <td>Tidak</td>\n",
       "      <td>Tidak</td>\n",
       "      <td>3.70</td>\n",
       "      <td>Ya</td>\n",
       "      <td>Tidak</td>\n",
       "    </tr>\n",
       "    <tr>\n",
       "      <th>3</th>\n",
       "      <td>23/09/2022 19:40</td>\n",
       "      <td>williankvn2008@gmail.com</td>\n",
       "      <td>Willian Kelvin Nata</td>\n",
       "      <td>123180004</td>\n",
       "      <td>2018</td>\n",
       "      <td>2</td>\n",
       "      <td>6.28E+12</td>\n",
       "      <td>3.89</td>\n",
       "      <td>Tidak</td>\n",
       "      <td>Tidak</td>\n",
       "      <td>3.57</td>\n",
       "      <td>Tidak</td>\n",
       "      <td>Tidak</td>\n",
       "    </tr>\n",
       "    <tr>\n",
       "      <th>4</th>\n",
       "      <td>29/09/2022 10:11</td>\n",
       "      <td>ekky.raharjo@gmail.com</td>\n",
       "      <td>Rezky Putratama Raharjo</td>\n",
       "      <td>123180007</td>\n",
       "      <td>2018</td>\n",
       "      <td>8</td>\n",
       "      <td>08115626555 (OVO)</td>\n",
       "      <td>4.00</td>\n",
       "      <td>Ya</td>\n",
       "      <td>Ya</td>\n",
       "      <td>4.00</td>\n",
       "      <td>Ya</td>\n",
       "      <td>Ya</td>\n",
       "    </tr>\n",
       "    <tr>\n",
       "      <th>...</th>\n",
       "      <td>...</td>\n",
       "      <td>...</td>\n",
       "      <td>...</td>\n",
       "      <td>...</td>\n",
       "      <td>...</td>\n",
       "      <td>...</td>\n",
       "      <td>...</td>\n",
       "      <td>...</td>\n",
       "      <td>...</td>\n",
       "      <td>...</td>\n",
       "      <td>...</td>\n",
       "      <td>...</td>\n",
       "      <td>...</td>\n",
       "    </tr>\n",
       "    <tr>\n",
       "      <th>205</th>\n",
       "      <td>12/10/2022 10:52</td>\n",
       "      <td>anggita.setiyani@gmail.com</td>\n",
       "      <td>Anggita Setiyani Putri</td>\n",
       "      <td>124190037</td>\n",
       "      <td>2019</td>\n",
       "      <td>2</td>\n",
       "      <td>-</td>\n",
       "      <td>3.82</td>\n",
       "      <td>Ya</td>\n",
       "      <td>Tidak</td>\n",
       "      <td>3.48</td>\n",
       "      <td>Tidak</td>\n",
       "      <td>Ya</td>\n",
       "    </tr>\n",
       "    <tr>\n",
       "      <th>206</th>\n",
       "      <td>12/10/2022 11:11</td>\n",
       "      <td>123210098@student.upnyk.ac.id</td>\n",
       "      <td>Aditya Prayoga</td>\n",
       "      <td>123210098</td>\n",
       "      <td>2021</td>\n",
       "      <td>3</td>\n",
       "      <td>Gak usah mas</td>\n",
       "      <td>3.86</td>\n",
       "      <td>Ya</td>\n",
       "      <td>Tidak</td>\n",
       "      <td>3.60</td>\n",
       "      <td>Tidak</td>\n",
       "      <td>Tidak</td>\n",
       "    </tr>\n",
       "    <tr>\n",
       "      <th>207</th>\n",
       "      <td>12/10/2022 13:13</td>\n",
       "      <td>aliyahalmairah1506@gmail.com</td>\n",
       "      <td>A. Aliyah Almairah Syarif Putri</td>\n",
       "      <td>123190003</td>\n",
       "      <td>2019</td>\n",
       "      <td>4</td>\n",
       "      <td>89606347306</td>\n",
       "      <td>3.65</td>\n",
       "      <td>Ya</td>\n",
       "      <td>Tidak</td>\n",
       "      <td>3.11</td>\n",
       "      <td>Ya</td>\n",
       "      <td>Tidak</td>\n",
       "    </tr>\n",
       "    <tr>\n",
       "      <th>208</th>\n",
       "      <td>11/10/2022 13:54</td>\n",
       "      <td>dyah.akp@gmail.com</td>\n",
       "      <td>Dyah Anggraini Kartika Putri</td>\n",
       "      <td>124180062</td>\n",
       "      <td>2018</td>\n",
       "      <td>4</td>\n",
       "      <td>85158655845</td>\n",
       "      <td>3.87</td>\n",
       "      <td>Ya</td>\n",
       "      <td>Tidak</td>\n",
       "      <td>4.00</td>\n",
       "      <td>Tidak</td>\n",
       "      <td>Tidak</td>\n",
       "    </tr>\n",
       "    <tr>\n",
       "      <th>209</th>\n",
       "      <td>12/10/2022 19:24</td>\n",
       "      <td>nuriyatussholihah18@gmail.com</td>\n",
       "      <td>Nuriyatus Sholihah</td>\n",
       "      <td>123210129</td>\n",
       "      <td>2021</td>\n",
       "      <td>0</td>\n",
       "      <td>87728460042</td>\n",
       "      <td>3.57</td>\n",
       "      <td>Ya</td>\n",
       "      <td>Tidak</td>\n",
       "      <td>3.55</td>\n",
       "      <td>Ya</td>\n",
       "      <td>Tidak</td>\n",
       "    </tr>\n",
       "  </tbody>\n",
       "</table>\n",
       "<p>210 rows × 13 columns</p>\n",
       "</div>"
      ],
      "text/plain": [
       "            Timestamp                    EmailAddress  \\\n",
       "0    23/09/2022 18:21       leniandriani836@gmail.com   \n",
       "1    23/09/2022 18:16  isnan.rizqikurniawan@gmail.com   \n",
       "2    23/09/2022 18:20     michelpiercetahya@gmail.com   \n",
       "3    23/09/2022 19:40        williankvn2008@gmail.com   \n",
       "4    29/09/2022 10:11          ekky.raharjo@gmail.com   \n",
       "..                ...                             ...   \n",
       "205  12/10/2022 10:52      anggita.setiyani@gmail.com   \n",
       "206  12/10/2022 11:11   123210098@student.upnyk.ac.id   \n",
       "207  12/10/2022 13:13    aliyahalmairah1506@gmail.com   \n",
       "208  11/10/2022 13:54              dyah.akp@gmail.com   \n",
       "209  12/10/2022 19:24   nuriyatussholihah18@gmail.com   \n",
       "\n",
       "                         NamaLengkap        NIM  Angkatan  GolonganUKT  \\\n",
       "0                      Leni Andriani  123180001      2018            4   \n",
       "1              Isnan Rizqi Kurniawan  123170041      2017            4   \n",
       "2                Michel Pierce Tahya  123210103      2021            5   \n",
       "3                Willian Kelvin Nata  123180004      2018            2   \n",
       "4            Rezky Putratama Raharjo  123180007      2018            8   \n",
       "..                               ...        ...       ...          ...   \n",
       "205           Anggita Setiyani Putri  124190037      2019            2   \n",
       "206                   Aditya Prayoga  123210098      2021            3   \n",
       "207  A. Aliyah Almairah Syarif Putri  123190003      2019            4   \n",
       "208     Dyah Anggraini Kartika Putri  124180062      2018            4   \n",
       "209               Nuriyatus Sholihah  123210129      2021            0   \n",
       "\n",
       "                  NoHP  IPGanjil OrganisasiGanjil KerjaGanjil  IPGenap  \\\n",
       "0          87738364996      3.88            Tidak       Tidak     3.37   \n",
       "1          81215255331      3.83               Ya       Tidak     3.80   \n",
       "2          85156441564      3.90            Tidak       Tidak     3.70   \n",
       "3             6.28E+12      3.89            Tidak       Tidak     3.57   \n",
       "4    08115626555 (OVO)      4.00               Ya          Ya     4.00   \n",
       "..                 ...       ...              ...         ...      ...   \n",
       "205                  -      3.82               Ya       Tidak     3.48   \n",
       "206       Gak usah mas      3.86               Ya       Tidak     3.60   \n",
       "207        89606347306      3.65               Ya       Tidak     3.11   \n",
       "208        85158655845      3.87               Ya       Tidak     4.00   \n",
       "209        87728460042      3.57               Ya       Tidak     3.55   \n",
       "\n",
       "    OrganisasiGenap KerjaGenap  \n",
       "0             Tidak      Tidak  \n",
       "1                Ya      Tidak  \n",
       "2                Ya      Tidak  \n",
       "3             Tidak      Tidak  \n",
       "4                Ya         Ya  \n",
       "..              ...        ...  \n",
       "205           Tidak         Ya  \n",
       "206           Tidak      Tidak  \n",
       "207              Ya      Tidak  \n",
       "208           Tidak      Tidak  \n",
       "209              Ya      Tidak  \n",
       "\n",
       "[210 rows x 13 columns]"
      ]
     },
     "execution_count": 2,
     "metadata": {},
     "output_type": "execute_result"
    }
   ],
   "source": [
    "# Import Data\n",
    "# Data awal disimpan kedalam frame data\n",
    "data = pd.read_csv('dataset/datasetFull.csv')\n",
    "data"
   ]
  },
  {
   "cell_type": "code",
   "execution_count": 3,
   "metadata": {},
   "outputs": [
    {
     "data": {
      "text/html": [
       "<div>\n",
       "<style scoped>\n",
       "    .dataframe tbody tr th:only-of-type {\n",
       "        vertical-align: middle;\n",
       "    }\n",
       "\n",
       "    .dataframe tbody tr th {\n",
       "        vertical-align: top;\n",
       "    }\n",
       "\n",
       "    .dataframe thead th {\n",
       "        text-align: right;\n",
       "    }\n",
       "</style>\n",
       "<table border=\"1\" class=\"dataframe\">\n",
       "  <thead>\n",
       "    <tr style=\"text-align: right;\">\n",
       "      <th></th>\n",
       "      <th>NIM</th>\n",
       "      <th>GolonganUKT</th>\n",
       "      <th>IPGanjil</th>\n",
       "      <th>OrganisasiGanjil</th>\n",
       "      <th>KerjaGanjil</th>\n",
       "      <th>IPGenap</th>\n",
       "      <th>OrganisasiGenap</th>\n",
       "      <th>KerjaGenap</th>\n",
       "    </tr>\n",
       "  </thead>\n",
       "  <tbody>\n",
       "    <tr>\n",
       "      <th>0</th>\n",
       "      <td>123180001</td>\n",
       "      <td>4</td>\n",
       "      <td>3.88</td>\n",
       "      <td>Tidak</td>\n",
       "      <td>Tidak</td>\n",
       "      <td>3.37</td>\n",
       "      <td>Tidak</td>\n",
       "      <td>Tidak</td>\n",
       "    </tr>\n",
       "    <tr>\n",
       "      <th>1</th>\n",
       "      <td>123170041</td>\n",
       "      <td>4</td>\n",
       "      <td>3.83</td>\n",
       "      <td>Ya</td>\n",
       "      <td>Tidak</td>\n",
       "      <td>3.80</td>\n",
       "      <td>Ya</td>\n",
       "      <td>Tidak</td>\n",
       "    </tr>\n",
       "    <tr>\n",
       "      <th>2</th>\n",
       "      <td>123210103</td>\n",
       "      <td>5</td>\n",
       "      <td>3.90</td>\n",
       "      <td>Tidak</td>\n",
       "      <td>Tidak</td>\n",
       "      <td>3.70</td>\n",
       "      <td>Ya</td>\n",
       "      <td>Tidak</td>\n",
       "    </tr>\n",
       "    <tr>\n",
       "      <th>3</th>\n",
       "      <td>123180004</td>\n",
       "      <td>2</td>\n",
       "      <td>3.89</td>\n",
       "      <td>Tidak</td>\n",
       "      <td>Tidak</td>\n",
       "      <td>3.57</td>\n",
       "      <td>Tidak</td>\n",
       "      <td>Tidak</td>\n",
       "    </tr>\n",
       "    <tr>\n",
       "      <th>4</th>\n",
       "      <td>123180007</td>\n",
       "      <td>8</td>\n",
       "      <td>4.00</td>\n",
       "      <td>Ya</td>\n",
       "      <td>Ya</td>\n",
       "      <td>4.00</td>\n",
       "      <td>Ya</td>\n",
       "      <td>Ya</td>\n",
       "    </tr>\n",
       "    <tr>\n",
       "      <th>...</th>\n",
       "      <td>...</td>\n",
       "      <td>...</td>\n",
       "      <td>...</td>\n",
       "      <td>...</td>\n",
       "      <td>...</td>\n",
       "      <td>...</td>\n",
       "      <td>...</td>\n",
       "      <td>...</td>\n",
       "    </tr>\n",
       "    <tr>\n",
       "      <th>205</th>\n",
       "      <td>124190037</td>\n",
       "      <td>2</td>\n",
       "      <td>3.82</td>\n",
       "      <td>Ya</td>\n",
       "      <td>Tidak</td>\n",
       "      <td>3.48</td>\n",
       "      <td>Tidak</td>\n",
       "      <td>Ya</td>\n",
       "    </tr>\n",
       "    <tr>\n",
       "      <th>206</th>\n",
       "      <td>123210098</td>\n",
       "      <td>3</td>\n",
       "      <td>3.86</td>\n",
       "      <td>Ya</td>\n",
       "      <td>Tidak</td>\n",
       "      <td>3.60</td>\n",
       "      <td>Tidak</td>\n",
       "      <td>Tidak</td>\n",
       "    </tr>\n",
       "    <tr>\n",
       "      <th>207</th>\n",
       "      <td>123190003</td>\n",
       "      <td>4</td>\n",
       "      <td>3.65</td>\n",
       "      <td>Ya</td>\n",
       "      <td>Tidak</td>\n",
       "      <td>3.11</td>\n",
       "      <td>Ya</td>\n",
       "      <td>Tidak</td>\n",
       "    </tr>\n",
       "    <tr>\n",
       "      <th>208</th>\n",
       "      <td>124180062</td>\n",
       "      <td>4</td>\n",
       "      <td>3.87</td>\n",
       "      <td>Ya</td>\n",
       "      <td>Tidak</td>\n",
       "      <td>4.00</td>\n",
       "      <td>Tidak</td>\n",
       "      <td>Tidak</td>\n",
       "    </tr>\n",
       "    <tr>\n",
       "      <th>209</th>\n",
       "      <td>123210129</td>\n",
       "      <td>0</td>\n",
       "      <td>3.57</td>\n",
       "      <td>Ya</td>\n",
       "      <td>Tidak</td>\n",
       "      <td>3.55</td>\n",
       "      <td>Ya</td>\n",
       "      <td>Tidak</td>\n",
       "    </tr>\n",
       "  </tbody>\n",
       "</table>\n",
       "<p>210 rows × 8 columns</p>\n",
       "</div>"
      ],
      "text/plain": [
       "           NIM  GolonganUKT  IPGanjil OrganisasiGanjil KerjaGanjil  IPGenap  \\\n",
       "0    123180001            4      3.88            Tidak       Tidak     3.37   \n",
       "1    123170041            4      3.83               Ya       Tidak     3.80   \n",
       "2    123210103            5      3.90            Tidak       Tidak     3.70   \n",
       "3    123180004            2      3.89            Tidak       Tidak     3.57   \n",
       "4    123180007            8      4.00               Ya          Ya     4.00   \n",
       "..         ...          ...       ...              ...         ...      ...   \n",
       "205  124190037            2      3.82               Ya       Tidak     3.48   \n",
       "206  123210098            3      3.86               Ya       Tidak     3.60   \n",
       "207  123190003            4      3.65               Ya       Tidak     3.11   \n",
       "208  124180062            4      3.87               Ya       Tidak     4.00   \n",
       "209  123210129            0      3.57               Ya       Tidak     3.55   \n",
       "\n",
       "    OrganisasiGenap KerjaGenap  \n",
       "0             Tidak      Tidak  \n",
       "1                Ya      Tidak  \n",
       "2                Ya      Tidak  \n",
       "3             Tidak      Tidak  \n",
       "4                Ya         Ya  \n",
       "..              ...        ...  \n",
       "205           Tidak         Ya  \n",
       "206           Tidak      Tidak  \n",
       "207              Ya      Tidak  \n",
       "208           Tidak      Tidak  \n",
       "209              Ya      Tidak  \n",
       "\n",
       "[210 rows x 8 columns]"
      ]
     },
     "execution_count": 3,
     "metadata": {},
     "output_type": "execute_result"
    }
   ],
   "source": [
    "# Penghapusan kolom data yang tidak digunakan\n",
    "columns = ['NamaLengkap','Timestamp','EmailAddress','Angkatan','NoHP']\n",
    "data.drop(columns, inplace= True, axis=1)\n",
    "data = data.reset_index(drop=True)\n",
    "data['NIM'] = data['NIM'].astype(str)\n",
    "data"
   ]
  },
  {
   "cell_type": "code",
   "execution_count": 4,
   "metadata": {},
   "outputs": [],
   "source": [
    "columns = ['NIM']\n",
    "dataFilter = data.copy()\n",
    "dataFilter.drop(columns, inplace= True, axis=1)\n",
    "dataFilter = dataFilter.reset_index(drop= True)"
   ]
  },
  {
   "cell_type": "code",
   "execution_count": 5,
   "metadata": {},
   "outputs": [
    {
     "data": {
      "text/html": [
       "<div>\n",
       "<style scoped>\n",
       "    .dataframe tbody tr th:only-of-type {\n",
       "        vertical-align: middle;\n",
       "    }\n",
       "\n",
       "    .dataframe tbody tr th {\n",
       "        vertical-align: top;\n",
       "    }\n",
       "\n",
       "    .dataframe thead th {\n",
       "        text-align: right;\n",
       "    }\n",
       "</style>\n",
       "<table border=\"1\" class=\"dataframe\">\n",
       "  <thead>\n",
       "    <tr style=\"text-align: right;\">\n",
       "      <th></th>\n",
       "      <th>IPGenap</th>\n",
       "      <th>OrganisasiGenap</th>\n",
       "      <th>KerjaGenap</th>\n",
       "    </tr>\n",
       "  </thead>\n",
       "  <tbody>\n",
       "    <tr>\n",
       "      <th>0</th>\n",
       "      <td>3.37</td>\n",
       "      <td>Tidak</td>\n",
       "      <td>Tidak</td>\n",
       "    </tr>\n",
       "    <tr>\n",
       "      <th>1</th>\n",
       "      <td>3.80</td>\n",
       "      <td>Ya</td>\n",
       "      <td>Tidak</td>\n",
       "    </tr>\n",
       "    <tr>\n",
       "      <th>2</th>\n",
       "      <td>3.70</td>\n",
       "      <td>Ya</td>\n",
       "      <td>Tidak</td>\n",
       "    </tr>\n",
       "    <tr>\n",
       "      <th>3</th>\n",
       "      <td>3.57</td>\n",
       "      <td>Tidak</td>\n",
       "      <td>Tidak</td>\n",
       "    </tr>\n",
       "    <tr>\n",
       "      <th>4</th>\n",
       "      <td>4.00</td>\n",
       "      <td>Ya</td>\n",
       "      <td>Ya</td>\n",
       "    </tr>\n",
       "    <tr>\n",
       "      <th>...</th>\n",
       "      <td>...</td>\n",
       "      <td>...</td>\n",
       "      <td>...</td>\n",
       "    </tr>\n",
       "    <tr>\n",
       "      <th>205</th>\n",
       "      <td>3.48</td>\n",
       "      <td>Tidak</td>\n",
       "      <td>Ya</td>\n",
       "    </tr>\n",
       "    <tr>\n",
       "      <th>206</th>\n",
       "      <td>3.60</td>\n",
       "      <td>Tidak</td>\n",
       "      <td>Tidak</td>\n",
       "    </tr>\n",
       "    <tr>\n",
       "      <th>207</th>\n",
       "      <td>3.11</td>\n",
       "      <td>Ya</td>\n",
       "      <td>Tidak</td>\n",
       "    </tr>\n",
       "    <tr>\n",
       "      <th>208</th>\n",
       "      <td>4.00</td>\n",
       "      <td>Tidak</td>\n",
       "      <td>Tidak</td>\n",
       "    </tr>\n",
       "    <tr>\n",
       "      <th>209</th>\n",
       "      <td>3.55</td>\n",
       "      <td>Ya</td>\n",
       "      <td>Tidak</td>\n",
       "    </tr>\n",
       "  </tbody>\n",
       "</table>\n",
       "<p>210 rows × 3 columns</p>\n",
       "</div>"
      ],
      "text/plain": [
       "     IPGenap OrganisasiGenap KerjaGenap\n",
       "0       3.37           Tidak      Tidak\n",
       "1       3.80              Ya      Tidak\n",
       "2       3.70              Ya      Tidak\n",
       "3       3.57           Tidak      Tidak\n",
       "4       4.00              Ya         Ya\n",
       "..       ...             ...        ...\n",
       "205     3.48           Tidak         Ya\n",
       "206     3.60           Tidak      Tidak\n",
       "207     3.11              Ya      Tidak\n",
       "208     4.00           Tidak      Tidak\n",
       "209     3.55              Ya      Tidak\n",
       "\n",
       "[210 rows x 3 columns]"
      ]
     },
     "execution_count": 5,
     "metadata": {},
     "output_type": "execute_result"
    }
   ],
   "source": [
    "dataFilter = dataFilter[['IPGenap','OrganisasiGenap','KerjaGenap']]\n",
    "dataFilter"
   ]
  },
  {
   "cell_type": "code",
   "execution_count": 6,
   "metadata": {},
   "outputs": [
    {
     "name": "stdout",
     "output_type": "stream",
     "text": [
      "Modus :  4.0\n"
     ]
    },
    {
     "data": {
      "text/plain": [
       "count    210.000000\n",
       "mean       3.498952\n",
       "std        0.416096\n",
       "min        1.620000\n",
       "25%        3.300000\n",
       "50%        3.600000\n",
       "75%        3.790000\n",
       "max        4.000000\n",
       "Name: IPGenap, dtype: float64"
      ]
     },
     "execution_count": 6,
     "metadata": {},
     "output_type": "execute_result"
    }
   ],
   "source": [
    "print(\"Modus : \",statistics.mode(dataFilter['IPGenap']))\n",
    "dataFilter['IPGenap'].describe()\n"
   ]
  },
  {
   "cell_type": "code",
   "execution_count": 7,
   "metadata": {},
   "outputs": [
    {
     "data": {
      "text/html": [
       "<div>\n",
       "<style scoped>\n",
       "    .dataframe tbody tr th:only-of-type {\n",
       "        vertical-align: middle;\n",
       "    }\n",
       "\n",
       "    .dataframe tbody tr th {\n",
       "        vertical-align: top;\n",
       "    }\n",
       "\n",
       "    .dataframe thead th {\n",
       "        text-align: right;\n",
       "    }\n",
       "</style>\n",
       "<table border=\"1\" class=\"dataframe\">\n",
       "  <thead>\n",
       "    <tr style=\"text-align: right;\">\n",
       "      <th></th>\n",
       "      <th>IPGenap</th>\n",
       "      <th>OrganisasiGenap</th>\n",
       "      <th>KerjaGenap</th>\n",
       "    </tr>\n",
       "  </thead>\n",
       "  <tbody>\n",
       "    <tr>\n",
       "      <th>0</th>\n",
       "      <td>3.37</td>\n",
       "      <td>0</td>\n",
       "      <td>0</td>\n",
       "    </tr>\n",
       "    <tr>\n",
       "      <th>1</th>\n",
       "      <td>3.80</td>\n",
       "      <td>1</td>\n",
       "      <td>0</td>\n",
       "    </tr>\n",
       "    <tr>\n",
       "      <th>2</th>\n",
       "      <td>3.70</td>\n",
       "      <td>1</td>\n",
       "      <td>0</td>\n",
       "    </tr>\n",
       "    <tr>\n",
       "      <th>3</th>\n",
       "      <td>3.57</td>\n",
       "      <td>0</td>\n",
       "      <td>0</td>\n",
       "    </tr>\n",
       "    <tr>\n",
       "      <th>4</th>\n",
       "      <td>4.00</td>\n",
       "      <td>1</td>\n",
       "      <td>1</td>\n",
       "    </tr>\n",
       "    <tr>\n",
       "      <th>...</th>\n",
       "      <td>...</td>\n",
       "      <td>...</td>\n",
       "      <td>...</td>\n",
       "    </tr>\n",
       "    <tr>\n",
       "      <th>205</th>\n",
       "      <td>3.48</td>\n",
       "      <td>0</td>\n",
       "      <td>1</td>\n",
       "    </tr>\n",
       "    <tr>\n",
       "      <th>206</th>\n",
       "      <td>3.60</td>\n",
       "      <td>0</td>\n",
       "      <td>0</td>\n",
       "    </tr>\n",
       "    <tr>\n",
       "      <th>207</th>\n",
       "      <td>3.11</td>\n",
       "      <td>1</td>\n",
       "      <td>0</td>\n",
       "    </tr>\n",
       "    <tr>\n",
       "      <th>208</th>\n",
       "      <td>4.00</td>\n",
       "      <td>0</td>\n",
       "      <td>0</td>\n",
       "    </tr>\n",
       "    <tr>\n",
       "      <th>209</th>\n",
       "      <td>3.55</td>\n",
       "      <td>1</td>\n",
       "      <td>0</td>\n",
       "    </tr>\n",
       "  </tbody>\n",
       "</table>\n",
       "<p>210 rows × 3 columns</p>\n",
       "</div>"
      ],
      "text/plain": [
       "     IPGenap  OrganisasiGenap  KerjaGenap\n",
       "0       3.37                0           0\n",
       "1       3.80                1           0\n",
       "2       3.70                1           0\n",
       "3       3.57                0           0\n",
       "4       4.00                1           1\n",
       "..       ...              ...         ...\n",
       "205     3.48                0           1\n",
       "206     3.60                0           0\n",
       "207     3.11                1           0\n",
       "208     4.00                0           0\n",
       "209     3.55                1           0\n",
       "\n",
       "[210 rows x 3 columns]"
      ]
     },
     "execution_count": 7,
     "metadata": {},
     "output_type": "execute_result"
    }
   ],
   "source": [
    "# Encoding data\n",
    "dataGenap = dataFilter.copy()\n",
    "yesNoIndex = {'Ya':1,'Tidak':0}\n",
    "dataGenap = dataGenap.replace(yesNoIndex)\n",
    "dataGenap"
   ]
  },
  {
   "cell_type": "code",
   "execution_count": 8,
   "metadata": {},
   "outputs": [],
   "source": [
    "# Penerapan Metode Local Outlier Factor\n",
    "outliers = []\n",
    "fixOutlier = pd.DataFrame({\n",
    "    'NIM' : data['NIM'],\n",
    "    'IP' : data['IPGenap'],\n",
    "    'Organisasi' : data['OrganisasiGenap'],\n",
    "    'Kerja' : data['KerjaGenap'],\n",
    "    })\n",
    "fixOutlier = fixOutlier.replace(yesNoIndex)\n",
    "fixOutlierDummy = fixOutlier.copy()"
   ]
  },
  {
   "cell_type": "code",
   "execution_count": 9,
   "metadata": {},
   "outputs": [
    {
     "data": {
      "text/html": [
       "<div>\n",
       "<style scoped>\n",
       "    .dataframe tbody tr th:only-of-type {\n",
       "        vertical-align: middle;\n",
       "    }\n",
       "\n",
       "    .dataframe tbody tr th {\n",
       "        vertical-align: top;\n",
       "    }\n",
       "\n",
       "    .dataframe thead th {\n",
       "        text-align: right;\n",
       "    }\n",
       "</style>\n",
       "<table border=\"1\" class=\"dataframe\">\n",
       "  <thead>\n",
       "    <tr style=\"text-align: right;\">\n",
       "      <th></th>\n",
       "      <th>IP</th>\n",
       "      <th>Organisasi</th>\n",
       "      <th>Kerja</th>\n",
       "    </tr>\n",
       "  </thead>\n",
       "  <tbody>\n",
       "    <tr>\n",
       "      <th>0</th>\n",
       "      <td>3.37</td>\n",
       "      <td>0</td>\n",
       "      <td>0</td>\n",
       "    </tr>\n",
       "    <tr>\n",
       "      <th>1</th>\n",
       "      <td>3.80</td>\n",
       "      <td>1</td>\n",
       "      <td>0</td>\n",
       "    </tr>\n",
       "    <tr>\n",
       "      <th>2</th>\n",
       "      <td>3.70</td>\n",
       "      <td>1</td>\n",
       "      <td>0</td>\n",
       "    </tr>\n",
       "    <tr>\n",
       "      <th>3</th>\n",
       "      <td>3.57</td>\n",
       "      <td>0</td>\n",
       "      <td>0</td>\n",
       "    </tr>\n",
       "    <tr>\n",
       "      <th>4</th>\n",
       "      <td>4.00</td>\n",
       "      <td>1</td>\n",
       "      <td>1</td>\n",
       "    </tr>\n",
       "    <tr>\n",
       "      <th>...</th>\n",
       "      <td>...</td>\n",
       "      <td>...</td>\n",
       "      <td>...</td>\n",
       "    </tr>\n",
       "    <tr>\n",
       "      <th>205</th>\n",
       "      <td>3.48</td>\n",
       "      <td>0</td>\n",
       "      <td>1</td>\n",
       "    </tr>\n",
       "    <tr>\n",
       "      <th>206</th>\n",
       "      <td>3.60</td>\n",
       "      <td>0</td>\n",
       "      <td>0</td>\n",
       "    </tr>\n",
       "    <tr>\n",
       "      <th>207</th>\n",
       "      <td>3.11</td>\n",
       "      <td>1</td>\n",
       "      <td>0</td>\n",
       "    </tr>\n",
       "    <tr>\n",
       "      <th>208</th>\n",
       "      <td>4.00</td>\n",
       "      <td>0</td>\n",
       "      <td>0</td>\n",
       "    </tr>\n",
       "    <tr>\n",
       "      <th>209</th>\n",
       "      <td>3.55</td>\n",
       "      <td>1</td>\n",
       "      <td>0</td>\n",
       "    </tr>\n",
       "  </tbody>\n",
       "</table>\n",
       "<p>210 rows × 3 columns</p>\n",
       "</div>"
      ],
      "text/plain": [
       "       IP  Organisasi  Kerja\n",
       "0    3.37           0      0\n",
       "1    3.80           1      0\n",
       "2    3.70           1      0\n",
       "3    3.57           0      0\n",
       "4    4.00           1      1\n",
       "..    ...         ...    ...\n",
       "205  3.48           0      1\n",
       "206  3.60           0      0\n",
       "207  3.11           1      0\n",
       "208  4.00           0      0\n",
       "209  3.55           1      0\n",
       "\n",
       "[210 rows x 3 columns]"
      ]
     },
     "execution_count": 9,
     "metadata": {},
     "output_type": "execute_result"
    }
   ],
   "source": [
    "dataFinal = pd.DataFrame({\n",
    "    'IP' : dataGenap['IPGenap'],\n",
    "    'Organisasi' : dataGenap['OrganisasiGenap'],\n",
    "    'Kerja' : dataGenap['KerjaGenap'],\n",
    "    })\n",
    "dataFinal"
   ]
  },
  {
   "cell_type": "code",
   "execution_count": 10,
   "metadata": {},
   "outputs": [],
   "source": [
    "def removeOutlier(dataset, outlier, dummy):\n",
    "    dataset.drop(outlier, inplace=True)\n",
    "    dummy.drop(outlier, inplace=True)\n",
    "    dataset = dataset.reset_index(drop=True)\n",
    "    dummy = dummy.reset_index(drop=True)\n",
    "    return dataset, dummy \n",
    "\n",
    "def detectOutlier(new, dummy, treshold):\n",
    "    datas = pd.DataFrame(new)\n",
    "    outlier = []\n",
    "    i = 0\n",
    "    for score in datas[0]:\n",
    "        if score >= treshold:\n",
    "            outlier.append(i)\n",
    "            outliers.append(dummy[\"NIM\"][i])\n",
    "        i += 1\n",
    "    return outlier\n",
    "\n",
    "def localOutlierFactor(dataset, dummy):\n",
    "    clf = LocalOutlierFactor(n_neighbors=20, contamination=\"auto\")\n",
    "    X = dataset[['IP','Organisasi','Kerja']].values\n",
    "    y_pred = clf.fit_predict(X)\n",
    "    X_scores = clf.negative_outlier_factor_\n",
    "    round_off_values = np.around(X_scores, decimals =2)\n",
    "    new =round_off_values*(-1)\n",
    "    outlier = detectOutlier(new, dummy, clf.offset_ * (-1))\n",
    "    dataset, dummy = removeOutlier(dataset, outlier, dummy)\n",
    "    print(clf.offset_)\n",
    "    return dataset, dummy\n",
    "\n",
    "def lofProcess(dataset, dummy):\n",
    "    dataset, dummy = localOutlierFactor(dataset, dummy)\n",
    "    dataset, dummy = localOutlierFactor(dataset, dummy)\n",
    "    return dataset, dummy"
   ]
  },
  {
   "cell_type": "code",
   "execution_count": 11,
   "metadata": {},
   "outputs": [
    {
     "name": "stdout",
     "output_type": "stream",
     "text": [
      "-1.5\n",
      "-1.5\n"
     ]
    }
   ],
   "source": [
    "dataFinal, fixOutlierDummy = lofProcess(dataFinal, fixOutlierDummy)"
   ]
  },
  {
   "cell_type": "code",
   "execution_count": 12,
   "metadata": {},
   "outputs": [],
   "source": [
    "x = []\n",
    "i = 0\n",
    "j = 0\n",
    "for nim in fixOutlier[\"NIM\"]:\n",
    "    if nim in outliers:\n",
    "        x.append(\"Outlier\")\n",
    "        i += 1\n",
    "    else:\n",
    "        x.append(\"Inlier\")\n",
    "        j += 1\n",
    "fixOutlier[\"Hasil\"] = x"
   ]
  },
  {
   "cell_type": "code",
   "execution_count": 13,
   "metadata": {},
   "outputs": [
    {
     "data": {
      "text/plain": [
       "38"
      ]
     },
     "execution_count": 13,
     "metadata": {},
     "output_type": "execute_result"
    }
   ],
   "source": [
    "i"
   ]
  },
  {
   "cell_type": "code",
   "execution_count": 14,
   "metadata": {},
   "outputs": [
    {
     "data": {
      "text/html": [
       "<div>\n",
       "<style scoped>\n",
       "    .dataframe tbody tr th:only-of-type {\n",
       "        vertical-align: middle;\n",
       "    }\n",
       "\n",
       "    .dataframe tbody tr th {\n",
       "        vertical-align: top;\n",
       "    }\n",
       "\n",
       "    .dataframe thead th {\n",
       "        text-align: right;\n",
       "    }\n",
       "</style>\n",
       "<table border=\"1\" class=\"dataframe\">\n",
       "  <thead>\n",
       "    <tr style=\"text-align: right;\">\n",
       "      <th></th>\n",
       "      <th>NIM</th>\n",
       "      <th>IP</th>\n",
       "      <th>Organisasi</th>\n",
       "      <th>Kerja</th>\n",
       "      <th>Hasil</th>\n",
       "    </tr>\n",
       "  </thead>\n",
       "  <tbody>\n",
       "    <tr>\n",
       "      <th>0</th>\n",
       "      <td>123180001</td>\n",
       "      <td>3.37</td>\n",
       "      <td>0</td>\n",
       "      <td>0</td>\n",
       "      <td>Inlier</td>\n",
       "    </tr>\n",
       "    <tr>\n",
       "      <th>1</th>\n",
       "      <td>123170041</td>\n",
       "      <td>3.80</td>\n",
       "      <td>1</td>\n",
       "      <td>0</td>\n",
       "      <td>Inlier</td>\n",
       "    </tr>\n",
       "    <tr>\n",
       "      <th>2</th>\n",
       "      <td>123210103</td>\n",
       "      <td>3.70</td>\n",
       "      <td>1</td>\n",
       "      <td>0</td>\n",
       "      <td>Inlier</td>\n",
       "    </tr>\n",
       "    <tr>\n",
       "      <th>3</th>\n",
       "      <td>123180004</td>\n",
       "      <td>3.57</td>\n",
       "      <td>0</td>\n",
       "      <td>0</td>\n",
       "      <td>Inlier</td>\n",
       "    </tr>\n",
       "    <tr>\n",
       "      <th>4</th>\n",
       "      <td>123180007</td>\n",
       "      <td>4.00</td>\n",
       "      <td>1</td>\n",
       "      <td>1</td>\n",
       "      <td>Inlier</td>\n",
       "    </tr>\n",
       "    <tr>\n",
       "      <th>...</th>\n",
       "      <td>...</td>\n",
       "      <td>...</td>\n",
       "      <td>...</td>\n",
       "      <td>...</td>\n",
       "      <td>...</td>\n",
       "    </tr>\n",
       "    <tr>\n",
       "      <th>205</th>\n",
       "      <td>124190037</td>\n",
       "      <td>3.48</td>\n",
       "      <td>0</td>\n",
       "      <td>1</td>\n",
       "      <td>Outlier</td>\n",
       "    </tr>\n",
       "    <tr>\n",
       "      <th>206</th>\n",
       "      <td>123210098</td>\n",
       "      <td>3.60</td>\n",
       "      <td>0</td>\n",
       "      <td>0</td>\n",
       "      <td>Inlier</td>\n",
       "    </tr>\n",
       "    <tr>\n",
       "      <th>207</th>\n",
       "      <td>123190003</td>\n",
       "      <td>3.11</td>\n",
       "      <td>1</td>\n",
       "      <td>0</td>\n",
       "      <td>Outlier</td>\n",
       "    </tr>\n",
       "    <tr>\n",
       "      <th>208</th>\n",
       "      <td>124180062</td>\n",
       "      <td>4.00</td>\n",
       "      <td>0</td>\n",
       "      <td>0</td>\n",
       "      <td>Inlier</td>\n",
       "    </tr>\n",
       "    <tr>\n",
       "      <th>209</th>\n",
       "      <td>123210129</td>\n",
       "      <td>3.55</td>\n",
       "      <td>1</td>\n",
       "      <td>0</td>\n",
       "      <td>Inlier</td>\n",
       "    </tr>\n",
       "  </tbody>\n",
       "</table>\n",
       "<p>210 rows × 5 columns</p>\n",
       "</div>"
      ],
      "text/plain": [
       "           NIM    IP  Organisasi  Kerja    Hasil\n",
       "0    123180001  3.37           0      0   Inlier\n",
       "1    123170041  3.80           1      0   Inlier\n",
       "2    123210103  3.70           1      0   Inlier\n",
       "3    123180004  3.57           0      0   Inlier\n",
       "4    123180007  4.00           1      1   Inlier\n",
       "..         ...   ...         ...    ...      ...\n",
       "205  124190037  3.48           0      1  Outlier\n",
       "206  123210098  3.60           0      0   Inlier\n",
       "207  123190003  3.11           1      0  Outlier\n",
       "208  124180062  4.00           0      0   Inlier\n",
       "209  123210129  3.55           1      0   Inlier\n",
       "\n",
       "[210 rows x 5 columns]"
      ]
     },
     "execution_count": 14,
     "metadata": {},
     "output_type": "execute_result"
    }
   ],
   "source": [
    "fixOutlier"
   ]
  },
  {
   "cell_type": "code",
   "execution_count": 15,
   "metadata": {},
   "outputs": [],
   "source": [
    "def createPlot3D(dataset, firstParam, secondParam, thirdParam, color, desc = \"\", shape = \"\"):\n",
    "    if desc == \"\":\n",
    "        if shape == \"\":\n",
    "            fig_lof = px.scatter_3d(dataset, x=firstParam, y=secondParam, z=thirdParam, opacity=0.7, color =color)\n",
    "        else:\n",
    "            fig_lof = px.scatter_3d(dataset, x=firstParam, y=secondParam, z=thirdParam, opacity=0.7, symbol=shape, color = color)\n",
    "    else:\n",
    "        if shape == \"\":\n",
    "            fig_lof = px.scatter_3d(dataset, x=firstParam, y=secondParam, z=thirdParam, opacity=0.7, color =color, color_discrete_map = desc)\n",
    "        else:\n",
    "            fig_lof = px.scatter_3d(dataset, x=firstParam, y=secondParam, z=thirdParam, opacity=0.7, symbol=shape, color = color, color_discrete_map = desc)\n",
    "    fig_lof.update_layout(margin=dict(l=0, r=0, b=0, t=0))\n",
    "\n",
    "    return fig_lof"
   ]
  },
  {
   "cell_type": "code",
   "execution_count": 16,
   "metadata": {},
   "outputs": [
    {
     "data": {
      "application/vnd.plotly.v1+json": {
       "config": {
        "plotlyServerURL": "https://plot.ly"
       },
       "data": [
        {
         "hovertemplate": "Hasil=Inlier<br>IP=%{x}<br>Organisasi=%{y}<br>Kerja=%{z}<extra></extra>",
         "legendgroup": "Inlier",
         "marker": {
          "color": "blue",
          "opacity": 0.7,
          "symbol": "circle"
         },
         "mode": "markers",
         "name": "Inlier",
         "scene": "scene",
         "showlegend": true,
         "type": "scatter3d",
         "x": [
          3.37,
          3.8,
          3.7,
          3.57,
          4,
          3.08,
          3.6,
          3.62,
          3.77,
          3.7,
          3.83,
          3.77,
          3.88,
          3.92,
          3.92,
          3.67,
          3.09,
          3.6,
          3.58,
          3.48,
          3.42,
          3.79,
          3.71,
          3.73,
          2.83,
          3.71,
          3.81,
          3.79,
          3.68,
          3.3,
          3.96,
          3.95,
          3.5,
          3.3,
          3.85,
          3.35,
          3.6,
          3.77,
          3.48,
          3.64,
          3.77,
          2.8,
          3.39,
          3.4,
          3.65,
          3.92,
          3.81,
          3.7,
          3.39,
          3.54,
          3.17,
          3.58,
          3.8,
          3.6,
          3.54,
          4,
          2.75,
          3.86,
          3.79,
          4,
          3.75,
          3.96,
          3.5,
          3.72,
          3.07,
          4,
          3.92,
          3.96,
          3.85,
          3.77,
          3.96,
          3.95,
          3.52,
          3.65,
          3.57,
          3.2,
          4,
          3.2,
          3.48,
          3.91,
          4,
          3.41,
          3.83,
          3.48,
          3.33,
          3.82,
          3.8,
          3.81,
          3.81,
          3.73,
          3.69,
          4,
          3.39,
          3.84,
          3.55,
          3.76,
          3.77,
          3.25,
          3.52,
          3.7,
          3.52,
          3.65,
          3.74,
          3.15,
          3.76,
          3.33,
          4,
          3.19,
          3.25,
          4,
          3.14,
          3.3,
          3.65,
          3.6,
          3.68,
          3,
          3.56,
          3.35,
          3.39,
          2.98,
          3.5,
          3.28,
          3.52,
          3.68,
          3.32,
          3.67,
          3.25,
          3.24,
          3.5,
          3.49,
          3.8,
          3.88,
          3.1,
          3.55,
          3,
          3.75,
          3.75,
          3.75,
          3,
          3.5,
          3.52,
          3.92,
          3,
          3.71,
          3.79,
          3.83,
          2.88,
          3.8,
          3,
          2.83,
          3.62,
          3.6,
          3.5,
          3.6,
          3.79,
          3.69,
          3.66,
          3.4,
          3.5,
          3.8,
          3.57,
          3.88,
          4,
          2.8,
          3.77,
          3,
          3.65,
          3.4,
          3.94,
          3.6,
          4,
          3.55
         ],
         "y": [
          0,
          1,
          1,
          0,
          1,
          0,
          0,
          1,
          1,
          0,
          1,
          0,
          1,
          0,
          0,
          0,
          0,
          0,
          1,
          1,
          0,
          0,
          0,
          0,
          0,
          0,
          1,
          1,
          1,
          0,
          1,
          0,
          1,
          0,
          0,
          0,
          1,
          0,
          0,
          1,
          0,
          0,
          0,
          1,
          0,
          0,
          1,
          1,
          0,
          0,
          1,
          1,
          1,
          0,
          0,
          1,
          0,
          1,
          1,
          1,
          1,
          0,
          1,
          1,
          0,
          0,
          1,
          1,
          1,
          1,
          0,
          0,
          1,
          0,
          1,
          0,
          1,
          1,
          1,
          1,
          1,
          0,
          1,
          0,
          1,
          0,
          1,
          0,
          0,
          0,
          1,
          0,
          1,
          0,
          0,
          0,
          1,
          0,
          0,
          0,
          1,
          0,
          0,
          0,
          1,
          1,
          0,
          0,
          1,
          1,
          0,
          1,
          0,
          0,
          0,
          0,
          1,
          0,
          1,
          1,
          1,
          0,
          0,
          1,
          0,
          1,
          0,
          0,
          1,
          1,
          1,
          1,
          0,
          0,
          0,
          0,
          0,
          0,
          0,
          0,
          0,
          0,
          0,
          0,
          1,
          0,
          0,
          1,
          0,
          0,
          1,
          0,
          0,
          1,
          1,
          0,
          0,
          1,
          1,
          0,
          1,
          1,
          0,
          0,
          0,
          0,
          1,
          0,
          1,
          0,
          0,
          1
         ],
         "z": [
          0,
          0,
          0,
          0,
          1,
          0,
          0,
          0,
          1,
          0,
          0,
          0,
          0,
          0,
          0,
          0,
          0,
          0,
          0,
          0,
          0,
          0,
          0,
          0,
          0,
          0,
          0,
          1,
          0,
          0,
          0,
          0,
          0,
          0,
          0,
          0,
          0,
          0,
          0,
          0,
          0,
          0,
          0,
          0,
          0,
          0,
          0,
          0,
          0,
          0,
          1,
          0,
          1,
          0,
          0,
          0,
          0,
          1,
          0,
          1,
          0,
          0,
          0,
          0,
          0,
          0,
          1,
          0,
          0,
          0,
          0,
          0,
          0,
          0,
          0,
          0,
          0,
          1,
          0,
          0,
          1,
          0,
          0,
          0,
          0,
          0,
          0,
          0,
          0,
          0,
          1,
          0,
          0,
          0,
          0,
          0,
          0,
          0,
          0,
          0,
          0,
          0,
          0,
          0,
          1,
          1,
          0,
          0,
          1,
          0,
          0,
          1,
          0,
          0,
          0,
          0,
          1,
          0,
          0,
          1,
          1,
          0,
          0,
          0,
          0,
          1,
          0,
          0,
          0,
          0,
          0,
          1,
          0,
          0,
          0,
          0,
          0,
          0,
          0,
          0,
          0,
          0,
          0,
          0,
          0,
          0,
          0,
          0,
          0,
          0,
          0,
          0,
          0,
          0,
          0,
          0,
          0,
          0,
          1,
          0,
          1,
          1,
          0,
          0,
          0,
          0,
          0,
          0,
          0,
          0,
          0,
          0
         ]
        },
        {
         "hovertemplate": "Hasil=Outlier<br>IP=%{x}<br>Organisasi=%{y}<br>Kerja=%{z}<extra></extra>",
         "legendgroup": "Outlier",
         "marker": {
          "color": "red",
          "opacity": 0.7,
          "symbol": "circle"
         },
         "mode": "markers",
         "name": "Outlier",
         "scene": "scene",
         "showlegend": true,
         "type": "scatter3d",
         "x": [
          2.75,
          3.76,
          2.54,
          3.61,
          3.85,
          3.26,
          3.2,
          2.2,
          4,
          3.12,
          3.88,
          2.78,
          3.59,
          2.85,
          3.88,
          3.96,
          3.8,
          3.71,
          3.62,
          2.43,
          3.17,
          2.83,
          2.54,
          2.93,
          3.02,
          3.32,
          3.5,
          3.17,
          1.62,
          2.12,
          2.6,
          3.21,
          2.08,
          3.83,
          3,
          2.08,
          3.48,
          3.11
         ],
         "y": [
          1,
          0,
          0,
          0,
          0,
          1,
          1,
          1,
          0,
          0,
          0,
          0,
          0,
          1,
          0,
          0,
          0,
          0,
          0,
          0,
          1,
          1,
          0,
          0,
          0,
          0,
          0,
          1,
          0,
          0,
          0,
          1,
          0,
          0,
          1,
          0,
          0,
          1
         ],
         "z": [
          0,
          1,
          0,
          1,
          1,
          0,
          0,
          1,
          1,
          1,
          1,
          1,
          1,
          0,
          1,
          1,
          1,
          1,
          1,
          1,
          0,
          0,
          0,
          1,
          1,
          1,
          1,
          0,
          1,
          1,
          0,
          0,
          0,
          1,
          0,
          0,
          1,
          0
         ]
        }
       ],
       "layout": {
        "legend": {
         "title": {
          "text": "Hasil"
         },
         "tracegroupgap": 0
        },
        "margin": {
         "b": 0,
         "l": 0,
         "r": 0,
         "t": 0
        },
        "scene": {
         "domain": {
          "x": [
           0,
           1
          ],
          "y": [
           0,
           1
          ]
         },
         "xaxis": {
          "title": {
           "text": "IP"
          }
         },
         "yaxis": {
          "title": {
           "text": "Organisasi"
          }
         },
         "zaxis": {
          "title": {
           "text": "Kerja"
          }
         }
        },
        "template": {
         "data": {
          "bar": [
           {
            "error_x": {
             "color": "#2a3f5f"
            },
            "error_y": {
             "color": "#2a3f5f"
            },
            "marker": {
             "line": {
              "color": "#E5ECF6",
              "width": 0.5
             },
             "pattern": {
              "fillmode": "overlay",
              "size": 10,
              "solidity": 0.2
             }
            },
            "type": "bar"
           }
          ],
          "barpolar": [
           {
            "marker": {
             "line": {
              "color": "#E5ECF6",
              "width": 0.5
             },
             "pattern": {
              "fillmode": "overlay",
              "size": 10,
              "solidity": 0.2
             }
            },
            "type": "barpolar"
           }
          ],
          "carpet": [
           {
            "aaxis": {
             "endlinecolor": "#2a3f5f",
             "gridcolor": "white",
             "linecolor": "white",
             "minorgridcolor": "white",
             "startlinecolor": "#2a3f5f"
            },
            "baxis": {
             "endlinecolor": "#2a3f5f",
             "gridcolor": "white",
             "linecolor": "white",
             "minorgridcolor": "white",
             "startlinecolor": "#2a3f5f"
            },
            "type": "carpet"
           }
          ],
          "choropleth": [
           {
            "colorbar": {
             "outlinewidth": 0,
             "ticks": ""
            },
            "type": "choropleth"
           }
          ],
          "contour": [
           {
            "colorbar": {
             "outlinewidth": 0,
             "ticks": ""
            },
            "colorscale": [
             [
              0,
              "#0d0887"
             ],
             [
              0.1111111111111111,
              "#46039f"
             ],
             [
              0.2222222222222222,
              "#7201a8"
             ],
             [
              0.3333333333333333,
              "#9c179e"
             ],
             [
              0.4444444444444444,
              "#bd3786"
             ],
             [
              0.5555555555555556,
              "#d8576b"
             ],
             [
              0.6666666666666666,
              "#ed7953"
             ],
             [
              0.7777777777777778,
              "#fb9f3a"
             ],
             [
              0.8888888888888888,
              "#fdca26"
             ],
             [
              1,
              "#f0f921"
             ]
            ],
            "type": "contour"
           }
          ],
          "contourcarpet": [
           {
            "colorbar": {
             "outlinewidth": 0,
             "ticks": ""
            },
            "type": "contourcarpet"
           }
          ],
          "heatmap": [
           {
            "colorbar": {
             "outlinewidth": 0,
             "ticks": ""
            },
            "colorscale": [
             [
              0,
              "#0d0887"
             ],
             [
              0.1111111111111111,
              "#46039f"
             ],
             [
              0.2222222222222222,
              "#7201a8"
             ],
             [
              0.3333333333333333,
              "#9c179e"
             ],
             [
              0.4444444444444444,
              "#bd3786"
             ],
             [
              0.5555555555555556,
              "#d8576b"
             ],
             [
              0.6666666666666666,
              "#ed7953"
             ],
             [
              0.7777777777777778,
              "#fb9f3a"
             ],
             [
              0.8888888888888888,
              "#fdca26"
             ],
             [
              1,
              "#f0f921"
             ]
            ],
            "type": "heatmap"
           }
          ],
          "heatmapgl": [
           {
            "colorbar": {
             "outlinewidth": 0,
             "ticks": ""
            },
            "colorscale": [
             [
              0,
              "#0d0887"
             ],
             [
              0.1111111111111111,
              "#46039f"
             ],
             [
              0.2222222222222222,
              "#7201a8"
             ],
             [
              0.3333333333333333,
              "#9c179e"
             ],
             [
              0.4444444444444444,
              "#bd3786"
             ],
             [
              0.5555555555555556,
              "#d8576b"
             ],
             [
              0.6666666666666666,
              "#ed7953"
             ],
             [
              0.7777777777777778,
              "#fb9f3a"
             ],
             [
              0.8888888888888888,
              "#fdca26"
             ],
             [
              1,
              "#f0f921"
             ]
            ],
            "type": "heatmapgl"
           }
          ],
          "histogram": [
           {
            "marker": {
             "pattern": {
              "fillmode": "overlay",
              "size": 10,
              "solidity": 0.2
             }
            },
            "type": "histogram"
           }
          ],
          "histogram2d": [
           {
            "colorbar": {
             "outlinewidth": 0,
             "ticks": ""
            },
            "colorscale": [
             [
              0,
              "#0d0887"
             ],
             [
              0.1111111111111111,
              "#46039f"
             ],
             [
              0.2222222222222222,
              "#7201a8"
             ],
             [
              0.3333333333333333,
              "#9c179e"
             ],
             [
              0.4444444444444444,
              "#bd3786"
             ],
             [
              0.5555555555555556,
              "#d8576b"
             ],
             [
              0.6666666666666666,
              "#ed7953"
             ],
             [
              0.7777777777777778,
              "#fb9f3a"
             ],
             [
              0.8888888888888888,
              "#fdca26"
             ],
             [
              1,
              "#f0f921"
             ]
            ],
            "type": "histogram2d"
           }
          ],
          "histogram2dcontour": [
           {
            "colorbar": {
             "outlinewidth": 0,
             "ticks": ""
            },
            "colorscale": [
             [
              0,
              "#0d0887"
             ],
             [
              0.1111111111111111,
              "#46039f"
             ],
             [
              0.2222222222222222,
              "#7201a8"
             ],
             [
              0.3333333333333333,
              "#9c179e"
             ],
             [
              0.4444444444444444,
              "#bd3786"
             ],
             [
              0.5555555555555556,
              "#d8576b"
             ],
             [
              0.6666666666666666,
              "#ed7953"
             ],
             [
              0.7777777777777778,
              "#fb9f3a"
             ],
             [
              0.8888888888888888,
              "#fdca26"
             ],
             [
              1,
              "#f0f921"
             ]
            ],
            "type": "histogram2dcontour"
           }
          ],
          "mesh3d": [
           {
            "colorbar": {
             "outlinewidth": 0,
             "ticks": ""
            },
            "type": "mesh3d"
           }
          ],
          "parcoords": [
           {
            "line": {
             "colorbar": {
              "outlinewidth": 0,
              "ticks": ""
             }
            },
            "type": "parcoords"
           }
          ],
          "pie": [
           {
            "automargin": true,
            "type": "pie"
           }
          ],
          "scatter": [
           {
            "fillpattern": {
             "fillmode": "overlay",
             "size": 10,
             "solidity": 0.2
            },
            "type": "scatter"
           }
          ],
          "scatter3d": [
           {
            "line": {
             "colorbar": {
              "outlinewidth": 0,
              "ticks": ""
             }
            },
            "marker": {
             "colorbar": {
              "outlinewidth": 0,
              "ticks": ""
             }
            },
            "type": "scatter3d"
           }
          ],
          "scattercarpet": [
           {
            "marker": {
             "colorbar": {
              "outlinewidth": 0,
              "ticks": ""
             }
            },
            "type": "scattercarpet"
           }
          ],
          "scattergeo": [
           {
            "marker": {
             "colorbar": {
              "outlinewidth": 0,
              "ticks": ""
             }
            },
            "type": "scattergeo"
           }
          ],
          "scattergl": [
           {
            "marker": {
             "colorbar": {
              "outlinewidth": 0,
              "ticks": ""
             }
            },
            "type": "scattergl"
           }
          ],
          "scattermapbox": [
           {
            "marker": {
             "colorbar": {
              "outlinewidth": 0,
              "ticks": ""
             }
            },
            "type": "scattermapbox"
           }
          ],
          "scatterpolar": [
           {
            "marker": {
             "colorbar": {
              "outlinewidth": 0,
              "ticks": ""
             }
            },
            "type": "scatterpolar"
           }
          ],
          "scatterpolargl": [
           {
            "marker": {
             "colorbar": {
              "outlinewidth": 0,
              "ticks": ""
             }
            },
            "type": "scatterpolargl"
           }
          ],
          "scatterternary": [
           {
            "marker": {
             "colorbar": {
              "outlinewidth": 0,
              "ticks": ""
             }
            },
            "type": "scatterternary"
           }
          ],
          "surface": [
           {
            "colorbar": {
             "outlinewidth": 0,
             "ticks": ""
            },
            "colorscale": [
             [
              0,
              "#0d0887"
             ],
             [
              0.1111111111111111,
              "#46039f"
             ],
             [
              0.2222222222222222,
              "#7201a8"
             ],
             [
              0.3333333333333333,
              "#9c179e"
             ],
             [
              0.4444444444444444,
              "#bd3786"
             ],
             [
              0.5555555555555556,
              "#d8576b"
             ],
             [
              0.6666666666666666,
              "#ed7953"
             ],
             [
              0.7777777777777778,
              "#fb9f3a"
             ],
             [
              0.8888888888888888,
              "#fdca26"
             ],
             [
              1,
              "#f0f921"
             ]
            ],
            "type": "surface"
           }
          ],
          "table": [
           {
            "cells": {
             "fill": {
              "color": "#EBF0F8"
             },
             "line": {
              "color": "white"
             }
            },
            "header": {
             "fill": {
              "color": "#C8D4E3"
             },
             "line": {
              "color": "white"
             }
            },
            "type": "table"
           }
          ]
         },
         "layout": {
          "annotationdefaults": {
           "arrowcolor": "#2a3f5f",
           "arrowhead": 0,
           "arrowwidth": 1
          },
          "autotypenumbers": "strict",
          "coloraxis": {
           "colorbar": {
            "outlinewidth": 0,
            "ticks": ""
           }
          },
          "colorscale": {
           "diverging": [
            [
             0,
             "#8e0152"
            ],
            [
             0.1,
             "#c51b7d"
            ],
            [
             0.2,
             "#de77ae"
            ],
            [
             0.3,
             "#f1b6da"
            ],
            [
             0.4,
             "#fde0ef"
            ],
            [
             0.5,
             "#f7f7f7"
            ],
            [
             0.6,
             "#e6f5d0"
            ],
            [
             0.7,
             "#b8e186"
            ],
            [
             0.8,
             "#7fbc41"
            ],
            [
             0.9,
             "#4d9221"
            ],
            [
             1,
             "#276419"
            ]
           ],
           "sequential": [
            [
             0,
             "#0d0887"
            ],
            [
             0.1111111111111111,
             "#46039f"
            ],
            [
             0.2222222222222222,
             "#7201a8"
            ],
            [
             0.3333333333333333,
             "#9c179e"
            ],
            [
             0.4444444444444444,
             "#bd3786"
            ],
            [
             0.5555555555555556,
             "#d8576b"
            ],
            [
             0.6666666666666666,
             "#ed7953"
            ],
            [
             0.7777777777777778,
             "#fb9f3a"
            ],
            [
             0.8888888888888888,
             "#fdca26"
            ],
            [
             1,
             "#f0f921"
            ]
           ],
           "sequentialminus": [
            [
             0,
             "#0d0887"
            ],
            [
             0.1111111111111111,
             "#46039f"
            ],
            [
             0.2222222222222222,
             "#7201a8"
            ],
            [
             0.3333333333333333,
             "#9c179e"
            ],
            [
             0.4444444444444444,
             "#bd3786"
            ],
            [
             0.5555555555555556,
             "#d8576b"
            ],
            [
             0.6666666666666666,
             "#ed7953"
            ],
            [
             0.7777777777777778,
             "#fb9f3a"
            ],
            [
             0.8888888888888888,
             "#fdca26"
            ],
            [
             1,
             "#f0f921"
            ]
           ]
          },
          "colorway": [
           "#636efa",
           "#EF553B",
           "#00cc96",
           "#ab63fa",
           "#FFA15A",
           "#19d3f3",
           "#FF6692",
           "#B6E880",
           "#FF97FF",
           "#FECB52"
          ],
          "font": {
           "color": "#2a3f5f"
          },
          "geo": {
           "bgcolor": "white",
           "lakecolor": "white",
           "landcolor": "#E5ECF6",
           "showlakes": true,
           "showland": true,
           "subunitcolor": "white"
          },
          "hoverlabel": {
           "align": "left"
          },
          "hovermode": "closest",
          "mapbox": {
           "style": "light"
          },
          "paper_bgcolor": "white",
          "plot_bgcolor": "#E5ECF6",
          "polar": {
           "angularaxis": {
            "gridcolor": "white",
            "linecolor": "white",
            "ticks": ""
           },
           "bgcolor": "#E5ECF6",
           "radialaxis": {
            "gridcolor": "white",
            "linecolor": "white",
            "ticks": ""
           }
          },
          "scene": {
           "xaxis": {
            "backgroundcolor": "#E5ECF6",
            "gridcolor": "white",
            "gridwidth": 2,
            "linecolor": "white",
            "showbackground": true,
            "ticks": "",
            "zerolinecolor": "white"
           },
           "yaxis": {
            "backgroundcolor": "#E5ECF6",
            "gridcolor": "white",
            "gridwidth": 2,
            "linecolor": "white",
            "showbackground": true,
            "ticks": "",
            "zerolinecolor": "white"
           },
           "zaxis": {
            "backgroundcolor": "#E5ECF6",
            "gridcolor": "white",
            "gridwidth": 2,
            "linecolor": "white",
            "showbackground": true,
            "ticks": "",
            "zerolinecolor": "white"
           }
          },
          "shapedefaults": {
           "line": {
            "color": "#2a3f5f"
           }
          },
          "ternary": {
           "aaxis": {
            "gridcolor": "white",
            "linecolor": "white",
            "ticks": ""
           },
           "baxis": {
            "gridcolor": "white",
            "linecolor": "white",
            "ticks": ""
           },
           "bgcolor": "#E5ECF6",
           "caxis": {
            "gridcolor": "white",
            "linecolor": "white",
            "ticks": ""
           }
          },
          "title": {
           "x": 0.05
          },
          "xaxis": {
           "automargin": true,
           "gridcolor": "white",
           "linecolor": "white",
           "ticks": "",
           "title": {
            "standoff": 15
           },
           "zerolinecolor": "white",
           "zerolinewidth": 2
          },
          "yaxis": {
           "automargin": true,
           "gridcolor": "white",
           "linecolor": "white",
           "ticks": "",
           "title": {
            "standoff": 15
           },
           "zerolinecolor": "white",
           "zerolinewidth": 2
          }
         }
        }
       }
      }
     },
     "metadata": {},
     "output_type": "display_data"
    }
   ],
   "source": [
    "outlierPlot = createPlot3D(fixOutlier, \"IP\", \"Organisasi\", \"Kerja\", \"Hasil\", desc= {\"Inlier\": \"blue\", \"Outlier\": \"red\"})\n",
    "outlierPlot"
   ]
  },
  {
   "cell_type": "code",
   "execution_count": 17,
   "metadata": {},
   "outputs": [],
   "source": [
    "# Modelling\n",
    "# Elbow Method\n",
    "def elbowMethod(dataset):\n",
    "    optimumValue = 0\n",
    "    optimumScore = 0\n",
    "    ssd = []\n",
    "    range_n_clusters = [2, 3, 4, 5, 6, 7, 8]\n",
    "    for num_clusters in range_n_clusters:\n",
    "        kmeans = KMeans(n_clusters=num_clusters, max_iter=300)\n",
    "        kmeans.fit(dataset)\n",
    "        ssd.append(kmeans.inertia_)\n",
    "        if(kmeans.inertia_ > optimumScore):\n",
    "            optimumScore = kmeans.inertia_\n",
    "            optimumValue = num_clusters\n",
    "\n",
    "    # plot the SSDs for each n_clusters\n",
    "    fig_elbow = px.line(x=range_n_clusters, y=ssd, labels={'x' :'Cluster', 'y' :'Elbow SSE(Sum of Square Error)'} )\n",
    "    fig_elbow\n",
    "    return fig_elbow, optimumValue, optimumScore\n",
    "\n",
    "# K-Means Method\n",
    "def kmeansMethod(dataset, k):\n",
    "    kmeans = KMeans(n_clusters=k, max_iter=300, random_state= 56)\n",
    "    kmeans.fit(dataset.to_numpy())\n",
    "    labels = kmeans.predict(dataset.to_numpy())\n",
    "    samplesCentroids = kmeans.cluster_centers_[labels]\n",
    "    return kmeans, labels, samplesCentroids\n",
    "\n",
    "# Silhouette Score\n",
    "def silhouetteMethod(dataset):\n",
    "    range_n_clusters = [2, 3, 4, 5, 6, 7, 8]\n",
    "    optimumScore = 0\n",
    "    optimumValue = 0\n",
    "    results_sil = {}\n",
    "    for num_clusters in range_n_clusters:\n",
    "        # intialise kmeans\n",
    "        kmeans = KMeans(n_clusters=num_clusters, max_iter=300)\n",
    "        kmeans.fit(dataset)\n",
    "        cluster_labels = kmeans.labels_\n",
    "        # silhouette score\n",
    "        silhouette_avg = silhouette_score(dataset, cluster_labels)\n",
    "        results_sil.update({num_clusters: silhouette_avg})\n",
    "        if silhouette_avg > optimumScore:\n",
    "            optimumValue = num_clusters\n",
    "            optimumScore = silhouette_avg\n",
    "    #Visualize\n",
    "    fig_silhouette = px.line( x= list(results_sil.keys()), y=list(results_sil.values()), labels={'x' :'Number of Clusters', 'y' :'Silhouette Score'})\n",
    "    return fig_silhouette, optimumValue, optimumScore"
   ]
  },
  {
   "cell_type": "code",
   "execution_count": 18,
   "metadata": {},
   "outputs": [],
   "source": [
    "figElbow, optimumElbowValue, optimumElbowScore= elbowMethod(dataFinal)\n",
    "figSilhouette, optimumSilhouetteValue, optimumSilhouetteScore= silhouetteMethod(dataFinal)\n",
    "silhouetteOptimal = \"Optimal Cluster = {}, with {} score\".format(optimumSilhouetteValue, optimumSilhouetteScore)\n",
    "kmeansModel, kmeansLabels, kmeansCentroids = kmeansMethod(dataFinal, optimumSilhouetteValue)"
   ]
  },
  {
   "cell_type": "code",
   "execution_count": 19,
   "metadata": {},
   "outputs": [
    {
     "data": {
      "text/html": [
       "<div>\n",
       "<style scoped>\n",
       "    .dataframe tbody tr th:only-of-type {\n",
       "        vertical-align: middle;\n",
       "    }\n",
       "\n",
       "    .dataframe tbody tr th {\n",
       "        vertical-align: top;\n",
       "    }\n",
       "\n",
       "    .dataframe thead th {\n",
       "        text-align: right;\n",
       "    }\n",
       "</style>\n",
       "<table border=\"1\" class=\"dataframe\">\n",
       "  <thead>\n",
       "    <tr style=\"text-align: right;\">\n",
       "      <th></th>\n",
       "      <th>NIM</th>\n",
       "      <th>IP</th>\n",
       "      <th>Organisasi</th>\n",
       "      <th>Kerja</th>\n",
       "      <th>Cluster</th>\n",
       "    </tr>\n",
       "  </thead>\n",
       "  <tbody>\n",
       "    <tr>\n",
       "      <th>0</th>\n",
       "      <td>123180001</td>\n",
       "      <td>3.37</td>\n",
       "      <td>0</td>\n",
       "      <td>0</td>\n",
       "      <td>0</td>\n",
       "    </tr>\n",
       "    <tr>\n",
       "      <th>1</th>\n",
       "      <td>123170041</td>\n",
       "      <td>3.80</td>\n",
       "      <td>1</td>\n",
       "      <td>0</td>\n",
       "      <td>1</td>\n",
       "    </tr>\n",
       "    <tr>\n",
       "      <th>2</th>\n",
       "      <td>123210103</td>\n",
       "      <td>3.70</td>\n",
       "      <td>1</td>\n",
       "      <td>0</td>\n",
       "      <td>1</td>\n",
       "    </tr>\n",
       "    <tr>\n",
       "      <th>3</th>\n",
       "      <td>123180004</td>\n",
       "      <td>3.57</td>\n",
       "      <td>0</td>\n",
       "      <td>0</td>\n",
       "      <td>0</td>\n",
       "    </tr>\n",
       "    <tr>\n",
       "      <th>4</th>\n",
       "      <td>123180007</td>\n",
       "      <td>4.00</td>\n",
       "      <td>1</td>\n",
       "      <td>1</td>\n",
       "      <td>2</td>\n",
       "    </tr>\n",
       "    <tr>\n",
       "      <th>...</th>\n",
       "      <td>...</td>\n",
       "      <td>...</td>\n",
       "      <td>...</td>\n",
       "      <td>...</td>\n",
       "      <td>...</td>\n",
       "    </tr>\n",
       "    <tr>\n",
       "      <th>167</th>\n",
       "      <td>123210146</td>\n",
       "      <td>3.40</td>\n",
       "      <td>0</td>\n",
       "      <td>0</td>\n",
       "      <td>0</td>\n",
       "    </tr>\n",
       "    <tr>\n",
       "      <th>168</th>\n",
       "      <td>124200064</td>\n",
       "      <td>3.94</td>\n",
       "      <td>1</td>\n",
       "      <td>0</td>\n",
       "      <td>1</td>\n",
       "    </tr>\n",
       "    <tr>\n",
       "      <th>169</th>\n",
       "      <td>123210098</td>\n",
       "      <td>3.60</td>\n",
       "      <td>0</td>\n",
       "      <td>0</td>\n",
       "      <td>0</td>\n",
       "    </tr>\n",
       "    <tr>\n",
       "      <th>170</th>\n",
       "      <td>124180062</td>\n",
       "      <td>4.00</td>\n",
       "      <td>0</td>\n",
       "      <td>0</td>\n",
       "      <td>0</td>\n",
       "    </tr>\n",
       "    <tr>\n",
       "      <th>171</th>\n",
       "      <td>123210129</td>\n",
       "      <td>3.55</td>\n",
       "      <td>1</td>\n",
       "      <td>0</td>\n",
       "      <td>1</td>\n",
       "    </tr>\n",
       "  </tbody>\n",
       "</table>\n",
       "<p>172 rows × 5 columns</p>\n",
       "</div>"
      ],
      "text/plain": [
       "           NIM    IP  Organisasi  Kerja Cluster\n",
       "0    123180001  3.37           0      0       0\n",
       "1    123170041  3.80           1      0       1\n",
       "2    123210103  3.70           1      0       1\n",
       "3    123180004  3.57           0      0       0\n",
       "4    123180007  4.00           1      1       2\n",
       "..         ...   ...         ...    ...     ...\n",
       "167  123210146  3.40           0      0       0\n",
       "168  124200064  3.94           1      0       1\n",
       "169  123210098  3.60           0      0       0\n",
       "170  124180062  4.00           0      0       0\n",
       "171  123210129  3.55           1      0       1\n",
       "\n",
       "[172 rows x 5 columns]"
      ]
     },
     "execution_count": 19,
     "metadata": {},
     "output_type": "execute_result"
    }
   ],
   "source": [
    "fixData = fixOutlierDummy.copy()\n",
    "dataFinal.insert(3,\"Cluster\", kmeansModel.labels_.astype(str))\n",
    "fixData.insert(4,\"Cluster\", kmeansModel.labels_.astype(str))\n",
    "fixData"
   ]
  },
  {
   "cell_type": "code",
   "execution_count": 20,
   "metadata": {},
   "outputs": [
    {
     "name": "stderr",
     "output_type": "stream",
     "text": [
      "C:\\Users\\ASUS\\AppData\\Local\\Temp\\ipykernel_22536\\2856605822.py:1: FutureWarning:\n",
      "\n",
      "The default value of numeric_only in DataFrameGroupBy.mean is deprecated. In a future version, numeric_only will default to False. Either specify numeric_only or select only columns which should be valid for the function.\n",
      "\n"
     ]
    },
    {
     "data": {
      "text/plain": [
       "0    3.520102\n",
       "1    3.686863\n",
       "2    3.625217\n",
       "Name: Rata-Rata IP, dtype: float64"
      ]
     },
     "execution_count": 20,
     "metadata": {},
     "output_type": "execute_result"
    }
   ],
   "source": [
    "finalAnalysis = fixData.groupby([\"Cluster\"]).mean().reset_index()\n",
    "# finalAnalysis = finalAnalysis[[\"IP\"]]\n",
    "finalAnalysis = finalAnalysis.rename(columns={\n",
    "    'index' : 'Cluster',\n",
    "    'IP' : \"Rata-Rata IP\"\n",
    "})\n",
    "finalAnalysis['Rata-Rata IP']"
   ]
  },
  {
   "cell_type": "code",
   "execution_count": 21,
   "metadata": {},
   "outputs": [
    {
     "data": {
      "text/html": [
       "<div>\n",
       "<style scoped>\n",
       "    .dataframe tbody tr th:only-of-type {\n",
       "        vertical-align: middle;\n",
       "    }\n",
       "\n",
       "    .dataframe tbody tr th {\n",
       "        vertical-align: top;\n",
       "    }\n",
       "\n",
       "    .dataframe thead th {\n",
       "        text-align: right;\n",
       "    }\n",
       "</style>\n",
       "<table border=\"1\" class=\"dataframe\">\n",
       "  <thead>\n",
       "    <tr style=\"text-align: right;\">\n",
       "      <th></th>\n",
       "      <th>Cluster</th>\n",
       "      <th>Rata-Rata IP</th>\n",
       "      <th>Organisasi</th>\n",
       "      <th>Kerja</th>\n",
       "    </tr>\n",
       "  </thead>\n",
       "  <tbody>\n",
       "    <tr>\n",
       "      <th>0</th>\n",
       "      <td>0</td>\n",
       "      <td>3.520102</td>\n",
       "      <td>0.0</td>\n",
       "      <td>0.0</td>\n",
       "    </tr>\n",
       "    <tr>\n",
       "      <th>1</th>\n",
       "      <td>1</td>\n",
       "      <td>3.686863</td>\n",
       "      <td>1.0</td>\n",
       "      <td>0.0</td>\n",
       "    </tr>\n",
       "    <tr>\n",
       "      <th>2</th>\n",
       "      <td>2</td>\n",
       "      <td>3.625217</td>\n",
       "      <td>1.0</td>\n",
       "      <td>1.0</td>\n",
       "    </tr>\n",
       "  </tbody>\n",
       "</table>\n",
       "</div>"
      ],
      "text/plain": [
       "  Cluster  Rata-Rata IP  Organisasi  Kerja\n",
       "0       0      3.520102         0.0    0.0\n",
       "1       1      3.686863         1.0    0.0\n",
       "2       2      3.625217         1.0    1.0"
      ]
     },
     "execution_count": 21,
     "metadata": {},
     "output_type": "execute_result"
    }
   ],
   "source": [
    "finalAnalysis"
   ]
  },
  {
   "cell_type": "code",
   "execution_count": 22,
   "metadata": {},
   "outputs": [
    {
     "data": {
      "text/html": [
       "<div>\n",
       "<style scoped>\n",
       "    .dataframe tbody tr th:only-of-type {\n",
       "        vertical-align: middle;\n",
       "    }\n",
       "\n",
       "    .dataframe tbody tr th {\n",
       "        vertical-align: top;\n",
       "    }\n",
       "\n",
       "    .dataframe thead th {\n",
       "        text-align: right;\n",
       "    }\n",
       "</style>\n",
       "<table border=\"1\" class=\"dataframe\">\n",
       "  <thead>\n",
       "    <tr style=\"text-align: right;\">\n",
       "      <th></th>\n",
       "      <th>Cluster</th>\n",
       "      <th>Count</th>\n",
       "    </tr>\n",
       "  </thead>\n",
       "  <tbody>\n",
       "    <tr>\n",
       "      <th>0</th>\n",
       "      <td>0</td>\n",
       "      <td>98</td>\n",
       "    </tr>\n",
       "    <tr>\n",
       "      <th>1</th>\n",
       "      <td>1</td>\n",
       "      <td>51</td>\n",
       "    </tr>\n",
       "    <tr>\n",
       "      <th>2</th>\n",
       "      <td>2</td>\n",
       "      <td>23</td>\n",
       "    </tr>\n",
       "  </tbody>\n",
       "</table>\n",
       "</div>"
      ],
      "text/plain": [
       "  Cluster  Count\n",
       "0       0     98\n",
       "1       1     51\n",
       "2       2     23"
      ]
     },
     "execution_count": 22,
     "metadata": {},
     "output_type": "execute_result"
    }
   ],
   "source": [
    "x = pd.DataFrame(dataFinal[\"Cluster\"].value_counts().reset_index())\n",
    "x = x.rename(columns={\n",
    "    'Cluster': 'Count',\n",
    "    'index': 'Cluster'\n",
    "    })\n",
    "x"
   ]
  },
  {
   "cell_type": "code",
   "execution_count": 23,
   "metadata": {},
   "outputs": [
    {
     "data": {
      "text/plain": [
       "3.37"
      ]
     },
     "execution_count": 23,
     "metadata": {},
     "output_type": "execute_result"
    }
   ],
   "source": [
    "datas = dataFinal[\"IP\"].to_list()\n",
    "datas[0]"
   ]
  },
  {
   "cell_type": "code",
   "execution_count": 24,
   "metadata": {},
   "outputs": [],
   "source": [
    "def detectWarning(datas):\n",
    "    warning = []\n",
    "    i = 0\n",
    "    for ip in datas:\n",
    "        if ip < 3:\n",
    "            warning.append(\"Warning\")\n",
    "        else:\n",
    "            warning.append(\"Safe\")\n",
    "        i += 1\n",
    "    return pd.DataFrame(warning)"
   ]
  },
  {
   "cell_type": "code",
   "execution_count": 25,
   "metadata": {},
   "outputs": [
    {
     "data": {
      "text/html": [
       "<div>\n",
       "<style scoped>\n",
       "    .dataframe tbody tr th:only-of-type {\n",
       "        vertical-align: middle;\n",
       "    }\n",
       "\n",
       "    .dataframe tbody tr th {\n",
       "        vertical-align: top;\n",
       "    }\n",
       "\n",
       "    .dataframe thead th {\n",
       "        text-align: right;\n",
       "    }\n",
       "</style>\n",
       "<table border=\"1\" class=\"dataframe\">\n",
       "  <thead>\n",
       "    <tr style=\"text-align: right;\">\n",
       "      <th></th>\n",
       "      <th>IP</th>\n",
       "      <th>Organisasi</th>\n",
       "      <th>Kerja</th>\n",
       "      <th>Cluster</th>\n",
       "      <th>Status</th>\n",
       "    </tr>\n",
       "  </thead>\n",
       "  <tbody>\n",
       "    <tr>\n",
       "      <th>0</th>\n",
       "      <td>3.37</td>\n",
       "      <td>0</td>\n",
       "      <td>0</td>\n",
       "      <td>0</td>\n",
       "      <td>Safe</td>\n",
       "    </tr>\n",
       "    <tr>\n",
       "      <th>1</th>\n",
       "      <td>3.80</td>\n",
       "      <td>1</td>\n",
       "      <td>0</td>\n",
       "      <td>1</td>\n",
       "      <td>Safe</td>\n",
       "    </tr>\n",
       "    <tr>\n",
       "      <th>2</th>\n",
       "      <td>3.70</td>\n",
       "      <td>1</td>\n",
       "      <td>0</td>\n",
       "      <td>1</td>\n",
       "      <td>Safe</td>\n",
       "    </tr>\n",
       "    <tr>\n",
       "      <th>3</th>\n",
       "      <td>3.57</td>\n",
       "      <td>0</td>\n",
       "      <td>0</td>\n",
       "      <td>0</td>\n",
       "      <td>Safe</td>\n",
       "    </tr>\n",
       "    <tr>\n",
       "      <th>4</th>\n",
       "      <td>4.00</td>\n",
       "      <td>1</td>\n",
       "      <td>1</td>\n",
       "      <td>2</td>\n",
       "      <td>Safe</td>\n",
       "    </tr>\n",
       "    <tr>\n",
       "      <th>...</th>\n",
       "      <td>...</td>\n",
       "      <td>...</td>\n",
       "      <td>...</td>\n",
       "      <td>...</td>\n",
       "      <td>...</td>\n",
       "    </tr>\n",
       "    <tr>\n",
       "      <th>167</th>\n",
       "      <td>3.40</td>\n",
       "      <td>0</td>\n",
       "      <td>0</td>\n",
       "      <td>0</td>\n",
       "      <td>Safe</td>\n",
       "    </tr>\n",
       "    <tr>\n",
       "      <th>168</th>\n",
       "      <td>3.94</td>\n",
       "      <td>1</td>\n",
       "      <td>0</td>\n",
       "      <td>1</td>\n",
       "      <td>Safe</td>\n",
       "    </tr>\n",
       "    <tr>\n",
       "      <th>169</th>\n",
       "      <td>3.60</td>\n",
       "      <td>0</td>\n",
       "      <td>0</td>\n",
       "      <td>0</td>\n",
       "      <td>Safe</td>\n",
       "    </tr>\n",
       "    <tr>\n",
       "      <th>170</th>\n",
       "      <td>4.00</td>\n",
       "      <td>0</td>\n",
       "      <td>0</td>\n",
       "      <td>0</td>\n",
       "      <td>Safe</td>\n",
       "    </tr>\n",
       "    <tr>\n",
       "      <th>171</th>\n",
       "      <td>3.55</td>\n",
       "      <td>1</td>\n",
       "      <td>0</td>\n",
       "      <td>1</td>\n",
       "      <td>Safe</td>\n",
       "    </tr>\n",
       "  </tbody>\n",
       "</table>\n",
       "<p>172 rows × 5 columns</p>\n",
       "</div>"
      ],
      "text/plain": [
       "       IP  Organisasi  Kerja Cluster Status\n",
       "0    3.37           0      0       0   Safe\n",
       "1    3.80           1      0       1   Safe\n",
       "2    3.70           1      0       1   Safe\n",
       "3    3.57           0      0       0   Safe\n",
       "4    4.00           1      1       2   Safe\n",
       "..    ...         ...    ...     ...    ...\n",
       "167  3.40           0      0       0   Safe\n",
       "168  3.94           1      0       1   Safe\n",
       "169  3.60           0      0       0   Safe\n",
       "170  4.00           0      0       0   Safe\n",
       "171  3.55           1      0       1   Safe\n",
       "\n",
       "[172 rows x 5 columns]"
      ]
     },
     "execution_count": 25,
     "metadata": {},
     "output_type": "execute_result"
    }
   ],
   "source": [
    "warning = detectWarning(dataFinal[\"IP\"].to_list())\n",
    "dataFinal[\"Status\"] = warning\n",
    "dataFinal"
   ]
  },
  {
   "cell_type": "code",
   "execution_count": 26,
   "metadata": {},
   "outputs": [
    {
     "data": {
      "application/vnd.plotly.v1+json": {
       "config": {
        "plotlyServerURL": "https://plot.ly"
       },
       "data": [
        {
         "hovertemplate": "Cluster=0<br>Status=Safe<br>IP=%{x}<br>Organisasi=%{y}<br>Kerja=%{z}<extra></extra>",
         "legendgroup": "0, Safe",
         "marker": {
          "color": "goldenrod",
          "opacity": 0.7,
          "symbol": "circle"
         },
         "mode": "markers",
         "name": "0, Safe",
         "scene": "scene",
         "showlegend": true,
         "type": "scatter3d",
         "x": [
          3.37,
          3.57,
          3.08,
          3.6,
          3.7,
          3.77,
          3.92,
          3.92,
          3.67,
          3.09,
          3.6,
          3.42,
          3.79,
          3.71,
          3.73,
          3.71,
          3.3,
          3.95,
          3.3,
          3.85,
          3.35,
          3.77,
          3.48,
          3.77,
          3.39,
          3.65,
          3.92,
          3.39,
          3.54,
          3.6,
          3.54,
          3.96,
          3.07,
          4,
          3.96,
          3.95,
          3.65,
          3.2,
          3.41,
          3.48,
          3.82,
          3.81,
          3.81,
          3.73,
          4,
          3.84,
          3.55,
          3.76,
          3.25,
          3.52,
          3.7,
          3.65,
          3.74,
          3.15,
          4,
          3.19,
          3.14,
          3.65,
          3.6,
          3.68,
          3,
          3.35,
          3.28,
          3.52,
          3.32,
          3.25,
          3.24,
          3.1,
          3.55,
          3,
          3.75,
          3.75,
          3.75,
          3,
          3.5,
          3.52,
          3.92,
          3,
          3.71,
          3.83,
          3,
          3.6,
          3.5,
          3.69,
          3.66,
          3.8,
          4,
          3.77,
          3,
          3.4,
          3.6,
          4
         ],
         "y": [
          0,
          0,
          0,
          0,
          0,
          0,
          0,
          0,
          0,
          0,
          0,
          0,
          0,
          0,
          0,
          0,
          0,
          0,
          0,
          0,
          0,
          0,
          0,
          0,
          0,
          0,
          0,
          0,
          0,
          0,
          0,
          0,
          0,
          0,
          0,
          0,
          0,
          0,
          0,
          0,
          0,
          0,
          0,
          0,
          0,
          0,
          0,
          0,
          0,
          0,
          0,
          0,
          0,
          0,
          0,
          0,
          0,
          0,
          0,
          0,
          0,
          0,
          0,
          0,
          0,
          0,
          0,
          0,
          0,
          0,
          0,
          0,
          0,
          0,
          0,
          0,
          0,
          0,
          0,
          0,
          0,
          0,
          0,
          0,
          0,
          0,
          0,
          0,
          0,
          0,
          0,
          0
         ],
         "z": [
          0,
          0,
          0,
          0,
          0,
          0,
          0,
          0,
          0,
          0,
          0,
          0,
          0,
          0,
          0,
          0,
          0,
          0,
          0,
          0,
          0,
          0,
          0,
          0,
          0,
          0,
          0,
          0,
          0,
          0,
          0,
          0,
          0,
          0,
          0,
          0,
          0,
          0,
          0,
          0,
          0,
          0,
          0,
          0,
          0,
          0,
          0,
          0,
          0,
          0,
          0,
          0,
          0,
          0,
          0,
          0,
          0,
          0,
          0,
          0,
          0,
          0,
          0,
          0,
          0,
          0,
          0,
          0,
          0,
          0,
          0,
          0,
          0,
          0,
          0,
          0,
          0,
          0,
          0,
          0,
          0,
          0,
          0,
          0,
          0,
          0,
          0,
          0,
          0,
          0,
          0,
          0
         ]
        },
        {
         "hovertemplate": "Cluster=0<br>Status=Warning<br>IP=%{x}<br>Organisasi=%{y}<br>Kerja=%{z}<extra></extra>",
         "legendgroup": "0, Warning",
         "marker": {
          "color": "goldenrod",
          "opacity": 0.7,
          "symbol": "diamond"
         },
         "mode": "markers",
         "name": "0, Warning",
         "scene": "scene",
         "showlegend": true,
         "type": "scatter3d",
         "x": [
          2.83,
          2.8,
          2.75,
          2.88,
          2.83,
          2.8
         ],
         "y": [
          0,
          0,
          0,
          0,
          0,
          0
         ],
         "z": [
          0,
          0,
          0,
          0,
          0,
          0
         ]
        },
        {
         "hovertemplate": "Cluster=1<br>Status=Safe<br>IP=%{x}<br>Organisasi=%{y}<br>Kerja=%{z}<extra></extra>",
         "legendgroup": "1, Safe",
         "marker": {
          "color": "blue",
          "opacity": 0.7,
          "symbol": "circle"
         },
         "mode": "markers",
         "name": "1, Safe",
         "scene": "scene",
         "showlegend": true,
         "type": "scatter3d",
         "x": [
          3.8,
          3.7,
          3.62,
          3.83,
          3.88,
          3.58,
          3.48,
          3.81,
          3.68,
          3.96,
          3.5,
          3.6,
          3.64,
          3.4,
          3.81,
          3.7,
          3.58,
          4,
          3.79,
          3.75,
          3.5,
          3.72,
          3.96,
          3.85,
          3.77,
          3.52,
          3.57,
          4,
          3.48,
          3.91,
          3.83,
          3.33,
          3.8,
          3.39,
          3.77,
          3.52,
          4,
          3.39,
          3.68,
          3.5,
          3.49,
          3.8,
          3.79,
          3.8,
          3.62,
          3.6,
          3.79,
          3.4,
          3.65,
          3.94,
          3.55
         ],
         "y": [
          1,
          1,
          1,
          1,
          1,
          1,
          1,
          1,
          1,
          1,
          1,
          1,
          1,
          1,
          1,
          1,
          1,
          1,
          1,
          1,
          1,
          1,
          1,
          1,
          1,
          1,
          1,
          1,
          1,
          1,
          1,
          1,
          1,
          1,
          1,
          1,
          1,
          1,
          1,
          1,
          1,
          1,
          1,
          1,
          1,
          1,
          1,
          1,
          1,
          1,
          1
         ],
         "z": [
          0,
          0,
          0,
          0,
          0,
          0,
          0,
          0,
          0,
          0,
          0,
          0,
          0,
          0,
          0,
          0,
          0,
          0,
          0,
          0,
          0,
          0,
          0,
          0,
          0,
          0,
          0,
          0,
          0,
          0,
          0,
          0,
          0,
          0,
          0,
          0,
          0,
          0,
          0,
          0,
          0,
          0,
          0,
          0,
          0,
          0,
          0,
          0,
          0,
          0,
          0
         ]
        },
        {
         "hovertemplate": "Cluster=2<br>Status=Safe<br>IP=%{x}<br>Organisasi=%{y}<br>Kerja=%{z}<extra></extra>",
         "legendgroup": "2, Safe",
         "marker": {
          "color": "red",
          "opacity": 0.7,
          "symbol": "circle"
         },
         "mode": "markers",
         "name": "2, Safe",
         "scene": "scene",
         "showlegend": true,
         "type": "scatter3d",
         "x": [
          4,
          3.77,
          3.79,
          3.17,
          3.8,
          3.86,
          4,
          3.92,
          3.2,
          4,
          3.69,
          3.76,
          3.33,
          3.25,
          3.3,
          3.56,
          3.5,
          3.67,
          3.88,
          3.5,
          3.57,
          3.88
         ],
         "y": [
          1,
          1,
          1,
          1,
          1,
          1,
          1,
          1,
          1,
          1,
          1,
          1,
          1,
          1,
          1,
          1,
          1,
          1,
          1,
          1,
          1,
          1
         ],
         "z": [
          1,
          1,
          1,
          1,
          1,
          1,
          1,
          1,
          1,
          1,
          1,
          1,
          1,
          1,
          1,
          1,
          1,
          1,
          1,
          1,
          1,
          1
         ]
        },
        {
         "hovertemplate": "Cluster=2<br>Status=Warning<br>IP=%{x}<br>Organisasi=%{y}<br>Kerja=%{z}<extra></extra>",
         "legendgroup": "2, Warning",
         "marker": {
          "color": "red",
          "opacity": 0.7,
          "symbol": "diamond"
         },
         "mode": "markers",
         "name": "2, Warning",
         "scene": "scene",
         "showlegend": true,
         "type": "scatter3d",
         "x": [
          2.98
         ],
         "y": [
          1
         ],
         "z": [
          1
         ]
        }
       ],
       "layout": {
        "legend": {
         "title": {
          "text": "Cluster, Status"
         },
         "tracegroupgap": 0
        },
        "margin": {
         "b": 0,
         "l": 0,
         "r": 0,
         "t": 0
        },
        "scene": {
         "domain": {
          "x": [
           0,
           1
          ],
          "y": [
           0,
           1
          ]
         },
         "xaxis": {
          "title": {
           "text": "IP"
          }
         },
         "yaxis": {
          "title": {
           "text": "Organisasi"
          }
         },
         "zaxis": {
          "title": {
           "text": "Kerja"
          }
         }
        },
        "template": {
         "data": {
          "bar": [
           {
            "error_x": {
             "color": "#2a3f5f"
            },
            "error_y": {
             "color": "#2a3f5f"
            },
            "marker": {
             "line": {
              "color": "#E5ECF6",
              "width": 0.5
             },
             "pattern": {
              "fillmode": "overlay",
              "size": 10,
              "solidity": 0.2
             }
            },
            "type": "bar"
           }
          ],
          "barpolar": [
           {
            "marker": {
             "line": {
              "color": "#E5ECF6",
              "width": 0.5
             },
             "pattern": {
              "fillmode": "overlay",
              "size": 10,
              "solidity": 0.2
             }
            },
            "type": "barpolar"
           }
          ],
          "carpet": [
           {
            "aaxis": {
             "endlinecolor": "#2a3f5f",
             "gridcolor": "white",
             "linecolor": "white",
             "minorgridcolor": "white",
             "startlinecolor": "#2a3f5f"
            },
            "baxis": {
             "endlinecolor": "#2a3f5f",
             "gridcolor": "white",
             "linecolor": "white",
             "minorgridcolor": "white",
             "startlinecolor": "#2a3f5f"
            },
            "type": "carpet"
           }
          ],
          "choropleth": [
           {
            "colorbar": {
             "outlinewidth": 0,
             "ticks": ""
            },
            "type": "choropleth"
           }
          ],
          "contour": [
           {
            "colorbar": {
             "outlinewidth": 0,
             "ticks": ""
            },
            "colorscale": [
             [
              0,
              "#0d0887"
             ],
             [
              0.1111111111111111,
              "#46039f"
             ],
             [
              0.2222222222222222,
              "#7201a8"
             ],
             [
              0.3333333333333333,
              "#9c179e"
             ],
             [
              0.4444444444444444,
              "#bd3786"
             ],
             [
              0.5555555555555556,
              "#d8576b"
             ],
             [
              0.6666666666666666,
              "#ed7953"
             ],
             [
              0.7777777777777778,
              "#fb9f3a"
             ],
             [
              0.8888888888888888,
              "#fdca26"
             ],
             [
              1,
              "#f0f921"
             ]
            ],
            "type": "contour"
           }
          ],
          "contourcarpet": [
           {
            "colorbar": {
             "outlinewidth": 0,
             "ticks": ""
            },
            "type": "contourcarpet"
           }
          ],
          "heatmap": [
           {
            "colorbar": {
             "outlinewidth": 0,
             "ticks": ""
            },
            "colorscale": [
             [
              0,
              "#0d0887"
             ],
             [
              0.1111111111111111,
              "#46039f"
             ],
             [
              0.2222222222222222,
              "#7201a8"
             ],
             [
              0.3333333333333333,
              "#9c179e"
             ],
             [
              0.4444444444444444,
              "#bd3786"
             ],
             [
              0.5555555555555556,
              "#d8576b"
             ],
             [
              0.6666666666666666,
              "#ed7953"
             ],
             [
              0.7777777777777778,
              "#fb9f3a"
             ],
             [
              0.8888888888888888,
              "#fdca26"
             ],
             [
              1,
              "#f0f921"
             ]
            ],
            "type": "heatmap"
           }
          ],
          "heatmapgl": [
           {
            "colorbar": {
             "outlinewidth": 0,
             "ticks": ""
            },
            "colorscale": [
             [
              0,
              "#0d0887"
             ],
             [
              0.1111111111111111,
              "#46039f"
             ],
             [
              0.2222222222222222,
              "#7201a8"
             ],
             [
              0.3333333333333333,
              "#9c179e"
             ],
             [
              0.4444444444444444,
              "#bd3786"
             ],
             [
              0.5555555555555556,
              "#d8576b"
             ],
             [
              0.6666666666666666,
              "#ed7953"
             ],
             [
              0.7777777777777778,
              "#fb9f3a"
             ],
             [
              0.8888888888888888,
              "#fdca26"
             ],
             [
              1,
              "#f0f921"
             ]
            ],
            "type": "heatmapgl"
           }
          ],
          "histogram": [
           {
            "marker": {
             "pattern": {
              "fillmode": "overlay",
              "size": 10,
              "solidity": 0.2
             }
            },
            "type": "histogram"
           }
          ],
          "histogram2d": [
           {
            "colorbar": {
             "outlinewidth": 0,
             "ticks": ""
            },
            "colorscale": [
             [
              0,
              "#0d0887"
             ],
             [
              0.1111111111111111,
              "#46039f"
             ],
             [
              0.2222222222222222,
              "#7201a8"
             ],
             [
              0.3333333333333333,
              "#9c179e"
             ],
             [
              0.4444444444444444,
              "#bd3786"
             ],
             [
              0.5555555555555556,
              "#d8576b"
             ],
             [
              0.6666666666666666,
              "#ed7953"
             ],
             [
              0.7777777777777778,
              "#fb9f3a"
             ],
             [
              0.8888888888888888,
              "#fdca26"
             ],
             [
              1,
              "#f0f921"
             ]
            ],
            "type": "histogram2d"
           }
          ],
          "histogram2dcontour": [
           {
            "colorbar": {
             "outlinewidth": 0,
             "ticks": ""
            },
            "colorscale": [
             [
              0,
              "#0d0887"
             ],
             [
              0.1111111111111111,
              "#46039f"
             ],
             [
              0.2222222222222222,
              "#7201a8"
             ],
             [
              0.3333333333333333,
              "#9c179e"
             ],
             [
              0.4444444444444444,
              "#bd3786"
             ],
             [
              0.5555555555555556,
              "#d8576b"
             ],
             [
              0.6666666666666666,
              "#ed7953"
             ],
             [
              0.7777777777777778,
              "#fb9f3a"
             ],
             [
              0.8888888888888888,
              "#fdca26"
             ],
             [
              1,
              "#f0f921"
             ]
            ],
            "type": "histogram2dcontour"
           }
          ],
          "mesh3d": [
           {
            "colorbar": {
             "outlinewidth": 0,
             "ticks": ""
            },
            "type": "mesh3d"
           }
          ],
          "parcoords": [
           {
            "line": {
             "colorbar": {
              "outlinewidth": 0,
              "ticks": ""
             }
            },
            "type": "parcoords"
           }
          ],
          "pie": [
           {
            "automargin": true,
            "type": "pie"
           }
          ],
          "scatter": [
           {
            "fillpattern": {
             "fillmode": "overlay",
             "size": 10,
             "solidity": 0.2
            },
            "type": "scatter"
           }
          ],
          "scatter3d": [
           {
            "line": {
             "colorbar": {
              "outlinewidth": 0,
              "ticks": ""
             }
            },
            "marker": {
             "colorbar": {
              "outlinewidth": 0,
              "ticks": ""
             }
            },
            "type": "scatter3d"
           }
          ],
          "scattercarpet": [
           {
            "marker": {
             "colorbar": {
              "outlinewidth": 0,
              "ticks": ""
             }
            },
            "type": "scattercarpet"
           }
          ],
          "scattergeo": [
           {
            "marker": {
             "colorbar": {
              "outlinewidth": 0,
              "ticks": ""
             }
            },
            "type": "scattergeo"
           }
          ],
          "scattergl": [
           {
            "marker": {
             "colorbar": {
              "outlinewidth": 0,
              "ticks": ""
             }
            },
            "type": "scattergl"
           }
          ],
          "scattermapbox": [
           {
            "marker": {
             "colorbar": {
              "outlinewidth": 0,
              "ticks": ""
             }
            },
            "type": "scattermapbox"
           }
          ],
          "scatterpolar": [
           {
            "marker": {
             "colorbar": {
              "outlinewidth": 0,
              "ticks": ""
             }
            },
            "type": "scatterpolar"
           }
          ],
          "scatterpolargl": [
           {
            "marker": {
             "colorbar": {
              "outlinewidth": 0,
              "ticks": ""
             }
            },
            "type": "scatterpolargl"
           }
          ],
          "scatterternary": [
           {
            "marker": {
             "colorbar": {
              "outlinewidth": 0,
              "ticks": ""
             }
            },
            "type": "scatterternary"
           }
          ],
          "surface": [
           {
            "colorbar": {
             "outlinewidth": 0,
             "ticks": ""
            },
            "colorscale": [
             [
              0,
              "#0d0887"
             ],
             [
              0.1111111111111111,
              "#46039f"
             ],
             [
              0.2222222222222222,
              "#7201a8"
             ],
             [
              0.3333333333333333,
              "#9c179e"
             ],
             [
              0.4444444444444444,
              "#bd3786"
             ],
             [
              0.5555555555555556,
              "#d8576b"
             ],
             [
              0.6666666666666666,
              "#ed7953"
             ],
             [
              0.7777777777777778,
              "#fb9f3a"
             ],
             [
              0.8888888888888888,
              "#fdca26"
             ],
             [
              1,
              "#f0f921"
             ]
            ],
            "type": "surface"
           }
          ],
          "table": [
           {
            "cells": {
             "fill": {
              "color": "#EBF0F8"
             },
             "line": {
              "color": "white"
             }
            },
            "header": {
             "fill": {
              "color": "#C8D4E3"
             },
             "line": {
              "color": "white"
             }
            },
            "type": "table"
           }
          ]
         },
         "layout": {
          "annotationdefaults": {
           "arrowcolor": "#2a3f5f",
           "arrowhead": 0,
           "arrowwidth": 1
          },
          "autotypenumbers": "strict",
          "coloraxis": {
           "colorbar": {
            "outlinewidth": 0,
            "ticks": ""
           }
          },
          "colorscale": {
           "diverging": [
            [
             0,
             "#8e0152"
            ],
            [
             0.1,
             "#c51b7d"
            ],
            [
             0.2,
             "#de77ae"
            ],
            [
             0.3,
             "#f1b6da"
            ],
            [
             0.4,
             "#fde0ef"
            ],
            [
             0.5,
             "#f7f7f7"
            ],
            [
             0.6,
             "#e6f5d0"
            ],
            [
             0.7,
             "#b8e186"
            ],
            [
             0.8,
             "#7fbc41"
            ],
            [
             0.9,
             "#4d9221"
            ],
            [
             1,
             "#276419"
            ]
           ],
           "sequential": [
            [
             0,
             "#0d0887"
            ],
            [
             0.1111111111111111,
             "#46039f"
            ],
            [
             0.2222222222222222,
             "#7201a8"
            ],
            [
             0.3333333333333333,
             "#9c179e"
            ],
            [
             0.4444444444444444,
             "#bd3786"
            ],
            [
             0.5555555555555556,
             "#d8576b"
            ],
            [
             0.6666666666666666,
             "#ed7953"
            ],
            [
             0.7777777777777778,
             "#fb9f3a"
            ],
            [
             0.8888888888888888,
             "#fdca26"
            ],
            [
             1,
             "#f0f921"
            ]
           ],
           "sequentialminus": [
            [
             0,
             "#0d0887"
            ],
            [
             0.1111111111111111,
             "#46039f"
            ],
            [
             0.2222222222222222,
             "#7201a8"
            ],
            [
             0.3333333333333333,
             "#9c179e"
            ],
            [
             0.4444444444444444,
             "#bd3786"
            ],
            [
             0.5555555555555556,
             "#d8576b"
            ],
            [
             0.6666666666666666,
             "#ed7953"
            ],
            [
             0.7777777777777778,
             "#fb9f3a"
            ],
            [
             0.8888888888888888,
             "#fdca26"
            ],
            [
             1,
             "#f0f921"
            ]
           ]
          },
          "colorway": [
           "#636efa",
           "#EF553B",
           "#00cc96",
           "#ab63fa",
           "#FFA15A",
           "#19d3f3",
           "#FF6692",
           "#B6E880",
           "#FF97FF",
           "#FECB52"
          ],
          "font": {
           "color": "#2a3f5f"
          },
          "geo": {
           "bgcolor": "white",
           "lakecolor": "white",
           "landcolor": "#E5ECF6",
           "showlakes": true,
           "showland": true,
           "subunitcolor": "white"
          },
          "hoverlabel": {
           "align": "left"
          },
          "hovermode": "closest",
          "mapbox": {
           "style": "light"
          },
          "paper_bgcolor": "white",
          "plot_bgcolor": "#E5ECF6",
          "polar": {
           "angularaxis": {
            "gridcolor": "white",
            "linecolor": "white",
            "ticks": ""
           },
           "bgcolor": "#E5ECF6",
           "radialaxis": {
            "gridcolor": "white",
            "linecolor": "white",
            "ticks": ""
           }
          },
          "scene": {
           "xaxis": {
            "backgroundcolor": "#E5ECF6",
            "gridcolor": "white",
            "gridwidth": 2,
            "linecolor": "white",
            "showbackground": true,
            "ticks": "",
            "zerolinecolor": "white"
           },
           "yaxis": {
            "backgroundcolor": "#E5ECF6",
            "gridcolor": "white",
            "gridwidth": 2,
            "linecolor": "white",
            "showbackground": true,
            "ticks": "",
            "zerolinecolor": "white"
           },
           "zaxis": {
            "backgroundcolor": "#E5ECF6",
            "gridcolor": "white",
            "gridwidth": 2,
            "linecolor": "white",
            "showbackground": true,
            "ticks": "",
            "zerolinecolor": "white"
           }
          },
          "shapedefaults": {
           "line": {
            "color": "#2a3f5f"
           }
          },
          "ternary": {
           "aaxis": {
            "gridcolor": "white",
            "linecolor": "white",
            "ticks": ""
           },
           "baxis": {
            "gridcolor": "white",
            "linecolor": "white",
            "ticks": ""
           },
           "bgcolor": "#E5ECF6",
           "caxis": {
            "gridcolor": "white",
            "linecolor": "white",
            "ticks": ""
           }
          },
          "title": {
           "x": 0.05
          },
          "xaxis": {
           "automargin": true,
           "gridcolor": "white",
           "linecolor": "white",
           "ticks": "",
           "title": {
            "standoff": 15
           },
           "zerolinecolor": "white",
           "zerolinewidth": 2
          },
          "yaxis": {
           "automargin": true,
           "gridcolor": "white",
           "linecolor": "white",
           "ticks": "",
           "title": {
            "standoff": 15
           },
           "zerolinecolor": "white",
           "zerolinewidth": 2
          }
         }
        }
       }
      }
     },
     "metadata": {},
     "output_type": "display_data"
    }
   ],
   "source": [
    "kmeansLofPlot = createPlot3D(dataFinal, \"IP\", \"Organisasi\", \"Kerja\", \"Cluster\", {\"0\": \"goldenrod\", \"1\": \"blue\", \"2\": \"red\"}, \"Status\")\n",
    "kmeansLofPlot"
   ]
  },
  {
   "cell_type": "code",
   "execution_count": 27,
   "metadata": {},
   "outputs": [],
   "source": [
    "# Model Evaluation (Silhouette Score)\n",
    "def silhouetteVisualization():\n",
    "    dataEvaluasi = dataFinal[['IP','Organisasi','Kerja']]\n",
    "    visualizer = SilhouetteVisualizer(kmeansModel, colors='yellowbrick')\n",
    "    visualizer.fit(dataEvaluasi.to_numpy())\n",
    "    visualizer.finalize()"
   ]
  },
  {
   "cell_type": "code",
   "execution_count": 28,
   "metadata": {},
   "outputs": [
    {
     "data": {
      "image/png": "[encoded data removed]",
      "text/plain": [
       "<Figure size 800x550 with 1 Axes>"
      ]
     },
     "metadata": {},
     "output_type": "display_data"
    }
   ],
   "source": [
    "silhouetteVisualization()"
   ]
  },
  {
   "cell_type": "code",
   "execution_count": 29,
   "metadata": {},
   "outputs": [
    {
     "data": {
      "text/html": [
       "<div>\n",
       "<style scoped>\n",
       "    .dataframe tbody tr th:only-of-type {\n",
       "        vertical-align: middle;\n",
       "    }\n",
       "\n",
       "    .dataframe tbody tr th {\n",
       "        vertical-align: top;\n",
       "    }\n",
       "\n",
       "    .dataframe thead th {\n",
       "        text-align: right;\n",
       "    }\n",
       "</style>\n",
       "<table border=\"1\" class=\"dataframe\">\n",
       "  <thead>\n",
       "    <tr style=\"text-align: right;\">\n",
       "      <th></th>\n",
       "      <th>IP</th>\n",
       "      <th>Organisasi</th>\n",
       "      <th>Kerja</th>\n",
       "    </tr>\n",
       "  </thead>\n",
       "  <tbody>\n",
       "    <tr>\n",
       "      <th>0</th>\n",
       "      <td>3.37</td>\n",
       "      <td>0</td>\n",
       "      <td>0</td>\n",
       "    </tr>\n",
       "    <tr>\n",
       "      <th>1</th>\n",
       "      <td>3.80</td>\n",
       "      <td>1</td>\n",
       "      <td>0</td>\n",
       "    </tr>\n",
       "    <tr>\n",
       "      <th>2</th>\n",
       "      <td>3.70</td>\n",
       "      <td>1</td>\n",
       "      <td>0</td>\n",
       "    </tr>\n",
       "    <tr>\n",
       "      <th>3</th>\n",
       "      <td>3.57</td>\n",
       "      <td>0</td>\n",
       "      <td>0</td>\n",
       "    </tr>\n",
       "    <tr>\n",
       "      <th>4</th>\n",
       "      <td>4.00</td>\n",
       "      <td>1</td>\n",
       "      <td>1</td>\n",
       "    </tr>\n",
       "    <tr>\n",
       "      <th>...</th>\n",
       "      <td>...</td>\n",
       "      <td>...</td>\n",
       "      <td>...</td>\n",
       "    </tr>\n",
       "    <tr>\n",
       "      <th>205</th>\n",
       "      <td>3.48</td>\n",
       "      <td>0</td>\n",
       "      <td>1</td>\n",
       "    </tr>\n",
       "    <tr>\n",
       "      <th>206</th>\n",
       "      <td>3.60</td>\n",
       "      <td>0</td>\n",
       "      <td>0</td>\n",
       "    </tr>\n",
       "    <tr>\n",
       "      <th>207</th>\n",
       "      <td>3.11</td>\n",
       "      <td>1</td>\n",
       "      <td>0</td>\n",
       "    </tr>\n",
       "    <tr>\n",
       "      <th>208</th>\n",
       "      <td>4.00</td>\n",
       "      <td>0</td>\n",
       "      <td>0</td>\n",
       "    </tr>\n",
       "    <tr>\n",
       "      <th>209</th>\n",
       "      <td>3.55</td>\n",
       "      <td>1</td>\n",
       "      <td>0</td>\n",
       "    </tr>\n",
       "  </tbody>\n",
       "</table>\n",
       "<p>210 rows × 3 columns</p>\n",
       "</div>"
      ],
      "text/plain": [
       "       IP  Organisasi  Kerja\n",
       "0    3.37           0      0\n",
       "1    3.80           1      0\n",
       "2    3.70           1      0\n",
       "3    3.57           0      0\n",
       "4    4.00           1      1\n",
       "..    ...         ...    ...\n",
       "205  3.48           0      1\n",
       "206  3.60           0      0\n",
       "207  3.11           1      0\n",
       "208  4.00           0      0\n",
       "209  3.55           1      0\n",
       "\n",
       "[210 rows x 3 columns]"
      ]
     },
     "execution_count": 29,
     "metadata": {},
     "output_type": "execute_result"
    }
   ],
   "source": [
    "# Testing K-Means without LOF\n",
    "testWL = dataGenap.copy()\n",
    "testWL = testWL.rename(columns={\n",
    "    'IPGenap': 'IP',\n",
    "    'OrganisasiGenap': 'Organisasi',\n",
    "    'KerjaGenap': 'Kerja',\n",
    "    })\n",
    "testWL"
   ]
  },
  {
   "cell_type": "code",
   "execution_count": 30,
   "metadata": {},
   "outputs": [
    {
     "data": {
      "application/vnd.plotly.v1+json": {
       "config": {
        "plotlyServerURL": "https://plot.ly"
       },
       "data": [
        {
         "hovertemplate": "Cluster=%{x}<br>Elbow SSE(Sum of Square Error)=%{y}<extra></extra>",
         "legendgroup": "",
         "line": {
          "color": "#636efa",
          "dash": "solid"
         },
         "marker": {
          "symbol": "circle"
         },
         "mode": "lines",
         "name": "",
         "orientation": "v",
         "showlegend": false,
         "type": "scatter",
         "x": [
          2,
          3,
          4,
          5,
          6,
          7,
          8
         ],
         "xaxis": "x",
         "y": [
          70.63662362352942,
          47.052259986229224,
          32.13718465022611,
          22.003808914309733,
          15.90518414681806,
          12.316304086203651,
          9.95539337172335
         ],
         "yaxis": "y"
        }
       ],
       "layout": {
        "legend": {
         "tracegroupgap": 0
        },
        "margin": {
         "t": 60
        },
        "template": {
         "data": {
          "bar": [
           {
            "error_x": {
             "color": "#2a3f5f"
            },
            "error_y": {
             "color": "#2a3f5f"
            },
            "marker": {
             "line": {
              "color": "#E5ECF6",
              "width": 0.5
             },
             "pattern": {
              "fillmode": "overlay",
              "size": 10,
              "solidity": 0.2
             }
            },
            "type": "bar"
           }
          ],
          "barpolar": [
           {
            "marker": {
             "line": {
              "color": "#E5ECF6",
              "width": 0.5
             },
             "pattern": {
              "fillmode": "overlay",
              "size": 10,
              "solidity": 0.2
             }
            },
            "type": "barpolar"
           }
          ],
          "carpet": [
           {
            "aaxis": {
             "endlinecolor": "#2a3f5f",
             "gridcolor": "white",
             "linecolor": "white",
             "minorgridcolor": "white",
             "startlinecolor": "#2a3f5f"
            },
            "baxis": {
             "endlinecolor": "#2a3f5f",
             "gridcolor": "white",
             "linecolor": "white",
             "minorgridcolor": "white",
             "startlinecolor": "#2a3f5f"
            },
            "type": "carpet"
           }
          ],
          "choropleth": [
           {
            "colorbar": {
             "outlinewidth": 0,
             "ticks": ""
            },
            "type": "choropleth"
           }
          ],
          "contour": [
           {
            "colorbar": {
             "outlinewidth": 0,
             "ticks": ""
            },
            "colorscale": [
             [
              0,
              "#0d0887"
             ],
             [
              0.1111111111111111,
              "#46039f"
             ],
             [
              0.2222222222222222,
              "#7201a8"
             ],
             [
              0.3333333333333333,
              "#9c179e"
             ],
             [
              0.4444444444444444,
              "#bd3786"
             ],
             [
              0.5555555555555556,
              "#d8576b"
             ],
             [
              0.6666666666666666,
              "#ed7953"
             ],
             [
              0.7777777777777778,
              "#fb9f3a"
             ],
             [
              0.8888888888888888,
              "#fdca26"
             ],
             [
              1,
              "#f0f921"
             ]
            ],
            "type": "contour"
           }
          ],
          "contourcarpet": [
           {
            "colorbar": {
             "outlinewidth": 0,
             "ticks": ""
            },
            "type": "contourcarpet"
           }
          ],
          "heatmap": [
           {
            "colorbar": {
             "outlinewidth": 0,
             "ticks": ""
            },
            "colorscale": [
             [
              0,
              "#0d0887"
             ],
             [
              0.1111111111111111,
              "#46039f"
             ],
             [
              0.2222222222222222,
              "#7201a8"
             ],
             [
              0.3333333333333333,
              "#9c179e"
             ],
             [
              0.4444444444444444,
              "#bd3786"
             ],
             [
              0.5555555555555556,
              "#d8576b"
             ],
             [
              0.6666666666666666,
              "#ed7953"
             ],
             [
              0.7777777777777778,
              "#fb9f3a"
             ],
             [
              0.8888888888888888,
              "#fdca26"
             ],
             [
              1,
              "#f0f921"
             ]
            ],
            "type": "heatmap"
           }
          ],
          "heatmapgl": [
           {
            "colorbar": {
             "outlinewidth": 0,
             "ticks": ""
            },
            "colorscale": [
             [
              0,
              "#0d0887"
             ],
             [
              0.1111111111111111,
              "#46039f"
             ],
             [
              0.2222222222222222,
              "#7201a8"
             ],
             [
              0.3333333333333333,
              "#9c179e"
             ],
             [
              0.4444444444444444,
              "#bd3786"
             ],
             [
              0.5555555555555556,
              "#d8576b"
             ],
             [
              0.6666666666666666,
              "#ed7953"
             ],
             [
              0.7777777777777778,
              "#fb9f3a"
             ],
             [
              0.8888888888888888,
              "#fdca26"
             ],
             [
              1,
              "#f0f921"
             ]
            ],
            "type": "heatmapgl"
           }
          ],
          "histogram": [
           {
            "marker": {
             "pattern": {
              "fillmode": "overlay",
              "size": 10,
              "solidity": 0.2
             }
            },
            "type": "histogram"
           }
          ],
          "histogram2d": [
           {
            "colorbar": {
             "outlinewidth": 0,
             "ticks": ""
            },
            "colorscale": [
             [
              0,
              "#0d0887"
             ],
             [
              0.1111111111111111,
              "#46039f"
             ],
             [
              0.2222222222222222,
              "#7201a8"
             ],
             [
              0.3333333333333333,
              "#9c179e"
             ],
             [
              0.4444444444444444,
              "#bd3786"
             ],
             [
              0.5555555555555556,
              "#d8576b"
             ],
             [
              0.6666666666666666,
              "#ed7953"
             ],
             [
              0.7777777777777778,
              "#fb9f3a"
             ],
             [
              0.8888888888888888,
              "#fdca26"
             ],
             [
              1,
              "#f0f921"
             ]
            ],
            "type": "histogram2d"
           }
          ],
          "histogram2dcontour": [
           {
            "colorbar": {
             "outlinewidth": 0,
             "ticks": ""
            },
            "colorscale": [
             [
              0,
              "#0d0887"
             ],
             [
              0.1111111111111111,
              "#46039f"
             ],
             [
              0.2222222222222222,
              "#7201a8"
             ],
             [
              0.3333333333333333,
              "#9c179e"
             ],
             [
              0.4444444444444444,
              "#bd3786"
             ],
             [
              0.5555555555555556,
              "#d8576b"
             ],
             [
              0.6666666666666666,
              "#ed7953"
             ],
             [
              0.7777777777777778,
              "#fb9f3a"
             ],
             [
              0.8888888888888888,
              "#fdca26"
             ],
             [
              1,
              "#f0f921"
             ]
            ],
            "type": "histogram2dcontour"
           }
          ],
          "mesh3d": [
           {
            "colorbar": {
             "outlinewidth": 0,
             "ticks": ""
            },
            "type": "mesh3d"
           }
          ],
          "parcoords": [
           {
            "line": {
             "colorbar": {
              "outlinewidth": 0,
              "ticks": ""
             }
            },
            "type": "parcoords"
           }
          ],
          "pie": [
           {
            "automargin": true,
            "type": "pie"
           }
          ],
          "scatter": [
           {
            "fillpattern": {
             "fillmode": "overlay",
             "size": 10,
             "solidity": 0.2
            },
            "type": "scatter"
           }
          ],
          "scatter3d": [
           {
            "line": {
             "colorbar": {
              "outlinewidth": 0,
              "ticks": ""
             }
            },
            "marker": {
             "colorbar": {
              "outlinewidth": 0,
              "ticks": ""
             }
            },
            "type": "scatter3d"
           }
          ],
          "scattercarpet": [
           {
            "marker": {
             "colorbar": {
              "outlinewidth": 0,
              "ticks": ""
             }
            },
            "type": "scattercarpet"
           }
          ],
          "scattergeo": [
           {
            "marker": {
             "colorbar": {
              "outlinewidth": 0,
              "ticks": ""
             }
            },
            "type": "scattergeo"
           }
          ],
          "scattergl": [
           {
            "marker": {
             "colorbar": {
              "outlinewidth": 0,
              "ticks": ""
             }
            },
            "type": "scattergl"
           }
          ],
          "scattermapbox": [
           {
            "marker": {
             "colorbar": {
              "outlinewidth": 0,
              "ticks": ""
             }
            },
            "type": "scattermapbox"
           }
          ],
          "scatterpolar": [
           {
            "marker": {
             "colorbar": {
              "outlinewidth": 0,
              "ticks": ""
             }
            },
            "type": "scatterpolar"
           }
          ],
          "scatterpolargl": [
           {
            "marker": {
             "colorbar": {
              "outlinewidth": 0,
              "ticks": ""
             }
            },
            "type": "scatterpolargl"
           }
          ],
          "scatterternary": [
           {
            "marker": {
             "colorbar": {
              "outlinewidth": 0,
              "ticks": ""
             }
            },
            "type": "scatterternary"
           }
          ],
          "surface": [
           {
            "colorbar": {
             "outlinewidth": 0,
             "ticks": ""
            },
            "colorscale": [
             [
              0,
              "#0d0887"
             ],
             [
              0.1111111111111111,
              "#46039f"
             ],
             [
              0.2222222222222222,
              "#7201a8"
             ],
             [
              0.3333333333333333,
              "#9c179e"
             ],
             [
              0.4444444444444444,
              "#bd3786"
             ],
             [
              0.5555555555555556,
              "#d8576b"
             ],
             [
              0.6666666666666666,
              "#ed7953"
             ],
             [
              0.7777777777777778,
              "#fb9f3a"
             ],
             [
              0.8888888888888888,
              "#fdca26"
             ],
             [
              1,
              "#f0f921"
             ]
            ],
            "type": "surface"
           }
          ],
          "table": [
           {
            "cells": {
             "fill": {
              "color": "#EBF0F8"
             },
             "line": {
              "color": "white"
             }
            },
            "header": {
             "fill": {
              "color": "#C8D4E3"
             },
             "line": {
              "color": "white"
             }
            },
            "type": "table"
           }
          ]
         },
         "layout": {
          "annotationdefaults": {
           "arrowcolor": "#2a3f5f",
           "arrowhead": 0,
           "arrowwidth": 1
          },
          "autotypenumbers": "strict",
          "coloraxis": {
           "colorbar": {
            "outlinewidth": 0,
            "ticks": ""
           }
          },
          "colorscale": {
           "diverging": [
            [
             0,
             "#8e0152"
            ],
            [
             0.1,
             "#c51b7d"
            ],
            [
             0.2,
             "#de77ae"
            ],
            [
             0.3,
             "#f1b6da"
            ],
            [
             0.4,
             "#fde0ef"
            ],
            [
             0.5,
             "#f7f7f7"
            ],
            [
             0.6,
             "#e6f5d0"
            ],
            [
             0.7,
             "#b8e186"
            ],
            [
             0.8,
             "#7fbc41"
            ],
            [
             0.9,
             "#4d9221"
            ],
            [
             1,
             "#276419"
            ]
           ],
           "sequential": [
            [
             0,
             "#0d0887"
            ],
            [
             0.1111111111111111,
             "#46039f"
            ],
            [
             0.2222222222222222,
             "#7201a8"
            ],
            [
             0.3333333333333333,
             "#9c179e"
            ],
            [
             0.4444444444444444,
             "#bd3786"
            ],
            [
             0.5555555555555556,
             "#d8576b"
            ],
            [
             0.6666666666666666,
             "#ed7953"
            ],
            [
             0.7777777777777778,
             "#fb9f3a"
            ],
            [
             0.8888888888888888,
             "#fdca26"
            ],
            [
             1,
             "#f0f921"
            ]
           ],
           "sequentialminus": [
            [
             0,
             "#0d0887"
            ],
            [
             0.1111111111111111,
             "#46039f"
            ],
            [
             0.2222222222222222,
             "#7201a8"
            ],
            [
             0.3333333333333333,
             "#9c179e"
            ],
            [
             0.4444444444444444,
             "#bd3786"
            ],
            [
             0.5555555555555556,
             "#d8576b"
            ],
            [
             0.6666666666666666,
             "#ed7953"
            ],
            [
             0.7777777777777778,
             "#fb9f3a"
            ],
            [
             0.8888888888888888,
             "#fdca26"
            ],
            [
             1,
             "#f0f921"
            ]
           ]
          },
          "colorway": [
           "#636efa",
           "#EF553B",
           "#00cc96",
           "#ab63fa",
           "#FFA15A",
           "#19d3f3",
           "#FF6692",
           "#B6E880",
           "#FF97FF",
           "#FECB52"
          ],
          "font": {
           "color": "#2a3f5f"
          },
          "geo": {
           "bgcolor": "white",
           "lakecolor": "white",
           "landcolor": "#E5ECF6",
           "showlakes": true,
           "showland": true,
           "subunitcolor": "white"
          },
          "hoverlabel": {
           "align": "left"
          },
          "hovermode": "closest",
          "mapbox": {
           "style": "light"
          },
          "paper_bgcolor": "white",
          "plot_bgcolor": "#E5ECF6",
          "polar": {
           "angularaxis": {
            "gridcolor": "white",
            "linecolor": "white",
            "ticks": ""
           },
           "bgcolor": "#E5ECF6",
           "radialaxis": {
            "gridcolor": "white",
            "linecolor": "white",
            "ticks": ""
           }
          },
          "scene": {
           "xaxis": {
            "backgroundcolor": "#E5ECF6",
            "gridcolor": "white",
            "gridwidth": 2,
            "linecolor": "white",
            "showbackground": true,
            "ticks": "",
            "zerolinecolor": "white"
           },
           "yaxis": {
            "backgroundcolor": "#E5ECF6",
            "gridcolor": "white",
            "gridwidth": 2,
            "linecolor": "white",
            "showbackground": true,
            "ticks": "",
            "zerolinecolor": "white"
           },
           "zaxis": {
            "backgroundcolor": "#E5ECF6",
            "gridcolor": "white",
            "gridwidth": 2,
            "linecolor": "white",
            "showbackground": true,
            "ticks": "",
            "zerolinecolor": "white"
           }
          },
          "shapedefaults": {
           "line": {
            "color": "#2a3f5f"
           }
          },
          "ternary": {
           "aaxis": {
            "gridcolor": "white",
            "linecolor": "white",
            "ticks": ""
           },
           "baxis": {
            "gridcolor": "white",
            "linecolor": "white",
            "ticks": ""
           },
           "bgcolor": "#E5ECF6",
           "caxis": {
            "gridcolor": "white",
            "linecolor": "white",
            "ticks": ""
           }
          },
          "title": {
           "x": 0.05
          },
          "xaxis": {
           "automargin": true,
           "gridcolor": "white",
           "linecolor": "white",
           "ticks": "",
           "title": {
            "standoff": 15
           },
           "zerolinecolor": "white",
           "zerolinewidth": 2
          },
          "yaxis": {
           "automargin": true,
           "gridcolor": "white",
           "linecolor": "white",
           "ticks": "",
           "title": {
            "standoff": 15
           },
           "zerolinecolor": "white",
           "zerolinewidth": 2
          }
         }
        },
        "xaxis": {
         "anchor": "y",
         "domain": [
          0,
          1
         ],
         "title": {
          "text": "Cluster"
         }
        },
        "yaxis": {
         "anchor": "x",
         "domain": [
          0,
          1
         ],
         "title": {
          "text": "Elbow SSE(Sum of Square Error)"
         }
        }
       }
      }
     },
     "metadata": {},
     "output_type": "display_data"
    }
   ],
   "source": [
    "figElbowWL, optimumElbowValueWL, optimumElbowScoreWL= elbowMethod(testWL)\n",
    "figElbowWL"
   ]
  },
  {
   "cell_type": "code",
   "execution_count": 31,
   "metadata": {},
   "outputs": [
    {
     "data": {
      "application/vnd.plotly.v1+json": {
       "config": {
        "plotlyServerURL": "https://plot.ly"
       },
       "data": [
        {
         "hovertemplate": "Number of Clusters=%{x}<br>Silhouette Score=%{y}<extra></extra>",
         "legendgroup": "",
         "line": {
          "color": "#636efa",
          "dash": "solid"
         },
         "marker": {
          "symbol": "circle"
         },
         "mode": "lines",
         "name": "",
         "orientation": "v",
         "showlegend": false,
         "type": "scatter",
         "x": [
          2,
          3,
          4,
          5,
          6,
          7,
          8
         ],
         "xaxis": "x",
         "y": [
          0.48633624273507103,
          0.5572040962249696,
          0.5756022440421491,
          0.6372803772917144,
          0.643820684943582,
          0.6182146690407324,
          0.5772299458779708
         ],
         "yaxis": "y"
        }
       ],
       "layout": {
        "legend": {
         "tracegroupgap": 0
        },
        "margin": {
         "t": 60
        },
        "template": {
         "data": {
          "bar": [
           {
            "error_x": {
             "color": "#2a3f5f"
            },
            "error_y": {
             "color": "#2a3f5f"
            },
            "marker": {
             "line": {
              "color": "#E5ECF6",
              "width": 0.5
             },
             "pattern": {
              "fillmode": "overlay",
              "size": 10,
              "solidity": 0.2
             }
            },
            "type": "bar"
           }
          ],
          "barpolar": [
           {
            "marker": {
             "line": {
              "color": "#E5ECF6",
              "width": 0.5
             },
             "pattern": {
              "fillmode": "overlay",
              "size": 10,
              "solidity": 0.2
             }
            },
            "type": "barpolar"
           }
          ],
          "carpet": [
           {
            "aaxis": {
             "endlinecolor": "#2a3f5f",
             "gridcolor": "white",
             "linecolor": "white",
             "minorgridcolor": "white",
             "startlinecolor": "#2a3f5f"
            },
            "baxis": {
             "endlinecolor": "#2a3f5f",
             "gridcolor": "white",
             "linecolor": "white",
             "minorgridcolor": "white",
             "startlinecolor": "#2a3f5f"
            },
            "type": "carpet"
           }
          ],
          "choropleth": [
           {
            "colorbar": {
             "outlinewidth": 0,
             "ticks": ""
            },
            "type": "choropleth"
           }
          ],
          "contour": [
           {
            "colorbar": {
             "outlinewidth": 0,
             "ticks": ""
            },
            "colorscale": [
             [
              0,
              "#0d0887"
             ],
             [
              0.1111111111111111,
              "#46039f"
             ],
             [
              0.2222222222222222,
              "#7201a8"
             ],
             [
              0.3333333333333333,
              "#9c179e"
             ],
             [
              0.4444444444444444,
              "#bd3786"
             ],
             [
              0.5555555555555556,
              "#d8576b"
             ],
             [
              0.6666666666666666,
              "#ed7953"
             ],
             [
              0.7777777777777778,
              "#fb9f3a"
             ],
             [
              0.8888888888888888,
              "#fdca26"
             ],
             [
              1,
              "#f0f921"
             ]
            ],
            "type": "contour"
           }
          ],
          "contourcarpet": [
           {
            "colorbar": {
             "outlinewidth": 0,
             "ticks": ""
            },
            "type": "contourcarpet"
           }
          ],
          "heatmap": [
           {
            "colorbar": {
             "outlinewidth": 0,
             "ticks": ""
            },
            "colorscale": [
             [
              0,
              "#0d0887"
             ],
             [
              0.1111111111111111,
              "#46039f"
             ],
             [
              0.2222222222222222,
              "#7201a8"
             ],
             [
              0.3333333333333333,
              "#9c179e"
             ],
             [
              0.4444444444444444,
              "#bd3786"
             ],
             [
              0.5555555555555556,
              "#d8576b"
             ],
             [
              0.6666666666666666,
              "#ed7953"
             ],
             [
              0.7777777777777778,
              "#fb9f3a"
             ],
             [
              0.8888888888888888,
              "#fdca26"
             ],
             [
              1,
              "#f0f921"
             ]
            ],
            "type": "heatmap"
           }
          ],
          "heatmapgl": [
           {
            "colorbar": {
             "outlinewidth": 0,
             "ticks": ""
            },
            "colorscale": [
             [
              0,
              "#0d0887"
             ],
             [
              0.1111111111111111,
              "#46039f"
             ],
             [
              0.2222222222222222,
              "#7201a8"
             ],
             [
              0.3333333333333333,
              "#9c179e"
             ],
             [
              0.4444444444444444,
              "#bd3786"
             ],
             [
              0.5555555555555556,
              "#d8576b"
             ],
             [
              0.6666666666666666,
              "#ed7953"
             ],
             [
              0.7777777777777778,
              "#fb9f3a"
             ],
             [
              0.8888888888888888,
              "#fdca26"
             ],
             [
              1,
              "#f0f921"
             ]
            ],
            "type": "heatmapgl"
           }
          ],
          "histogram": [
           {
            "marker": {
             "pattern": {
              "fillmode": "overlay",
              "size": 10,
              "solidity": 0.2
             }
            },
            "type": "histogram"
           }
          ],
          "histogram2d": [
           {
            "colorbar": {
             "outlinewidth": 0,
             "ticks": ""
            },
            "colorscale": [
             [
              0,
              "#0d0887"
             ],
             [
              0.1111111111111111,
              "#46039f"
             ],
             [
              0.2222222222222222,
              "#7201a8"
             ],
             [
              0.3333333333333333,
              "#9c179e"
             ],
             [
              0.4444444444444444,
              "#bd3786"
             ],
             [
              0.5555555555555556,
              "#d8576b"
             ],
             [
              0.6666666666666666,
              "#ed7953"
             ],
             [
              0.7777777777777778,
              "#fb9f3a"
             ],
             [
              0.8888888888888888,
              "#fdca26"
             ],
             [
              1,
              "#f0f921"
             ]
            ],
            "type": "histogram2d"
           }
          ],
          "histogram2dcontour": [
           {
            "colorbar": {
             "outlinewidth": 0,
             "ticks": ""
            },
            "colorscale": [
             [
              0,
              "#0d0887"
             ],
             [
              0.1111111111111111,
              "#46039f"
             ],
             [
              0.2222222222222222,
              "#7201a8"
             ],
             [
              0.3333333333333333,
              "#9c179e"
             ],
             [
              0.4444444444444444,
              "#bd3786"
             ],
             [
              0.5555555555555556,
              "#d8576b"
             ],
             [
              0.6666666666666666,
              "#ed7953"
             ],
             [
              0.7777777777777778,
              "#fb9f3a"
             ],
             [
              0.8888888888888888,
              "#fdca26"
             ],
             [
              1,
              "#f0f921"
             ]
            ],
            "type": "histogram2dcontour"
           }
          ],
          "mesh3d": [
           {
            "colorbar": {
             "outlinewidth": 0,
             "ticks": ""
            },
            "type": "mesh3d"
           }
          ],
          "parcoords": [
           {
            "line": {
             "colorbar": {
              "outlinewidth": 0,
              "ticks": ""
             }
            },
            "type": "parcoords"
           }
          ],
          "pie": [
           {
            "automargin": true,
            "type": "pie"
           }
          ],
          "scatter": [
           {
            "fillpattern": {
             "fillmode": "overlay",
             "size": 10,
             "solidity": 0.2
            },
            "type": "scatter"
           }
          ],
          "scatter3d": [
           {
            "line": {
             "colorbar": {
              "outlinewidth": 0,
              "ticks": ""
             }
            },
            "marker": {
             "colorbar": {
              "outlinewidth": 0,
              "ticks": ""
             }
            },
            "type": "scatter3d"
           }
          ],
          "scattercarpet": [
           {
            "marker": {
             "colorbar": {
              "outlinewidth": 0,
              "ticks": ""
             }
            },
            "type": "scattercarpet"
           }
          ],
          "scattergeo": [
           {
            "marker": {
             "colorbar": {
              "outlinewidth": 0,
              "ticks": ""
             }
            },
            "type": "scattergeo"
           }
          ],
          "scattergl": [
           {
            "marker": {
             "colorbar": {
              "outlinewidth": 0,
              "ticks": ""
             }
            },
            "type": "scattergl"
           }
          ],
          "scattermapbox": [
           {
            "marker": {
             "colorbar": {
              "outlinewidth": 0,
              "ticks": ""
             }
            },
            "type": "scattermapbox"
           }
          ],
          "scatterpolar": [
           {
            "marker": {
             "colorbar": {
              "outlinewidth": 0,
              "ticks": ""
             }
            },
            "type": "scatterpolar"
           }
          ],
          "scatterpolargl": [
           {
            "marker": {
             "colorbar": {
              "outlinewidth": 0,
              "ticks": ""
             }
            },
            "type": "scatterpolargl"
           }
          ],
          "scatterternary": [
           {
            "marker": {
             "colorbar": {
              "outlinewidth": 0,
              "ticks": ""
             }
            },
            "type": "scatterternary"
           }
          ],
          "surface": [
           {
            "colorbar": {
             "outlinewidth": 0,
             "ticks": ""
            },
            "colorscale": [
             [
              0,
              "#0d0887"
             ],
             [
              0.1111111111111111,
              "#46039f"
             ],
             [
              0.2222222222222222,
              "#7201a8"
             ],
             [
              0.3333333333333333,
              "#9c179e"
             ],
             [
              0.4444444444444444,
              "#bd3786"
             ],
             [
              0.5555555555555556,
              "#d8576b"
             ],
             [
              0.6666666666666666,
              "#ed7953"
             ],
             [
              0.7777777777777778,
              "#fb9f3a"
             ],
             [
              0.8888888888888888,
              "#fdca26"
             ],
             [
              1,
              "#f0f921"
             ]
            ],
            "type": "surface"
           }
          ],
          "table": [
           {
            "cells": {
             "fill": {
              "color": "#EBF0F8"
             },
             "line": {
              "color": "white"
             }
            },
            "header": {
             "fill": {
              "color": "#C8D4E3"
             },
             "line": {
              "color": "white"
             }
            },
            "type": "table"
           }
          ]
         },
         "layout": {
          "annotationdefaults": {
           "arrowcolor": "#2a3f5f",
           "arrowhead": 0,
           "arrowwidth": 1
          },
          "autotypenumbers": "strict",
          "coloraxis": {
           "colorbar": {
            "outlinewidth": 0,
            "ticks": ""
           }
          },
          "colorscale": {
           "diverging": [
            [
             0,
             "#8e0152"
            ],
            [
             0.1,
             "#c51b7d"
            ],
            [
             0.2,
             "#de77ae"
            ],
            [
             0.3,
             "#f1b6da"
            ],
            [
             0.4,
             "#fde0ef"
            ],
            [
             0.5,
             "#f7f7f7"
            ],
            [
             0.6,
             "#e6f5d0"
            ],
            [
             0.7,
             "#b8e186"
            ],
            [
             0.8,
             "#7fbc41"
            ],
            [
             0.9,
             "#4d9221"
            ],
            [
             1,
             "#276419"
            ]
           ],
           "sequential": [
            [
             0,
             "#0d0887"
            ],
            [
             0.1111111111111111,
             "#46039f"
            ],
            [
             0.2222222222222222,
             "#7201a8"
            ],
            [
             0.3333333333333333,
             "#9c179e"
            ],
            [
             0.4444444444444444,
             "#bd3786"
            ],
            [
             0.5555555555555556,
             "#d8576b"
            ],
            [
             0.6666666666666666,
             "#ed7953"
            ],
            [
             0.7777777777777778,
             "#fb9f3a"
            ],
            [
             0.8888888888888888,
             "#fdca26"
            ],
            [
             1,
             "#f0f921"
            ]
           ],
           "sequentialminus": [
            [
             0,
             "#0d0887"
            ],
            [
             0.1111111111111111,
             "#46039f"
            ],
            [
             0.2222222222222222,
             "#7201a8"
            ],
            [
             0.3333333333333333,
             "#9c179e"
            ],
            [
             0.4444444444444444,
             "#bd3786"
            ],
            [
             0.5555555555555556,
             "#d8576b"
            ],
            [
             0.6666666666666666,
             "#ed7953"
            ],
            [
             0.7777777777777778,
             "#fb9f3a"
            ],
            [
             0.8888888888888888,
             "#fdca26"
            ],
            [
             1,
             "#f0f921"
            ]
           ]
          },
          "colorway": [
           "#636efa",
           "#EF553B",
           "#00cc96",
           "#ab63fa",
           "#FFA15A",
           "#19d3f3",
           "#FF6692",
           "#B6E880",
           "#FF97FF",
           "#FECB52"
          ],
          "font": {
           "color": "#2a3f5f"
          },
          "geo": {
           "bgcolor": "white",
           "lakecolor": "white",
           "landcolor": "#E5ECF6",
           "showlakes": true,
           "showland": true,
           "subunitcolor": "white"
          },
          "hoverlabel": {
           "align": "left"
          },
          "hovermode": "closest",
          "mapbox": {
           "style": "light"
          },
          "paper_bgcolor": "white",
          "plot_bgcolor": "#E5ECF6",
          "polar": {
           "angularaxis": {
            "gridcolor": "white",
            "linecolor": "white",
            "ticks": ""
           },
           "bgcolor": "#E5ECF6",
           "radialaxis": {
            "gridcolor": "white",
            "linecolor": "white",
            "ticks": ""
           }
          },
          "scene": {
           "xaxis": {
            "backgroundcolor": "#E5ECF6",
            "gridcolor": "white",
            "gridwidth": 2,
            "linecolor": "white",
            "showbackground": true,
            "ticks": "",
            "zerolinecolor": "white"
           },
           "yaxis": {
            "backgroundcolor": "#E5ECF6",
            "gridcolor": "white",
            "gridwidth": 2,
            "linecolor": "white",
            "showbackground": true,
            "ticks": "",
            "zerolinecolor": "white"
           },
           "zaxis": {
            "backgroundcolor": "#E5ECF6",
            "gridcolor": "white",
            "gridwidth": 2,
            "linecolor": "white",
            "showbackground": true,
            "ticks": "",
            "zerolinecolor": "white"
           }
          },
          "shapedefaults": {
           "line": {
            "color": "#2a3f5f"
           }
          },
          "ternary": {
           "aaxis": {
            "gridcolor": "white",
            "linecolor": "white",
            "ticks": ""
           },
           "baxis": {
            "gridcolor": "white",
            "linecolor": "white",
            "ticks": ""
           },
           "bgcolor": "#E5ECF6",
           "caxis": {
            "gridcolor": "white",
            "linecolor": "white",
            "ticks": ""
           }
          },
          "title": {
           "x": 0.05
          },
          "xaxis": {
           "automargin": true,
           "gridcolor": "white",
           "linecolor": "white",
           "ticks": "",
           "title": {
            "standoff": 15
           },
           "zerolinecolor": "white",
           "zerolinewidth": 2
          },
          "yaxis": {
           "automargin": true,
           "gridcolor": "white",
           "linecolor": "white",
           "ticks": "",
           "title": {
            "standoff": 15
           },
           "zerolinecolor": "white",
           "zerolinewidth": 2
          }
         }
        },
        "xaxis": {
         "anchor": "y",
         "domain": [
          0,
          1
         ],
         "title": {
          "text": "Number of Clusters"
         }
        },
        "yaxis": {
         "anchor": "x",
         "domain": [
          0,
          1
         ],
         "title": {
          "text": "Silhouette Score"
         }
        }
       }
      }
     },
     "metadata": {},
     "output_type": "display_data"
    }
   ],
   "source": [
    "\n",
    "figSilhouetteWL, optimumSilhouetteValueWL, optimumSilhouetteScoreWL= silhouetteMethod(testWL)\n",
    "silhouetteWLOptimal = \"Optimal Cluster = {}, with {} score\".format(optimumSilhouetteValueWL, optimumSilhouetteScoreWL)\n",
    "figSilhouetteWL"
   ]
  },
  {
   "cell_type": "code",
   "execution_count": 32,
   "metadata": {},
   "outputs": [],
   "source": [
    "kmeansModelWL, kmeansLabelsWL, kmeansCentroidsWL = kmeansMethod(testWL, optimumSilhouetteValueWL)"
   ]
  },
  {
   "cell_type": "code",
   "execution_count": 33,
   "metadata": {},
   "outputs": [
    {
     "data": {
      "text/html": [
       "<div>\n",
       "<style scoped>\n",
       "    .dataframe tbody tr th:only-of-type {\n",
       "        vertical-align: middle;\n",
       "    }\n",
       "\n",
       "    .dataframe tbody tr th {\n",
       "        vertical-align: top;\n",
       "    }\n",
       "\n",
       "    .dataframe thead th {\n",
       "        text-align: right;\n",
       "    }\n",
       "</style>\n",
       "<table border=\"1\" class=\"dataframe\">\n",
       "  <thead>\n",
       "    <tr style=\"text-align: right;\">\n",
       "      <th></th>\n",
       "      <th>IP</th>\n",
       "      <th>Organisasi</th>\n",
       "      <th>Kerja</th>\n",
       "      <th>Cluster</th>\n",
       "    </tr>\n",
       "  </thead>\n",
       "  <tbody>\n",
       "    <tr>\n",
       "      <th>0</th>\n",
       "      <td>3.37</td>\n",
       "      <td>0</td>\n",
       "      <td>0</td>\n",
       "      <td>0</td>\n",
       "    </tr>\n",
       "    <tr>\n",
       "      <th>1</th>\n",
       "      <td>3.80</td>\n",
       "      <td>1</td>\n",
       "      <td>0</td>\n",
       "      <td>1</td>\n",
       "    </tr>\n",
       "    <tr>\n",
       "      <th>2</th>\n",
       "      <td>3.70</td>\n",
       "      <td>1</td>\n",
       "      <td>0</td>\n",
       "      <td>1</td>\n",
       "    </tr>\n",
       "    <tr>\n",
       "      <th>3</th>\n",
       "      <td>3.57</td>\n",
       "      <td>0</td>\n",
       "      <td>0</td>\n",
       "      <td>5</td>\n",
       "    </tr>\n",
       "    <tr>\n",
       "      <th>4</th>\n",
       "      <td>4.00</td>\n",
       "      <td>1</td>\n",
       "      <td>1</td>\n",
       "      <td>3</td>\n",
       "    </tr>\n",
       "    <tr>\n",
       "      <th>...</th>\n",
       "      <td>...</td>\n",
       "      <td>...</td>\n",
       "      <td>...</td>\n",
       "      <td>...</td>\n",
       "    </tr>\n",
       "    <tr>\n",
       "      <th>205</th>\n",
       "      <td>3.48</td>\n",
       "      <td>0</td>\n",
       "      <td>1</td>\n",
       "      <td>2</td>\n",
       "    </tr>\n",
       "    <tr>\n",
       "      <th>206</th>\n",
       "      <td>3.60</td>\n",
       "      <td>0</td>\n",
       "      <td>0</td>\n",
       "      <td>5</td>\n",
       "    </tr>\n",
       "    <tr>\n",
       "      <th>207</th>\n",
       "      <td>3.11</td>\n",
       "      <td>1</td>\n",
       "      <td>0</td>\n",
       "      <td>1</td>\n",
       "    </tr>\n",
       "    <tr>\n",
       "      <th>208</th>\n",
       "      <td>4.00</td>\n",
       "      <td>0</td>\n",
       "      <td>0</td>\n",
       "      <td>5</td>\n",
       "    </tr>\n",
       "    <tr>\n",
       "      <th>209</th>\n",
       "      <td>3.55</td>\n",
       "      <td>1</td>\n",
       "      <td>0</td>\n",
       "      <td>1</td>\n",
       "    </tr>\n",
       "  </tbody>\n",
       "</table>\n",
       "<p>210 rows × 4 columns</p>\n",
       "</div>"
      ],
      "text/plain": [
       "       IP  Organisasi  Kerja Cluster\n",
       "0    3.37           0      0       0\n",
       "1    3.80           1      0       1\n",
       "2    3.70           1      0       1\n",
       "3    3.57           0      0       5\n",
       "4    4.00           1      1       3\n",
       "..    ...         ...    ...     ...\n",
       "205  3.48           0      1       2\n",
       "206  3.60           0      0       5\n",
       "207  3.11           1      0       1\n",
       "208  4.00           0      0       5\n",
       "209  3.55           1      0       1\n",
       "\n",
       "[210 rows x 4 columns]"
      ]
     },
     "execution_count": 33,
     "metadata": {},
     "output_type": "execute_result"
    }
   ],
   "source": [
    "testWL.insert(3,\"Cluster\", kmeansModelWL.labels_.astype(str))\n",
    "testWL"
   ]
  },
  {
   "cell_type": "code",
   "execution_count": 34,
   "metadata": {},
   "outputs": [
    {
     "data": {
      "text/html": [
       "<div>\n",
       "<style scoped>\n",
       "    .dataframe tbody tr th:only-of-type {\n",
       "        vertical-align: middle;\n",
       "    }\n",
       "\n",
       "    .dataframe tbody tr th {\n",
       "        vertical-align: top;\n",
       "    }\n",
       "\n",
       "    .dataframe thead th {\n",
       "        text-align: right;\n",
       "    }\n",
       "</style>\n",
       "<table border=\"1\" class=\"dataframe\">\n",
       "  <thead>\n",
       "    <tr style=\"text-align: right;\">\n",
       "      <th></th>\n",
       "      <th>IP</th>\n",
       "      <th>Organisasi</th>\n",
       "      <th>Kerja</th>\n",
       "      <th>Cluster</th>\n",
       "      <th>Status</th>\n",
       "    </tr>\n",
       "  </thead>\n",
       "  <tbody>\n",
       "    <tr>\n",
       "      <th>0</th>\n",
       "      <td>3.37</td>\n",
       "      <td>0</td>\n",
       "      <td>0</td>\n",
       "      <td>0</td>\n",
       "      <td>Safe</td>\n",
       "    </tr>\n",
       "    <tr>\n",
       "      <th>1</th>\n",
       "      <td>3.80</td>\n",
       "      <td>1</td>\n",
       "      <td>0</td>\n",
       "      <td>1</td>\n",
       "      <td>Safe</td>\n",
       "    </tr>\n",
       "    <tr>\n",
       "      <th>2</th>\n",
       "      <td>3.70</td>\n",
       "      <td>1</td>\n",
       "      <td>0</td>\n",
       "      <td>1</td>\n",
       "      <td>Safe</td>\n",
       "    </tr>\n",
       "    <tr>\n",
       "      <th>3</th>\n",
       "      <td>3.57</td>\n",
       "      <td>0</td>\n",
       "      <td>0</td>\n",
       "      <td>5</td>\n",
       "      <td>Safe</td>\n",
       "    </tr>\n",
       "    <tr>\n",
       "      <th>4</th>\n",
       "      <td>4.00</td>\n",
       "      <td>1</td>\n",
       "      <td>1</td>\n",
       "      <td>3</td>\n",
       "      <td>Safe</td>\n",
       "    </tr>\n",
       "    <tr>\n",
       "      <th>...</th>\n",
       "      <td>...</td>\n",
       "      <td>...</td>\n",
       "      <td>...</td>\n",
       "      <td>...</td>\n",
       "      <td>...</td>\n",
       "    </tr>\n",
       "    <tr>\n",
       "      <th>205</th>\n",
       "      <td>3.48</td>\n",
       "      <td>0</td>\n",
       "      <td>1</td>\n",
       "      <td>2</td>\n",
       "      <td>Safe</td>\n",
       "    </tr>\n",
       "    <tr>\n",
       "      <th>206</th>\n",
       "      <td>3.60</td>\n",
       "      <td>0</td>\n",
       "      <td>0</td>\n",
       "      <td>5</td>\n",
       "      <td>Safe</td>\n",
       "    </tr>\n",
       "    <tr>\n",
       "      <th>207</th>\n",
       "      <td>3.11</td>\n",
       "      <td>1</td>\n",
       "      <td>0</td>\n",
       "      <td>1</td>\n",
       "      <td>Safe</td>\n",
       "    </tr>\n",
       "    <tr>\n",
       "      <th>208</th>\n",
       "      <td>4.00</td>\n",
       "      <td>0</td>\n",
       "      <td>0</td>\n",
       "      <td>5</td>\n",
       "      <td>Safe</td>\n",
       "    </tr>\n",
       "    <tr>\n",
       "      <th>209</th>\n",
       "      <td>3.55</td>\n",
       "      <td>1</td>\n",
       "      <td>0</td>\n",
       "      <td>1</td>\n",
       "      <td>Safe</td>\n",
       "    </tr>\n",
       "  </tbody>\n",
       "</table>\n",
       "<p>210 rows × 5 columns</p>\n",
       "</div>"
      ],
      "text/plain": [
       "       IP  Organisasi  Kerja Cluster Status\n",
       "0    3.37           0      0       0   Safe\n",
       "1    3.80           1      0       1   Safe\n",
       "2    3.70           1      0       1   Safe\n",
       "3    3.57           0      0       5   Safe\n",
       "4    4.00           1      1       3   Safe\n",
       "..    ...         ...    ...     ...    ...\n",
       "205  3.48           0      1       2   Safe\n",
       "206  3.60           0      0       5   Safe\n",
       "207  3.11           1      0       1   Safe\n",
       "208  4.00           0      0       5   Safe\n",
       "209  3.55           1      0       1   Safe\n",
       "\n",
       "[210 rows x 5 columns]"
      ]
     },
     "execution_count": 34,
     "metadata": {},
     "output_type": "execute_result"
    }
   ],
   "source": [
    "warningWL = detectWarning(testWL[\"IP\"].to_list())\n",
    "testWL[\"Status\"] = warningWL\n",
    "testWL"
   ]
  },
  {
   "cell_type": "code",
   "execution_count": 35,
   "metadata": {},
   "outputs": [
    {
     "data": {
      "application/vnd.plotly.v1+json": {
       "config": {
        "plotlyServerURL": "https://plot.ly"
       },
       "data": [
        {
         "hovertemplate": "Cluster=0<br>Status=Safe<br>IP=%{x}<br>Organisasi=%{y}<br>Kerja=%{z}<extra></extra>",
         "legendgroup": "0, Safe",
         "marker": {
          "color": "#636efa",
          "opacity": 0.7,
          "symbol": "circle"
         },
         "mode": "markers",
         "name": "0, Safe",
         "scene": "scene",
         "showlegend": true,
         "type": "scatter3d",
         "x": [
          3.37,
          3.08,
          3.09,
          3.3,
          3.3,
          3.35,
          3.39,
          3.39,
          3.07,
          3.2,
          3.25,
          3.15,
          3.19,
          3.14,
          3,
          3.35,
          3.28,
          3.32,
          3.25,
          3.24,
          3.1,
          3,
          3,
          3,
          3,
          3
         ],
         "y": [
          0,
          0,
          0,
          0,
          0,
          0,
          0,
          0,
          0,
          0,
          0,
          0,
          0,
          0,
          0,
          0,
          0,
          0,
          0,
          0,
          0,
          0,
          0,
          0,
          0,
          0
         ],
         "z": [
          0,
          0,
          0,
          0,
          0,
          0,
          0,
          0,
          0,
          0,
          0,
          0,
          0,
          0,
          0,
          0,
          0,
          0,
          0,
          0,
          0,
          0,
          0,
          0,
          0,
          0
         ]
        },
        {
         "hovertemplate": "Cluster=0<br>Status=Warning<br>IP=%{x}<br>Organisasi=%{y}<br>Kerja=%{z}<extra></extra>",
         "legendgroup": "0, Warning",
         "marker": {
          "color": "#636efa",
          "opacity": 0.7,
          "symbol": "diamond"
         },
         "mode": "markers",
         "name": "0, Warning",
         "scene": "scene",
         "showlegend": true,
         "type": "scatter3d",
         "x": [
          2.83,
          2.54,
          2.8,
          2.75,
          2.54,
          2.6,
          2.88,
          2.83,
          2.8
         ],
         "y": [
          0,
          0,
          0,
          0,
          0,
          0,
          0,
          0,
          0
         ],
         "z": [
          0,
          0,
          0,
          0,
          0,
          0,
          0,
          0,
          0
         ]
        },
        {
         "hovertemplate": "Cluster=1<br>Status=Safe<br>IP=%{x}<br>Organisasi=%{y}<br>Kerja=%{z}<extra></extra>",
         "legendgroup": "1, Safe",
         "marker": {
          "color": "#EF553B",
          "opacity": 0.7,
          "symbol": "circle"
         },
         "mode": "markers",
         "name": "1, Safe",
         "scene": "scene",
         "showlegend": true,
         "type": "scatter3d",
         "x": [
          3.8,
          3.7,
          3.62,
          3.83,
          3.88,
          3.58,
          3.48,
          3.81,
          3.68,
          3.96,
          3.5,
          3.6,
          3.26,
          3.64,
          3.4,
          3.2,
          3.81,
          3.7,
          3.58,
          4,
          3.79,
          3.75,
          3.5,
          3.72,
          3.96,
          3.85,
          3.77,
          3.52,
          3.57,
          4,
          3.48,
          3.91,
          3.83,
          3.33,
          3.8,
          3.39,
          3.77,
          3.52,
          3.17,
          4,
          3.39,
          3.17,
          3.68,
          3.5,
          3.49,
          3.8,
          3.21,
          3.79,
          3.8,
          3.62,
          3.6,
          3.79,
          3.4,
          3,
          3.65,
          3.94,
          3.11,
          3.55
         ],
         "y": [
          1,
          1,
          1,
          1,
          1,
          1,
          1,
          1,
          1,
          1,
          1,
          1,
          1,
          1,
          1,
          1,
          1,
          1,
          1,
          1,
          1,
          1,
          1,
          1,
          1,
          1,
          1,
          1,
          1,
          1,
          1,
          1,
          1,
          1,
          1,
          1,
          1,
          1,
          1,
          1,
          1,
          1,
          1,
          1,
          1,
          1,
          1,
          1,
          1,
          1,
          1,
          1,
          1,
          1,
          1,
          1,
          1,
          1
         ],
         "z": [
          0,
          0,
          0,
          0,
          0,
          0,
          0,
          0,
          0,
          0,
          0,
          0,
          0,
          0,
          0,
          0,
          0,
          0,
          0,
          0,
          0,
          0,
          0,
          0,
          0,
          0,
          0,
          0,
          0,
          0,
          0,
          0,
          0,
          0,
          0,
          0,
          0,
          0,
          0,
          0,
          0,
          0,
          0,
          0,
          0,
          0,
          0,
          0,
          0,
          0,
          0,
          0,
          0,
          0,
          0,
          0,
          0,
          0
         ]
        },
        {
         "hovertemplate": "Cluster=1<br>Status=Warning<br>IP=%{x}<br>Organisasi=%{y}<br>Kerja=%{z}<extra></extra>",
         "legendgroup": "1, Warning",
         "marker": {
          "color": "#EF553B",
          "opacity": 0.7,
          "symbol": "diamond"
         },
         "mode": "markers",
         "name": "1, Warning",
         "scene": "scene",
         "showlegend": true,
         "type": "scatter3d",
         "x": [
          2.75,
          2.85,
          2.83
         ],
         "y": [
          1,
          1,
          1
         ],
         "z": [
          0,
          0,
          0
         ]
        },
        {
         "hovertemplate": "Cluster=5<br>Status=Safe<br>IP=%{x}<br>Organisasi=%{y}<br>Kerja=%{z}<extra></extra>",
         "legendgroup": "5, Safe",
         "marker": {
          "color": "#00cc96",
          "opacity": 0.7,
          "symbol": "circle"
         },
         "mode": "markers",
         "name": "5, Safe",
         "scene": "scene",
         "showlegend": true,
         "type": "scatter3d",
         "x": [
          3.57,
          3.6,
          3.7,
          3.77,
          3.92,
          3.92,
          3.67,
          3.6,
          3.42,
          3.79,
          3.71,
          3.73,
          3.71,
          3.95,
          3.85,
          3.77,
          3.48,
          3.77,
          3.65,
          3.92,
          3.54,
          3.6,
          3.54,
          3.96,
          4,
          3.96,
          3.95,
          3.65,
          3.41,
          3.48,
          3.82,
          3.81,
          3.81,
          3.73,
          4,
          3.84,
          3.55,
          3.76,
          3.52,
          3.7,
          3.65,
          3.74,
          4,
          3.65,
          3.6,
          3.68,
          3.52,
          3.55,
          3.75,
          3.75,
          3.75,
          3.5,
          3.52,
          3.92,
          3.71,
          3.83,
          3.6,
          3.5,
          3.69,
          3.66,
          3.8,
          4,
          3.77,
          3.4,
          3.6,
          4
         ],
         "y": [
          0,
          0,
          0,
          0,
          0,
          0,
          0,
          0,
          0,
          0,
          0,
          0,
          0,
          0,
          0,
          0,
          0,
          0,
          0,
          0,
          0,
          0,
          0,
          0,
          0,
          0,
          0,
          0,
          0,
          0,
          0,
          0,
          0,
          0,
          0,
          0,
          0,
          0,
          0,
          0,
          0,
          0,
          0,
          0,
          0,
          0,
          0,
          0,
          0,
          0,
          0,
          0,
          0,
          0,
          0,
          0,
          0,
          0,
          0,
          0,
          0,
          0,
          0,
          0,
          0,
          0
         ],
         "z": [
          0,
          0,
          0,
          0,
          0,
          0,
          0,
          0,
          0,
          0,
          0,
          0,
          0,
          0,
          0,
          0,
          0,
          0,
          0,
          0,
          0,
          0,
          0,
          0,
          0,
          0,
          0,
          0,
          0,
          0,
          0,
          0,
          0,
          0,
          0,
          0,
          0,
          0,
          0,
          0,
          0,
          0,
          0,
          0,
          0,
          0,
          0,
          0,
          0,
          0,
          0,
          0,
          0,
          0,
          0,
          0,
          0,
          0,
          0,
          0,
          0,
          0,
          0,
          0,
          0,
          0
         ]
        },
        {
         "hovertemplate": "Cluster=3<br>Status=Safe<br>IP=%{x}<br>Organisasi=%{y}<br>Kerja=%{z}<extra></extra>",
         "legendgroup": "3, Safe",
         "marker": {
          "color": "#ab63fa",
          "opacity": 0.7,
          "symbol": "circle"
         },
         "mode": "markers",
         "name": "3, Safe",
         "scene": "scene",
         "showlegend": true,
         "type": "scatter3d",
         "x": [
          4,
          3.77,
          3.79,
          3.17,
          3.8,
          3.86,
          4,
          3.92,
          3.2,
          4,
          3.69,
          3.76,
          3.33,
          3.25,
          3.3,
          3.56,
          3.5,
          3.67,
          3.88,
          3.5,
          3.57,
          3.88
         ],
         "y": [
          1,
          1,
          1,
          1,
          1,
          1,
          1,
          1,
          1,
          1,
          1,
          1,
          1,
          1,
          1,
          1,
          1,
          1,
          1,
          1,
          1,
          1
         ],
         "z": [
          1,
          1,
          1,
          1,
          1,
          1,
          1,
          1,
          1,
          1,
          1,
          1,
          1,
          1,
          1,
          1,
          1,
          1,
          1,
          1,
          1,
          1
         ]
        },
        {
         "hovertemplate": "Cluster=3<br>Status=Warning<br>IP=%{x}<br>Organisasi=%{y}<br>Kerja=%{z}<extra></extra>",
         "legendgroup": "3, Warning",
         "marker": {
          "color": "#ab63fa",
          "opacity": 0.7,
          "symbol": "diamond"
         },
         "mode": "markers",
         "name": "3, Warning",
         "scene": "scene",
         "showlegend": true,
         "type": "scatter3d",
         "x": [
          2.98
         ],
         "y": [
          1
         ],
         "z": [
          1
         ]
        },
        {
         "hovertemplate": "Cluster=2<br>Status=Safe<br>IP=%{x}<br>Organisasi=%{y}<br>Kerja=%{z}<extra></extra>",
         "legendgroup": "2, Safe",
         "marker": {
          "color": "#FFA15A",
          "opacity": 0.7,
          "symbol": "circle"
         },
         "mode": "markers",
         "name": "2, Safe",
         "scene": "scene",
         "showlegend": true,
         "type": "scatter3d",
         "x": [
          3.76,
          3.61,
          3.85,
          4,
          3.12,
          3.88,
          3.59,
          3.88,
          3.96,
          3.8,
          3.71,
          3.62,
          3.02,
          3.32,
          3.5,
          3.83,
          3.48
         ],
         "y": [
          0,
          0,
          0,
          0,
          0,
          0,
          0,
          0,
          0,
          0,
          0,
          0,
          0,
          0,
          0,
          0,
          0
         ],
         "z": [
          1,
          1,
          1,
          1,
          1,
          1,
          1,
          1,
          1,
          1,
          1,
          1,
          1,
          1,
          1,
          1,
          1
         ]
        },
        {
         "hovertemplate": "Cluster=2<br>Status=Warning<br>IP=%{x}<br>Organisasi=%{y}<br>Kerja=%{z}<extra></extra>",
         "legendgroup": "2, Warning",
         "marker": {
          "color": "#FFA15A",
          "opacity": 0.7,
          "symbol": "diamond"
         },
         "mode": "markers",
         "name": "2, Warning",
         "scene": "scene",
         "showlegend": true,
         "type": "scatter3d",
         "x": [
          2.93
         ],
         "y": [
          0
         ],
         "z": [
          1
         ]
        },
        {
         "hovertemplate": "Cluster=4<br>Status=Warning<br>IP=%{x}<br>Organisasi=%{y}<br>Kerja=%{z}<extra></extra>",
         "legendgroup": "4, Warning",
         "marker": {
          "color": "#19d3f3",
          "opacity": 0.7,
          "symbol": "diamond"
         },
         "mode": "markers",
         "name": "4, Warning",
         "scene": "scene",
         "showlegend": true,
         "type": "scatter3d",
         "x": [
          2.2,
          2.78,
          2.43,
          1.62,
          2.12,
          2.08,
          2.08
         ],
         "y": [
          1,
          0,
          0,
          0,
          0,
          0,
          0
         ],
         "z": [
          1,
          1,
          1,
          1,
          1,
          0,
          0
         ]
        }
       ],
       "layout": {
        "legend": {
         "title": {
          "text": "Cluster, Status"
         },
         "tracegroupgap": 0
        },
        "margin": {
         "b": 0,
         "l": 0,
         "r": 0,
         "t": 0
        },
        "scene": {
         "domain": {
          "x": [
           0,
           1
          ],
          "y": [
           0,
           1
          ]
         },
         "xaxis": {
          "title": {
           "text": "IP"
          }
         },
         "yaxis": {
          "title": {
           "text": "Organisasi"
          }
         },
         "zaxis": {
          "title": {
           "text": "Kerja"
          }
         }
        },
        "template": {
         "data": {
          "bar": [
           {
            "error_x": {
             "color": "#2a3f5f"
            },
            "error_y": {
             "color": "#2a3f5f"
            },
            "marker": {
             "line": {
              "color": "#E5ECF6",
              "width": 0.5
             },
             "pattern": {
              "fillmode": "overlay",
              "size": 10,
              "solidity": 0.2
             }
            },
            "type": "bar"
           }
          ],
          "barpolar": [
           {
            "marker": {
             "line": {
              "color": "#E5ECF6",
              "width": 0.5
             },
             "pattern": {
              "fillmode": "overlay",
              "size": 10,
              "solidity": 0.2
             }
            },
            "type": "barpolar"
           }
          ],
          "carpet": [
           {
            "aaxis": {
             "endlinecolor": "#2a3f5f",
             "gridcolor": "white",
             "linecolor": "white",
             "minorgridcolor": "white",
             "startlinecolor": "#2a3f5f"
            },
            "baxis": {
             "endlinecolor": "#2a3f5f",
             "gridcolor": "white",
             "linecolor": "white",
             "minorgridcolor": "white",
             "startlinecolor": "#2a3f5f"
            },
            "type": "carpet"
           }
          ],
          "choropleth": [
           {
            "colorbar": {
             "outlinewidth": 0,
             "ticks": ""
            },
            "type": "choropleth"
           }
          ],
          "contour": [
           {
            "colorbar": {
             "outlinewidth": 0,
             "ticks": ""
            },
            "colorscale": [
             [
              0,
              "#0d0887"
             ],
             [
              0.1111111111111111,
              "#46039f"
             ],
             [
              0.2222222222222222,
              "#7201a8"
             ],
             [
              0.3333333333333333,
              "#9c179e"
             ],
             [
              0.4444444444444444,
              "#bd3786"
             ],
             [
              0.5555555555555556,
              "#d8576b"
             ],
             [
              0.6666666666666666,
              "#ed7953"
             ],
             [
              0.7777777777777778,
              "#fb9f3a"
             ],
             [
              0.8888888888888888,
              "#fdca26"
             ],
             [
              1,
              "#f0f921"
             ]
            ],
            "type": "contour"
           }
          ],
          "contourcarpet": [
           {
            "colorbar": {
             "outlinewidth": 0,
             "ticks": ""
            },
            "type": "contourcarpet"
           }
          ],
          "heatmap": [
           {
            "colorbar": {
             "outlinewidth": 0,
             "ticks": ""
            },
            "colorscale": [
             [
              0,
              "#0d0887"
             ],
             [
              0.1111111111111111,
              "#46039f"
             ],
             [
              0.2222222222222222,
              "#7201a8"
             ],
             [
              0.3333333333333333,
              "#9c179e"
             ],
             [
              0.4444444444444444,
              "#bd3786"
             ],
             [
              0.5555555555555556,
              "#d8576b"
             ],
             [
              0.6666666666666666,
              "#ed7953"
             ],
             [
              0.7777777777777778,
              "#fb9f3a"
             ],
             [
              0.8888888888888888,
              "#fdca26"
             ],
             [
              1,
              "#f0f921"
             ]
            ],
            "type": "heatmap"
           }
          ],
          "heatmapgl": [
           {
            "colorbar": {
             "outlinewidth": 0,
             "ticks": ""
            },
            "colorscale": [
             [
              0,
              "#0d0887"
             ],
             [
              0.1111111111111111,
              "#46039f"
             ],
             [
              0.2222222222222222,
              "#7201a8"
             ],
             [
              0.3333333333333333,
              "#9c179e"
             ],
             [
              0.4444444444444444,
              "#bd3786"
             ],
             [
              0.5555555555555556,
              "#d8576b"
             ],
             [
              0.6666666666666666,
              "#ed7953"
             ],
             [
              0.7777777777777778,
              "#fb9f3a"
             ],
             [
              0.8888888888888888,
              "#fdca26"
             ],
             [
              1,
              "#f0f921"
             ]
            ],
            "type": "heatmapgl"
           }
          ],
          "histogram": [
           {
            "marker": {
             "pattern": {
              "fillmode": "overlay",
              "size": 10,
              "solidity": 0.2
             }
            },
            "type": "histogram"
           }
          ],
          "histogram2d": [
           {
            "colorbar": {
             "outlinewidth": 0,
             "ticks": ""
            },
            "colorscale": [
             [
              0,
              "#0d0887"
             ],
             [
              0.1111111111111111,
              "#46039f"
             ],
             [
              0.2222222222222222,
              "#7201a8"
             ],
             [
              0.3333333333333333,
              "#9c179e"
             ],
             [
              0.4444444444444444,
              "#bd3786"
             ],
             [
              0.5555555555555556,
              "#d8576b"
             ],
             [
              0.6666666666666666,
              "#ed7953"
             ],
             [
              0.7777777777777778,
              "#fb9f3a"
             ],
             [
              0.8888888888888888,
              "#fdca26"
             ],
             [
              1,
              "#f0f921"
             ]
            ],
            "type": "histogram2d"
           }
          ],
          "histogram2dcontour": [
           {
            "colorbar": {
             "outlinewidth": 0,
             "ticks": ""
            },
            "colorscale": [
             [
              0,
              "#0d0887"
             ],
             [
              0.1111111111111111,
              "#46039f"
             ],
             [
              0.2222222222222222,
              "#7201a8"
             ],
             [
              0.3333333333333333,
              "#9c179e"
             ],
             [
              0.4444444444444444,
              "#bd3786"
             ],
             [
              0.5555555555555556,
              "#d8576b"
             ],
             [
              0.6666666666666666,
              "#ed7953"
             ],
             [
              0.7777777777777778,
              "#fb9f3a"
             ],
             [
              0.8888888888888888,
              "#fdca26"
             ],
             [
              1,
              "#f0f921"
             ]
            ],
            "type": "histogram2dcontour"
           }
          ],
          "mesh3d": [
           {
            "colorbar": {
             "outlinewidth": 0,
             "ticks": ""
            },
            "type": "mesh3d"
           }
          ],
          "parcoords": [
           {
            "line": {
             "colorbar": {
              "outlinewidth": 0,
              "ticks": ""
             }
            },
            "type": "parcoords"
           }
          ],
          "pie": [
           {
            "automargin": true,
            "type": "pie"
           }
          ],
          "scatter": [
           {
            "fillpattern": {
             "fillmode": "overlay",
             "size": 10,
             "solidity": 0.2
            },
            "type": "scatter"
           }
          ],
          "scatter3d": [
           {
            "line": {
             "colorbar": {
              "outlinewidth": 0,
              "ticks": ""
             }
            },
            "marker": {
             "colorbar": {
              "outlinewidth": 0,
              "ticks": ""
             }
            },
            "type": "scatter3d"
           }
          ],
          "scattercarpet": [
           {
            "marker": {
             "colorbar": {
              "outlinewidth": 0,
              "ticks": ""
             }
            },
            "type": "scattercarpet"
           }
          ],
          "scattergeo": [
           {
            "marker": {
             "colorbar": {
              "outlinewidth": 0,
              "ticks": ""
             }
            },
            "type": "scattergeo"
           }
          ],
          "scattergl": [
           {
            "marker": {
             "colorbar": {
              "outlinewidth": 0,
              "ticks": ""
             }
            },
            "type": "scattergl"
           }
          ],
          "scattermapbox": [
           {
            "marker": {
             "colorbar": {
              "outlinewidth": 0,
              "ticks": ""
             }
            },
            "type": "scattermapbox"
           }
          ],
          "scatterpolar": [
           {
            "marker": {
             "colorbar": {
              "outlinewidth": 0,
              "ticks": ""
             }
            },
            "type": "scatterpolar"
           }
          ],
          "scatterpolargl": [
           {
            "marker": {
             "colorbar": {
              "outlinewidth": 0,
              "ticks": ""
             }
            },
            "type": "scatterpolargl"
           }
          ],
          "scatterternary": [
           {
            "marker": {
             "colorbar": {
              "outlinewidth": 0,
              "ticks": ""
             }
            },
            "type": "scatterternary"
           }
          ],
          "surface": [
           {
            "colorbar": {
             "outlinewidth": 0,
             "ticks": ""
            },
            "colorscale": [
             [
              0,
              "#0d0887"
             ],
             [
              0.1111111111111111,
              "#46039f"
             ],
             [
              0.2222222222222222,
              "#7201a8"
             ],
             [
              0.3333333333333333,
              "#9c179e"
             ],
             [
              0.4444444444444444,
              "#bd3786"
             ],
             [
              0.5555555555555556,
              "#d8576b"
             ],
             [
              0.6666666666666666,
              "#ed7953"
             ],
             [
              0.7777777777777778,
              "#fb9f3a"
             ],
             [
              0.8888888888888888,
              "#fdca26"
             ],
             [
              1,
              "#f0f921"
             ]
            ],
            "type": "surface"
           }
          ],
          "table": [
           {
            "cells": {
             "fill": {
              "color": "#EBF0F8"
             },
             "line": {
              "color": "white"
             }
            },
            "header": {
             "fill": {
              "color": "#C8D4E3"
             },
             "line": {
              "color": "white"
             }
            },
            "type": "table"
           }
          ]
         },
         "layout": {
          "annotationdefaults": {
           "arrowcolor": "#2a3f5f",
           "arrowhead": 0,
           "arrowwidth": 1
          },
          "autotypenumbers": "strict",
          "coloraxis": {
           "colorbar": {
            "outlinewidth": 0,
            "ticks": ""
           }
          },
          "colorscale": {
           "diverging": [
            [
             0,
             "#8e0152"
            ],
            [
             0.1,
             "#c51b7d"
            ],
            [
             0.2,
             "#de77ae"
            ],
            [
             0.3,
             "#f1b6da"
            ],
            [
             0.4,
             "#fde0ef"
            ],
            [
             0.5,
             "#f7f7f7"
            ],
            [
             0.6,
             "#e6f5d0"
            ],
            [
             0.7,
             "#b8e186"
            ],
            [
             0.8,
             "#7fbc41"
            ],
            [
             0.9,
             "#4d9221"
            ],
            [
             1,
             "#276419"
            ]
           ],
           "sequential": [
            [
             0,
             "#0d0887"
            ],
            [
             0.1111111111111111,
             "#46039f"
            ],
            [
             0.2222222222222222,
             "#7201a8"
            ],
            [
             0.3333333333333333,
             "#9c179e"
            ],
            [
             0.4444444444444444,
             "#bd3786"
            ],
            [
             0.5555555555555556,
             "#d8576b"
            ],
            [
             0.6666666666666666,
             "#ed7953"
            ],
            [
             0.7777777777777778,
             "#fb9f3a"
            ],
            [
             0.8888888888888888,
             "#fdca26"
            ],
            [
             1,
             "#f0f921"
            ]
           ],
           "sequentialminus": [
            [
             0,
             "#0d0887"
            ],
            [
             0.1111111111111111,
             "#46039f"
            ],
            [
             0.2222222222222222,
             "#7201a8"
            ],
            [
             0.3333333333333333,
             "#9c179e"
            ],
            [
             0.4444444444444444,
             "#bd3786"
            ],
            [
             0.5555555555555556,
             "#d8576b"
            ],
            [
             0.6666666666666666,
             "#ed7953"
            ],
            [
             0.7777777777777778,
             "#fb9f3a"
            ],
            [
             0.8888888888888888,
             "#fdca26"
            ],
            [
             1,
             "#f0f921"
            ]
           ]
          },
          "colorway": [
           "#636efa",
           "#EF553B",
           "#00cc96",
           "#ab63fa",
           "#FFA15A",
           "#19d3f3",
           "#FF6692",
           "#B6E880",
           "#FF97FF",
           "#FECB52"
          ],
          "font": {
           "color": "#2a3f5f"
          },
          "geo": {
           "bgcolor": "white",
           "lakecolor": "white",
           "landcolor": "#E5ECF6",
           "showlakes": true,
           "showland": true,
           "subunitcolor": "white"
          },
          "hoverlabel": {
           "align": "left"
          },
          "hovermode": "closest",
          "mapbox": {
           "style": "light"
          },
          "paper_bgcolor": "white",
          "plot_bgcolor": "#E5ECF6",
          "polar": {
           "angularaxis": {
            "gridcolor": "white",
            "linecolor": "white",
            "ticks": ""
           },
           "bgcolor": "#E5ECF6",
           "radialaxis": {
            "gridcolor": "white",
            "linecolor": "white",
            "ticks": ""
           }
          },
          "scene": {
           "xaxis": {
            "backgroundcolor": "#E5ECF6",
            "gridcolor": "white",
            "gridwidth": 2,
            "linecolor": "white",
            "showbackground": true,
            "ticks": "",
            "zerolinecolor": "white"
           },
           "yaxis": {
            "backgroundcolor": "#E5ECF6",
            "gridcolor": "white",
            "gridwidth": 2,
            "linecolor": "white",
            "showbackground": true,
            "ticks": "",
            "zerolinecolor": "white"
           },
           "zaxis": {
            "backgroundcolor": "#E5ECF6",
            "gridcolor": "white",
            "gridwidth": 2,
            "linecolor": "white",
            "showbackground": true,
            "ticks": "",
            "zerolinecolor": "white"
           }
          },
          "shapedefaults": {
           "line": {
            "color": "#2a3f5f"
           }
          },
          "ternary": {
           "aaxis": {
            "gridcolor": "white",
            "linecolor": "white",
            "ticks": ""
           },
           "baxis": {
            "gridcolor": "white",
            "linecolor": "white",
            "ticks": ""
           },
           "bgcolor": "#E5ECF6",
           "caxis": {
            "gridcolor": "white",
            "linecolor": "white",
            "ticks": ""
           }
          },
          "title": {
           "x": 0.05
          },
          "xaxis": {
           "automargin": true,
           "gridcolor": "white",
           "linecolor": "white",
           "ticks": "",
           "title": {
            "standoff": 15
           },
           "zerolinecolor": "white",
           "zerolinewidth": 2
          },
          "yaxis": {
           "automargin": true,
           "gridcolor": "white",
           "linecolor": "white",
           "ticks": "",
           "title": {
            "standoff": 15
           },
           "zerolinecolor": "white",
           "zerolinewidth": 2
          }
         }
        }
       }
      }
     },
     "metadata": {},
     "output_type": "display_data"
    }
   ],
   "source": [
    "kmeansPlot = createPlot3D(testWL, \"IP\", \"Organisasi\", \"Kerja\", \"Cluster\",shape= \"Status\")\n",
    "kmeansPlot"
   ]
  },
  {
   "cell_type": "code",
   "execution_count": 36,
   "metadata": {},
   "outputs": [],
   "source": [
    "#UI Implementation\n",
    "app = dash.Dash(external_stylesheets=[dbc.themes.BOOTSTRAP])"
   ]
  },
  {
   "cell_type": "code",
   "execution_count": 37,
   "metadata": {},
   "outputs": [],
   "source": [
    "# CSS untuk sidebar.\n",
    "SIDEBAR_STYLE = {\n",
    "    \"position\": \"fixed\",\n",
    "    \"top\": 0,\n",
    "    \"left\": 0,\n",
    "    \"bottom\": 0,\n",
    "    \"width\": \"16rem\",\n",
    "    \"padding\": \"2rem 1rem\",\n",
    "    \"background-color\": \"#221E40\",\n",
    "}\n",
    "\n",
    "# CSS untuk main content yang terletak di sebelah kanan sidebar\n",
    "CONTENT_STYLE = {\n",
    "    \"margin-left\": \"18rem\",\n",
    "    \"margin-right\": \"2rem\",\n",
    "    \"padding\": \"2rem 1rem\",\n",
    "}\n",
    "\n",
    "PAGE_SIZE = 10"
   ]
  },
  {
   "cell_type": "code",
   "execution_count": 38,
   "metadata": {},
   "outputs": [],
   "source": [
    "home = html.Div([\n",
    "    html.H2('Raw Data', style = {'font-weight' : 'bold'}),\n",
    "    html.Br(),\n",
    "    dbc.Col([\n",
    "            dbc.Card(\n",
    "                [html.H6(id=\"hael\"), html.H4(\"Data Asli\")],\n",
    "                className=\"p-4 mr-2 shadow-sm  \",\n",
    "            ),\n",
    "            html.Div(\n",
    "                dash_table.DataTable(    \n",
    "                    id='table-filtering',\n",
    "                    columns=[\n",
    "                        {\"name\": i, \"id\": i} for i in data.columns\n",
    "                    ],\n",
    "                    style_header={\n",
    "                        'backgroundColor': 'rgb(50, 50, 50)',\n",
    "                        'color': 'white'\n",
    "                    },\n",
    "                    style_cell={'padding': '5px'},\n",
    "                        style_cell_conditional=[\n",
    "                        {\n",
    "                            'textAlign': 'center'\n",
    "                        }\n",
    "                    ],\n",
    "\n",
    "                    page_current=0,\n",
    "                    page_size=PAGE_SIZE,\n",
    "                    page_action='custom',\n",
    "\n",
    "                    filter_action='custom',\n",
    "                    filter_query='' \n",
    "                )\n",
    "            )\n",
    "        ],\n",
    "    ),\n",
    "])\n",
    "\n",
    "operators = [['ge ', '>='],\n",
    "             ['le ', '<='],\n",
    "             ['lt ', '<'],\n",
    "             ['gt ', '>'],\n",
    "             ['ne ', '!='],\n",
    "             ['eq ', '='],\n",
    "             ['contains '],\n",
    "             ['datestartswith ']]\n",
    "\n",
    "\n",
    "def split_filter_part(filter_part):\n",
    "    for operator_type in operators:\n",
    "        for operator in operator_type:\n",
    "            if operator in filter_part:\n",
    "                name_part, value_part = filter_part.split(operator, 1)\n",
    "                name = name_part[name_part.find('{') + 1: name_part.rfind('}')]\n",
    "\n",
    "                value_part = value_part.strip()\n",
    "                v0 = value_part[0]\n",
    "                if (v0 == value_part[-1] and v0 in (\"'\", '\"', '`')):\n",
    "                    value = value_part[1: -1].replace('\\\\' + v0, v0)\n",
    "                else:\n",
    "                    try:\n",
    "                        value = float(value_part)\n",
    "                    except ValueError:\n",
    "                        value = value_part\n",
    "                return name, operator_type[0].strip(), value\n",
    "\n",
    "    return [None] * 3\n",
    "\n",
    "\n",
    "@app.callback(\n",
    "    Output('table-filtering', \"data\"),\n",
    "    Input('table-filtering', \"page_current\"),\n",
    "    Input('table-filtering', \"page_size\"),\n",
    "    Input('table-filtering', \"filter_query\"))\n",
    "def update_table(page_current,page_size, filter):\n",
    "    print(filter)\n",
    "    filtering_expressions = filter.split(' && ')\n",
    "    print(filtering_expressions)\n",
    "    dff = data\n",
    "    for filter_part in filtering_expressions:\n",
    "        col_name, operator, filter_value = split_filter_part(filter_part)\n",
    "        print(operator)\n",
    "        if operator in ('eq', 'ne', 'lt', 'le', 'gt', 'ge'):\n",
    "            \n",
    "            # these operators match pandas series operator method names\n",
    "            dff = dff.loc[getattr(dff[col_name], operator)(filter_value)]\n",
    "        elif operator == 'contains':\n",
    "            if str(filter_value)[-2:] == \".0\":\n",
    "                filter_value = str(round(filter_value));\n",
    "            else:\n",
    "                filter_value = str(filter_value);\n",
    "            dff = dff.loc[dff[col_name].astype(str).str.contains(filter_value)]\n",
    "        elif operator == 'datestartswith':\n",
    "            # this is a simplification of the front-end filtering logic,\n",
    "            # only works with complete fields in standard format\n",
    "            filter_value = str(filter_value);\n",
    "            dff = dff.loc[dff[col_name].astype(str).str.startswith(filter_value)]\n",
    "\n",
    "    return dff.iloc[\n",
    "        page_current*page_size:(page_current+ 1)*page_size\n",
    "    ].to_dict('rows')"
   ]
  },
  {
   "cell_type": "code",
   "execution_count": 39,
   "metadata": {},
   "outputs": [],
   "source": [
    "page1 = html.Div([\n",
    "    html.H2('Data Cleansing', style = {'font-weight' : 'bold'}),\n",
    "    html.Br(),\n",
    "    dbc.Col([\n",
    "            dbc.Card(\n",
    "                [html.H6(id=\"hael\"), html.H4(\"Remove Unused and Null Data\")],\n",
    "                className=\"p-4 mr-2 shadow-sm  \",\n",
    "            ),\n",
    "            html.Div(\n",
    "                dash_table.DataTable(    \n",
    "                    id='table2-filtering',\n",
    "                    columns=[\n",
    "                        {\"name\": i, \"id\": i} for i in dataFilter.columns\n",
    "                    ],\n",
    "                    style_header={\n",
    "                        'backgroundColor': 'rgb(50, 50, 50)',\n",
    "                        'color': 'white'\n",
    "                    },\n",
    "                    style_cell={'padding': '5px'},\n",
    "                        style_cell_conditional=[\n",
    "                        {\n",
    "                            'textAlign': 'center'\n",
    "                        }\n",
    "                    ],\n",
    "                    page_current=0,\n",
    "                    page_size=PAGE_SIZE,\n",
    "                    page_action='custom',\n",
    "\n",
    "                    filter_action='custom',\n",
    "                    filter_query='' \n",
    "                )\n",
    "            ),\n",
    "        ],\n",
    "    ),\n",
    "    html.Br(),\n",
    "    dbc.Col([\n",
    "            dbc.Card(\n",
    "                [html.H6(id=\"hael\"), html.H4(\"Encoding Data\")],\n",
    "                className=\"p-4 mr-2 shadow-sm  \",\n",
    "            ),\n",
    "            html.Div(\n",
    "                dash_table.DataTable(    \n",
    "                    id='table2-encoding',\n",
    "                    columns=[\n",
    "                        {\"name\": i, \"id\": i} for i in dataGenap.columns\n",
    "                    ],\n",
    "                    style_header={\n",
    "                        'backgroundColor': 'rgb(50, 50, 50)',\n",
    "                        'color': 'white'\n",
    "                    },\n",
    "                    style_cell={'padding': '5px'},\n",
    "                        style_cell_conditional=[\n",
    "                        {\n",
    "                            'textAlign': 'center'\n",
    "                        }\n",
    "                    ],\n",
    "                    page_current=0,\n",
    "                    page_size=PAGE_SIZE,\n",
    "                    page_action='custom',\n",
    "\n",
    "                    filter_action='custom',\n",
    "                    filter_query='' \n",
    "                )\n",
    "            ),\n",
    "        ],\n",
    "    ),\n",
    "])\n",
    "\n",
    "@app.callback(\n",
    "    Output('table2-filtering', \"data\"),\n",
    "    Input('table2-filtering', \"page_current\"),\n",
    "    Input('table2-filtering', \"page_size\"),\n",
    "    Input('table2-filtering', \"filter_query\"))\n",
    "def update_table(page_current,page_size, filter):\n",
    "    print(filter)\n",
    "    filtering_expressions = filter.split(' && ')\n",
    "    dff = dataFilter\n",
    "    for filter_part in filtering_expressions:\n",
    "        col_name, operator, filter_value = split_filter_part(filter_part)\n",
    "        if operator in ('eq', 'ne', 'lt', 'le', 'gt', 'ge'):\n",
    "            # these operators match pandas series operator method names\n",
    "            dff = dff.loc[getattr(dff[col_name], operator)(filter_value)]\n",
    "        elif operator == 'contains':\n",
    "            if str(filter_value)[-2:] == \".0\":\n",
    "                filter_value = str(round(filter_value));\n",
    "            else:\n",
    "                filter_value = str(filter_value);\n",
    "            dff = dff.loc[dff[col_name].astype(str).str.contains(filter_value)]\n",
    "        elif operator == 'datestartswith':\n",
    "            # this is a simplification of the front-end filtering logic,\n",
    "            # only works with complete fields in standard format\n",
    "            filter_value = str(filter_value);\n",
    "            dff = dff.loc[dff[col_name].astype(str).str.startswith(filter_value)]\n",
    "\n",
    "    return dff.iloc[\n",
    "        page_current*page_size:(page_current+ 1)*page_size\n",
    "    ].to_dict('rows')\n",
    "\n",
    "\n",
    "@app.callback(\n",
    "    Output('table2-encoding', \"data\"),\n",
    "    Input('table2-encoding', \"page_current\"),\n",
    "    Input('table2-encoding', \"page_size\"),\n",
    "    Input('table2-encoding', \"filter_query\"))\n",
    "def update_table(page_current,page_size, filter):\n",
    "    print(filter)\n",
    "    filtering_expressions = filter.split(' && ')\n",
    "    dff = dataGenap\n",
    "    for filter_part in filtering_expressions:\n",
    "        col_name, operator, filter_value = split_filter_part(filter_part)\n",
    "        if operator in ('eq', 'ne', 'lt', 'le', 'gt', 'ge'):\n",
    "            # these operators match pandas series operator method names\n",
    "            dff = dff.loc[getattr(dff[col_name], operator)(filter_value)]\n",
    "        elif operator == 'contains':\n",
    "            if str(filter_value)[-2:] == \".0\":\n",
    "                filter_value = str(round(filter_value));\n",
    "            else:\n",
    "                filter_value = str(filter_value);\n",
    "            dff = dff.loc[dff[col_name].astype(str).str.contains(filter_value)]\n",
    "        elif operator == 'datestartswith':\n",
    "            # this is a simplification of the front-end filtering logic,\n",
    "            # only works with complete fields in standard format\n",
    "            filter_value = str(filter_value);\n",
    "            dff = dff.loc[dff[col_name].astype(str).str.startswith(filter_value)]\n",
    "\n",
    "    return dff.iloc[\n",
    "        page_current*page_size:(page_current+ 1)*page_size\n",
    "    ].to_dict('rows')"
   ]
  },
  {
   "cell_type": "code",
   "execution_count": 40,
   "metadata": {},
   "outputs": [],
   "source": [
    "page2 = html.Div([\n",
    "    html.H2('Data Preparation', style = {'font-weight' : 'bold'}),\n",
    "    html.Br(),\n",
    "    dbc.Col([\n",
    "            dbc.Card(\n",
    "                [html.H6(id=\"hael\"), html.H4(\"Outlier Detection\")],\n",
    "                className=\"p-4 mr-2 shadow-sm  \",\n",
    "            ),\n",
    "            html.Div(\n",
    "                dash_table.DataTable(    \n",
    "                    id='table2-outlier',\n",
    "                    columns=[\n",
    "                        {\"name\": i, \"id\": i} for i in fixOutlier.columns\n",
    "                    ],\n",
    "                    style_header={\n",
    "                        'backgroundColor': 'rgb(50, 50, 50)',\n",
    "                        'color': 'white'\n",
    "                    },\n",
    "                    style_cell={'padding': '5px'},\n",
    "                        style_cell_conditional=[\n",
    "                        {\n",
    "                            'textAlign': 'center'\n",
    "                        }\n",
    "                    ],\n",
    "                    page_current=0,\n",
    "                    page_size=PAGE_SIZE,\n",
    "                    page_action='custom',\n",
    "\n",
    "                    filter_action='custom',\n",
    "                    filter_query='' \n",
    "                )\n",
    "            ),\n",
    "            html.Br(),\n",
    "            dcc.Graph(figure=outlierPlot),\n",
    "        ],\n",
    "    ),\n",
    "])\n",
    "\n",
    "@app.callback(\n",
    "    Output('table2-outlier', \"data\"),\n",
    "    Input('table2-outlier', \"page_current\"),\n",
    "    Input('table2-outlier', \"page_size\"),\n",
    "    Input('table2-outlier', \"filter_query\"))\n",
    "def update_table(page_current,page_size, filter):\n",
    "    print(filter)\n",
    "    filtering_expressions = filter.split(' && ')\n",
    "    dff = fixOutlier\n",
    "    for filter_part in filtering_expressions:\n",
    "        col_name, operator, filter_value = split_filter_part(filter_part)\n",
    "        if operator in ('eq', 'ne', 'lt', 'le', 'gt', 'ge'):\n",
    "            # these operators match pandas series operator method names\n",
    "            dff = dff.loc[getattr(dff[col_name], operator)(filter_value)]\n",
    "        elif operator == 'contains':\n",
    "            if str(filter_value)[-2:] == \".0\":\n",
    "                filter_value = str(round(filter_value));\n",
    "            else:\n",
    "                filter_value = str(filter_value);\n",
    "            dff = dff.loc[dff[col_name].astype(str).str.contains(filter_value)]\n",
    "        elif operator == 'datestartswith':\n",
    "            # this is a simplification of the front-end filtering logic,\n",
    "            # only works with complete fields in standard format\n",
    "            filter_value = str(filter_value);\n",
    "            dff = dff.loc[dff[col_name].astype(str).str.startswith(filter_value)]\n",
    "\n",
    "    return dff.iloc[\n",
    "        page_current*page_size:(page_current+ 1)*page_size\n",
    "    ].to_dict('rows')"
   ]
  },
  {
   "cell_type": "code",
   "execution_count": 41,
   "metadata": {},
   "outputs": [],
   "source": [
    "page3 = html.Div([\n",
    "    html.H2('Data Modelling', style = {'font-weight' : 'bold'}),\n",
    "    html.Br(),\n",
    "    dbc.Row([\n",
    "            dbc.Col([\n",
    "                    dbc.Card(\n",
    "                        [html.H6(id=\"hael\"), html.H4(\"Elbow Method\")],\n",
    "                        className=\"p-4 mr-2 shadow-sm  \",\n",
    "                    ),\n",
    "                    dcc.Graph(figure=figElbow),\n",
    "                ],\n",
    "            ),\n",
    "            dbc.Col([\n",
    "                    dbc.Card(\n",
    "                        [html.H6(id=\"hael\"), html.H4(\"Silhouette Coefficient\")],\n",
    "                        className=\"p-4 mr-2 shadow-sm  \",\n",
    "                    ),\n",
    "                    dcc.Graph(figure=figSilhouette),\n",
    "                    html.H6(silhouetteOptimal, style= {'text-align': 'center'}),\n",
    "                ],\n",
    "            ),\n",
    "        ],\n",
    "        className=\"m-2 mb-4\",\n",
    "    ),\n",
    "    html.Br(),\n",
    "    dbc.Col([\n",
    "            dbc.Card(\n",
    "                [html.H6(id=\"sr\"), html.H4(\"Clustering Result\")],\n",
    "                className=\"p-4 mr-2 shadow-sm  \",\n",
    "\n",
    "            ),\n",
    "            html.Div(\n",
    "                dash_table.DataTable(    \n",
    "                    id='table-cluster',\n",
    "                    columns=[\n",
    "                        {\"name\": i, \"id\": i} for i in fixData.columns\n",
    "                    ],\n",
    "                    style_header={\n",
    "                        'backgroundColor': 'rgb(50, 50, 50)',\n",
    "                        'color': 'white'\n",
    "                    },\n",
    "                    style_cell={'padding': '5px'},\n",
    "                        style_cell_conditional=[\n",
    "                        {\n",
    "                            'textAlign': 'center'\n",
    "                        }\n",
    "                    ],\n",
    "\n",
    "                    page_current=0,\n",
    "                    page_size=PAGE_SIZE,\n",
    "                    page_action='custom',\n",
    "\n",
    "                    filter_action='custom',\n",
    "                    filter_query='' \n",
    "                )\n",
    "            ),\n",
    "        ],\n",
    "    ),\n",
    "])\n",
    "\n",
    "@app.callback(\n",
    "    Output('table-cluster', \"data\"),\n",
    "    Input('table-cluster', \"page_current\"),\n",
    "    Input('table-cluster', \"page_size\"),\n",
    "    Input('table-cluster', \"filter_query\"))\n",
    "def update_table(page_current,page_size, filter):\n",
    "    print(filter)\n",
    "    filtering_expressions = filter.split(' && ')\n",
    "    dff = fixData\n",
    "    for filter_part in filtering_expressions:\n",
    "        col_name, operator, filter_value = split_filter_part(filter_part)\n",
    "        if operator in ('eq', 'ne', 'lt', 'le', 'gt', 'ge'):\n",
    "            # these operators match pandas series operator method names\n",
    "            dff = dff.loc[getattr(dff[col_name], operator)(filter_value)]\n",
    "        elif operator == 'contains':\n",
    "            if str(filter_value)[-2:] == \".0\":\n",
    "                filter_value = str(round(filter_value));\n",
    "            else:\n",
    "                filter_value = str(filter_value);\n",
    "            dff = dff.loc[dff[col_name].astype(str).str.contains(filter_value)]\n",
    "        elif operator == 'datestartswith':\n",
    "            # this is a simplification of the front-end filtering logic,\n",
    "            # only works with complete fields in standard format\n",
    "            filter_value = str(filter_value);\n",
    "            dff = dff.loc[dff[col_name].astype(str).str.startswith(filter_value)]\n",
    "\n",
    "    return dff.iloc[\n",
    "        page_current*page_size:(page_current+ 1)*page_size\n",
    "    ].to_dict('rows')"
   ]
  },
  {
   "cell_type": "code",
   "execution_count": 42,
   "metadata": {},
   "outputs": [],
   "source": [
    "page4 = html.Div([\n",
    "    html.H2('Clustering Comparation', style = {'font-weight' : 'bold'}),\n",
    "    html.Br(),\n",
    "    dbc.Card(\n",
    "        [html.H6(id=\"hael\"), html.H4(\"K-Means\")],\n",
    "        className=\"p-4 mr-2 shadow-sm  \",\n",
    "    ),\n",
    "    html.Br(),\n",
    "    dbc.Col([\n",
    "            dbc.Row([\n",
    "                dbc.Col([\n",
    "                        dbc.Card(\n",
    "                            [html.H6(id=\"hael\"), html.H4(\"Elbow Method\")],\n",
    "                            className=\"p-4 mr-2 shadow-sm  \",\n",
    "                        ),\n",
    "                        dcc.Graph(figure=figElbowWL),\n",
    "                    ],\n",
    "                ),\n",
    "                dbc.Col([\n",
    "                        dbc.Card(\n",
    "                            [html.H6(id=\"hael\"), html.H4(\"Silhouette Coefficient\")],\n",
    "                            className=\"p-4 mr-2 shadow-sm  \",\n",
    "                        ),\n",
    "                        dcc.Graph(figure=figSilhouetteWL),\n",
    "                        html.H6(silhouetteWLOptimal, style= {'text-align': 'center'}),\n",
    "                    ],\n",
    "                ),\n",
    "            ],\n",
    "            className=\"m-2 mb-4\",\n",
    "        ),\n",
    "        dcc.Graph(figure=kmeansPlot)\n",
    "    ]),\n",
    "    html.Br(),\n",
    "    dbc.Card(\n",
    "        [html.H6(id=\"hael\"), html.H4(\"K-Means + Local Outlier Factor\")],\n",
    "        className=\"p-4 mr-2 shadow-sm  \",\n",
    "    ),\n",
    "    html.Br(),\n",
    "    dbc.Col([\n",
    "            dbc.Row([\n",
    "                    dbc.Col([\n",
    "                            dbc.Card(\n",
    "                                [html.H6(id=\"hael\"), html.H4(\"Elbow Method\")],\n",
    "                                className=\"p-4 mr-2 shadow-sm  \",\n",
    "                            ),\n",
    "                            dcc.Graph(figure=figElbow),\n",
    "                        ],\n",
    "                    ),\n",
    "                    dbc.Col([\n",
    "                            dbc.Card(\n",
    "                                [html.H6(id=\"hael\"), html.H4(\"Silhouette Coefficient\")],\n",
    "                                className=\"p-4 mr-2 shadow-sm  \",\n",
    "                            ),\n",
    "                            dcc.Graph(figure=figSilhouette),\n",
    "                            html.H6(silhouetteOptimal, style= {'text-align': 'center'}),\n",
    "                        ],\n",
    "                    ),\n",
    "                ],\n",
    "                className=\"m-2 mb-4\",\n",
    "            ),\n",
    "        dcc.Graph(figure=kmeansLofPlot)\n",
    "    ]),\n",
    "])"
   ]
  },
  {
   "cell_type": "code",
   "execution_count": 43,
   "metadata": {},
   "outputs": [],
   "source": [
    "image_filename = 'silVis.png'\n",
    "encoded_image = base64.b64encode(open(image_filename, 'rb').read())\n",
    "\n",
    "page5 = html.Div([\n",
    "    html.H2('Clustering Analysis', style = {'font-weight' : 'bold'}),\n",
    "    html.Br(),\n",
    "    dbc.Row([\n",
    "        dbc.Card(\n",
    "            [html.H6(id=\"judul_final\"), html.H4(\"Final Analysis\")],\n",
    "            className=\"p-4 mr-2 shadow-sm\",\n",
    "        )],\n",
    "            className=\"m-2 mb-4\",\n",
    "        ),\n",
    "    dbc.Row([\n",
    "        dbc.Card(\n",
    "            [html.H6(id=\"3\"), html.H6(\"Cluster 0\"), html.P(\"Mahasiswa yang termasuk dalam Cluster 0 merupakan mahasiswa yang hanya berfokus pada kegiatan akademik tanpa mengikuti organisasi maupun pekerjaan\")],\n",
    "            className=\"p-4 mr-2 shadow-sm\",\n",
    "        )],\n",
    "        className=\"m-2 mb-4\",\n",
    "    ),\n",
    "    dbc.Row([\n",
    "        dbc.Card(\n",
    "            [html.H6(id=\"1\"), html.H6(\"Cluster 1\"), html.Br(), html.P(\"Mahasiswa yang termasuk dalam Cluster 1 merupakan mahasiswa yang mengikuti kegiatan organisasi disamping kegiatan akademik\")],\n",
    "            \n",
    "            className=\"p-4 mr-2 shadow-sm\",\n",
    "        )],\n",
    "        className=\"m-2 mb-4\",\n",
    "    ),\n",
    "    dbc.Row([\n",
    "        dbc.Card(\n",
    "            [html.H6(id=\"0\"), html.H6(\"Cluster 2 : (Cluster Warning)\"), html.Br(), html.P(\"Mahasiswa yang termasuk dalam Cluster 2 merupakan mahasiswa yang tidak hanya mengikuti organisasi, namun juga bekerja disamping kegiatan akademik\")],\n",
    "            className=\"p-4 mr-2 shadow-sm\",\n",
    "        )],\n",
    "        className=\"m-2 mb-4\",\n",
    "    ),\n",
    "    html.Br(),\n",
    "    dbc.Col([\n",
    "            dbc.Card(\n",
    "                [html.H6(id=\"hael\"), html.H4(\"Model Evaluation\")],\n",
    "                className=\"p-4 mr-2 shadow-sm  \",\n",
    "            ),\n",
    "            html.Div([\n",
    "                html.Img(src='data:image/png;base64,{}'.format(encoded_image.decode()))\n",
    "            ], style={'textAlign': 'center'}),\n",
    "            html.H6(silhouetteOptimal, style= {'text-align': 'center'}),\n",
    "        ],\n",
    "    ),\n",
    "])"
   ]
  },
  {
   "cell_type": "code",
   "execution_count": 44,
   "metadata": {},
   "outputs": [],
   "source": [
    "sidebar = html.Div(\n",
    "    [\n",
    "        html.H3(\"Klasterisasi Performa Akademik Mahasiswa\", style={'color': 'white', 'font-family':'sans-serif', 'size':12}),\n",
    "        html.Hr(),\n",
    "        dbc.Nav(\n",
    "            [\n",
    "                dbc.NavLink(\"Raw Data\", href=\"/\", active=\"exact\", style={'color': 'white'}),\n",
    "                dbc.NavLink(\"Data Cleansing\", href=\"/page-1\", active=\"exact\", style={'color': 'white'}),\n",
    "                dbc.NavLink(\"Data Preparation\", href=\"/page-2\", active=\"exact\", style={'color': 'white'}),\n",
    "                dbc.NavLink(\"Modelling\", href=\"/page-3\", active=\"exact\", style={'color': 'white'}),\n",
    "                dbc.NavLink(\"Clustering Comparation\", href=\"/page-4\", active=\"exact\", style={'color': 'white'}),\n",
    "                dbc.NavLink(\"Cluster Analysis\", href=\"/page-5\", active=\"exact\", style={'color': 'white'}),\n",
    "            ],\n",
    "            vertical=True,\n",
    "            pills=True,\n",
    "            style={'marginTop': \"3rem\"}\n",
    "        ),\n",
    "    ],\n",
    "    style=SIDEBAR_STYLE,\n",
    ")\n",
    "\n",
    "content = html.Div(id=\"page-content\", style=CONTENT_STYLE)\n",
    "\n",
    "app.layout = html.Div([dcc.Location(id=\"url\"), sidebar, content])\n",
    "\n",
    "\n",
    "@app.callback(Output(\"page-content\", \"children\"), [Input(\"url\", \"pathname\")])\n",
    "def render_page_content(pathname):\n",
    "    if pathname == \"/\":\n",
    "        return home\n",
    "    elif pathname == \"/page-1\":\n",
    "        return page1\n",
    "    elif pathname == \"/page-2\":\n",
    "        return page2\n",
    "    elif pathname == \"/page-3\":\n",
    "        return page3\n",
    "    elif pathname == \"/page-4\":\n",
    "        return page4\n",
    "    elif pathname == \"/page-5\":\n",
    "        return page5\n",
    "    else:\n",
    "        return dbc.Row([\n",
    "            dbc.Card([\n",
    "                    html.H1(\"404: Not found\", className=\"text-danger\"),\n",
    "                    html.Hr(),\n",
    "                    html.P(f\"The pathname {pathname} was not recognised...\"),\n",
    "                ],\n",
    "                className=\"p-4 mr-2 shadow-sm\",\n",
    "            )],\n",
    "            className=\"m-2 mb-4\",\n",
    "        )\n",
    "    # If the user tries to reach a different page, return a 404 message"
   ]
  },
  {
   "cell_type": "code",
   "execution_count": 45,
   "metadata": {},
   "outputs": [
    {
     "name": "stdout",
     "output_type": "stream",
     "text": [
      "Dash is running on http://127.0.0.1:4050/\n",
      "\n",
      " * Serving Flask app '__main__'\n",
      " * Debug mode: off\n"
     ]
    },
    {
     "name": "stderr",
     "output_type": "stream",
     "text": [
      "WARNING: This is a development server. Do not use it in a production deployment. Use a production WSGI server instead.\n",
      " * Running on http://127.0.0.1:4050\n",
      "Press CTRL+C to quit\n",
      "127.0.0.1 - - [31/Jan/2023 14:45:01] \"GET /page-4 HTTP/1.1\" 200 -\n",
      "127.0.0.1 - - [31/Jan/2023 14:45:01] \"GET /_dash-layout HTTP/1.1\" 200 -\n",
      "127.0.0.1 - - [31/Jan/2023 14:45:01] \"GET /_dash-dependencies HTTP/1.1\" 200 -\n",
      "127.0.0.1 - - [31/Jan/2023 14:45:01] \"GET /_favicon.ico?v=2.7.0 HTTP/1.1\" 200 -\n",
      "127.0.0.1 - - [31/Jan/2023 14:45:01] \"POST /_dash-update-component HTTP/1.1\" 200 -\n",
      "127.0.0.1 - - [31/Jan/2023 14:45:01] \"GET /_dash-component-suites/dash/dcc/async-graph.js HTTP/1.1\" 304 -\n",
      "127.0.0.1 - - [31/Jan/2023 14:45:01] \"GET /_dash-component-suites/dash/dcc/async-plotlyjs.js HTTP/1.1\" 304 -\n"
     ]
    }
   ],
   "source": [
    "if __name__ == \"__main__\":\n",
    "    app.run_server(port=4050)"
   ]
  }
 ],
 "metadata": {
  "kernelspec": {
   "display_name": "Python 3.11.0 64-bit",
   "language": "python",
   "name": "python3"
  },
  "language_info": {
   "codemirror_mode": {
    "name": "ipython",
    "version": 3
   },
   "file_extension": ".py",
   "mimetype": "text/x-python",
   "name": "python",
   "nbconvert_exporter": "python",
   "pygments_lexer": "ipython3",
   "version": "3.11.0 (main, Oct 24 2022, 18:26:48) [MSC v.1933 64 bit (AMD64)]"
  },
  "orig_nbformat": 4,
  "vscode": {
   "interpreter": {
    "hash": "c261aea317cc0286b3b3261fbba9abdec21eaa57589985bb7a274bf54d6cc0a7"
   }
  }
 },
 "nbformat": 4,
 "nbformat_minor": 2
}
